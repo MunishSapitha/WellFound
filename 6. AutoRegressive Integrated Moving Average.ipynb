{
 "cells": [
  {
   "cell_type": "code",
   "execution_count": 2,
   "id": "5ca48dd0",
   "metadata": {},
   "outputs": [],
   "source": [
    "# import library\n",
    "\n",
    "import pandas as pd"
   ]
  },
  {
   "cell_type": "code",
   "execution_count": 3,
   "id": "e270a4d8",
   "metadata": {},
   "outputs": [
    {
     "data": {
      "text/html": [
       "<div>\n",
       "<style scoped>\n",
       "    .dataframe tbody tr th:only-of-type {\n",
       "        vertical-align: middle;\n",
       "    }\n",
       "\n",
       "    .dataframe tbody tr th {\n",
       "        vertical-align: top;\n",
       "    }\n",
       "\n",
       "    .dataframe thead th {\n",
       "        text-align: right;\n",
       "    }\n",
       "</style>\n",
       "<table border=\"1\" class=\"dataframe\">\n",
       "  <thead>\n",
       "    <tr style=\"text-align: right;\">\n",
       "      <th></th>\n",
       "      <th>DATE</th>\n",
       "      <th>CSUSHPISA</th>\n",
       "    </tr>\n",
       "  </thead>\n",
       "  <tbody>\n",
       "    <tr>\n",
       "      <th>0</th>\n",
       "      <td>1987-01-01</td>\n",
       "      <td>63.965</td>\n",
       "    </tr>\n",
       "    <tr>\n",
       "      <th>1</th>\n",
       "      <td>1987-02-01</td>\n",
       "      <td>64.424</td>\n",
       "    </tr>\n",
       "    <tr>\n",
       "      <th>2</th>\n",
       "      <td>1987-03-01</td>\n",
       "      <td>64.736</td>\n",
       "    </tr>\n",
       "    <tr>\n",
       "      <th>3</th>\n",
       "      <td>1987-04-01</td>\n",
       "      <td>65.132</td>\n",
       "    </tr>\n",
       "    <tr>\n",
       "      <th>4</th>\n",
       "      <td>1987-05-01</td>\n",
       "      <td>65.563</td>\n",
       "    </tr>\n",
       "    <tr>\n",
       "      <th>...</th>\n",
       "      <td>...</td>\n",
       "      <td>...</td>\n",
       "    </tr>\n",
       "    <tr>\n",
       "      <th>435</th>\n",
       "      <td>2023-04-01</td>\n",
       "      <td>300.198</td>\n",
       "    </tr>\n",
       "    <tr>\n",
       "      <th>436</th>\n",
       "      <td>2023-05-01</td>\n",
       "      <td>302.620</td>\n",
       "    </tr>\n",
       "    <tr>\n",
       "      <th>437</th>\n",
       "      <td>2023-06-01</td>\n",
       "      <td>304.651</td>\n",
       "    </tr>\n",
       "    <tr>\n",
       "      <th>438</th>\n",
       "      <td>2023-07-01</td>\n",
       "      <td>306.634</td>\n",
       "    </tr>\n",
       "    <tr>\n",
       "      <th>439</th>\n",
       "      <td>2023-08-01</td>\n",
       "      <td>309.404</td>\n",
       "    </tr>\n",
       "  </tbody>\n",
       "</table>\n",
       "<p>440 rows × 2 columns</p>\n",
       "</div>"
      ],
      "text/plain": [
       "           DATE  CSUSHPISA\n",
       "0    1987-01-01     63.965\n",
       "1    1987-02-01     64.424\n",
       "2    1987-03-01     64.736\n",
       "3    1987-04-01     65.132\n",
       "4    1987-05-01     65.563\n",
       "..          ...        ...\n",
       "435  2023-04-01    300.198\n",
       "436  2023-05-01    302.620\n",
       "437  2023-06-01    304.651\n",
       "438  2023-07-01    306.634\n",
       "439  2023-08-01    309.404\n",
       "\n",
       "[440 rows x 2 columns]"
      ]
     },
     "execution_count": 3,
     "metadata": {},
     "output_type": "execute_result"
    }
   ],
   "source": [
    "# load dataset\n",
    "\n",
    "dataset=pd.read_csv(\"CSUSHPISA.csv\")\n",
    "dataset"
   ]
  },
  {
   "cell_type": "markdown",
   "id": "ae7b312c",
   "metadata": {},
   "source": [
    "# Standardization/ Normalizaton\n",
    "# MinMax Scaler"
   ]
  },
  {
   "cell_type": "code",
   "execution_count": 4,
   "id": "68ec4b6a",
   "metadata": {},
   "outputs": [],
   "source": [
    "# Time Series - Univariate\n",
    "\n",
    "column=\"CSUSHPISA\""
   ]
  },
  {
   "cell_type": "code",
   "execution_count": 5,
   "id": "383f232a",
   "metadata": {},
   "outputs": [
    {
     "name": "stdout",
     "output_type": "stream",
     "text": [
      "Len: (440, 1)\n"
     ]
    }
   ],
   "source": [
    "from sklearn.preprocessing import MinMaxScaler\n",
    "Ms = MinMaxScaler()\n",
    "data1= Ms.fit_transform(dataset[[column]])\n",
    "print(\"Len:\",data1.shape)"
   ]
  },
  {
   "cell_type": "code",
   "execution_count": 6,
   "id": "aad1e5ee",
   "metadata": {},
   "outputs": [
    {
     "data": {
      "text/plain": [
       "440"
      ]
     },
     "execution_count": 6,
     "metadata": {},
     "output_type": "execute_result"
    }
   ],
   "source": [
    "len(data1)"
   ]
  },
  {
   "cell_type": "markdown",
   "id": "1c80b448",
   "metadata": {},
   "source": [
    "# Split Training and Testing data using series of data"
   ]
  },
  {
   "cell_type": "code",
   "execution_count": 7,
   "id": "3017a039",
   "metadata": {},
   "outputs": [
    {
     "name": "stdout",
     "output_type": "stream",
     "text": [
      "352\n",
      "X_train length: (352, 1)\n",
      "X_test length: (88, 1)\n",
      "y_train length: (352, 1)\n",
      "y_test length: (88, 1)\n"
     ]
    }
   ],
   "source": [
    "# x_train, x_test  - input training and testing data\n",
    "# y_train, y_test  - output training and testing data\n",
    "\n",
    "training_size = round(len(data1 ) * 0.80)  # Total -440\n",
    "print(training_size)\n",
    "\n",
    "X_train=data1[:training_size]              # first 0:352\n",
    "X_test=data1[training_size:]               # 88: last\n",
    "print(\"X_train length:\",X_train.shape)\n",
    "print(\"X_test length:\",X_test.shape)\n",
    "\n",
    "y_train=data1[:training_size]\n",
    "y_test=data1[training_size:]\n",
    "print(\"y_train length:\",y_train.shape)\n",
    "print(\"y_test length:\",y_test.shape)"
   ]
  },
  {
   "cell_type": "markdown",
   "id": "83c35725",
   "metadata": {},
   "source": [
    "# Model Creation"
   ]
  },
  {
   "cell_type": "code",
   "execution_count": 7,
   "id": "dc6c8b56",
   "metadata": {},
   "outputs": [
    {
     "name": "stderr",
     "output_type": "stream",
     "text": [
      "ERROR: Could not find a version that satisfies the requirement stockFunctions (from versions: none)\n",
      "ERROR: No matching distribution found for stockFunctions\n"
     ]
    }
   ],
   "source": [
    "# ! pip install stockFunctions"
   ]
  },
  {
   "cell_type": "code",
   "execution_count": 8,
   "id": "e5ee203a",
   "metadata": {},
   "outputs": [],
   "source": [
    "import warnings\n",
    "warnings.filterwarnings(\"ignore\")"
   ]
  },
  {
   "cell_type": "code",
   "execution_count": 9,
   "id": "2c71e42f",
   "metadata": {},
   "outputs": [
    {
     "name": "stdout",
     "output_type": "stream",
     "text": [
      "rmse : 0.060241059309298794\n",
      "mape : 0.2218428632090114\n",
      "************\n",
      "rmse : 0.060872714085471194\n",
      "mape : 0.2234090446976679\n",
      "************\n",
      "rmse : 14.915339192609348\n",
      "mape : 3.501660430576733\n",
      "************\n",
      "rmse : 0.026033688796240618\n",
      "mape : 0.1316399427009496\n",
      "************\n"
     ]
    }
   ],
   "source": [
    "# AutoRegressive Moving Average\n",
    "\n",
    "orders=[(1,1,1),(1,1,2),(2,3,1),(2,2,2)]\n",
    "#orderslist=[]\n",
    "#rscorelist=[]\n",
    "for i in orders:\n",
    "    #orderslist.append(i)\n",
    "    from statsmodels.tsa.arima.model import ARIMA\n",
    "    model = ARIMA(X_train, order=i)\n",
    "    model_fit = model.fit()\n",
    "    # make prediction\n",
    "    y_pred= model_fit.predict(len(X_train), len(data1)-1)\n",
    "    #print(y_pred)    \n",
    "    \n",
    "    from sklearn import metrics\n",
    "      \n",
    "    # rmse - root mean squared error\n",
    "    print(\"rmse :\", metrics.mean_squared_error(y_test,y_pred))\n",
    "    # mape - mean absolute percentage error\n",
    "    print(\"mape :\", metrics.mean_absolute_percentage_error(y_test,y_pred))\n",
    "        \n",
    "        \n",
    "    print(\"************\")"
   ]
  },
  {
   "cell_type": "code",
   "execution_count": 10,
   "id": "cb9f2569",
   "metadata": {},
   "outputs": [
    {
     "data": {
      "text/plain": [
       "88"
      ]
     },
     "execution_count": 10,
     "metadata": {},
     "output_type": "execute_result"
    }
   ],
   "source": [
    "len(y_pred)\n"
   ]
  },
  {
   "cell_type": "markdown",
   "id": "2511f4c7",
   "metadata": {},
   "source": [
    "# Graph"
   ]
  },
  {
   "cell_type": "code",
   "execution_count": 11,
   "id": "6c79fdd3",
   "metadata": {},
   "outputs": [
    {
     "data": {
      "image/png": "[encoded data removed]",
      "text/plain": [
       "<Figure size 640x480 with 1 Axes>"
      ]
     },
     "metadata": {},
     "output_type": "display_data"
    }
   ],
   "source": [
    "import matplotlib.pyplot as plt\n",
    "\n",
    "# plt.plot(\"Actual \",y_test)\n",
    "# plt.plot(\"Predicted \", y_pred,colors='red')\n",
    "plt.title(\"CSUSHPISA\")\n",
    "plt.xlabel(\"Days\")\n",
    "plt.ylabel(\"Prices\")\n",
    "plt.plot(y_test, label='Actual')\n",
    "plt.plot(y_pred,color='red', label='Predicted')\n",
    "plt.legend()\n",
    "plt.show()"
   ]
  },
  {
   "cell_type": "code",
   "execution_count": null,
   "id": "4b50a8c9",
   "metadata": {},
   "outputs": [],
   "source": []
  },
  {
   "cell_type": "code",
   "execution_count": 12,
   "id": "8600607b",
   "metadata": {},
   "outputs": [
    {
     "data": {
      "text/plain": [
       "440"
      ]
     },
     "execution_count": 12,
     "metadata": {},
     "output_type": "execute_result"
    }
   ],
   "source": [
    "len(data1)"
   ]
  },
  {
   "cell_type": "code",
   "execution_count": 13,
   "id": "c8b2f913",
   "metadata": {},
   "outputs": [
    {
     "data": {
      "text/plain": [
       "array([[0.47043868],\n",
       "       [0.47310737],\n",
       "       [0.47616312],\n",
       "       [0.48030264],\n",
       "       [0.48426697],\n",
       "       [0.48804387],\n",
       "       [0.49215487],\n",
       "       [0.49609068],\n",
       "       [0.50049096],\n",
       "       [0.50256072],\n",
       "       [0.50532719],\n",
       "       [0.5083096 ],\n",
       "       [0.5119439 ],\n",
       "       [0.51559858],\n",
       "       [0.51941623],\n",
       "       [0.52435839],\n",
       "       [0.52882386],\n",
       "       [0.53308561],\n",
       "       [0.53778332],\n",
       "       [0.542754  ],\n",
       "       [0.54738245],\n",
       "       [0.55110231],\n",
       "       [0.55409287],\n",
       "       [0.55692046],\n",
       "       [0.56004954],\n",
       "       [0.56336605],\n",
       "       [0.56609585],\n",
       "       [0.56927791],\n",
       "       [0.57198734],\n",
       "       [0.57511235],\n",
       "       [0.5773899 ],\n",
       "       [0.57938632],\n",
       "       [0.58089383],\n",
       "       [0.5821528 ],\n",
       "       [0.58296359],\n",
       "       [0.58483371],\n",
       "       [0.58740868],\n",
       "       [0.58953141],\n",
       "       [0.59198823],\n",
       "       [0.59541067],\n",
       "       [0.59871496],\n",
       "       [0.60236148],\n",
       "       [0.60642359],\n",
       "       [0.61110907],\n",
       "       [0.61534231],\n",
       "       [0.61877697],\n",
       "       [0.62092821],\n",
       "       [0.62270462],\n",
       "       [0.62346245],\n",
       "       [0.62608224],\n",
       "       [0.63297601],\n",
       "       [0.64561459],\n",
       "       [0.65958548],\n",
       "       [0.67558945],\n",
       "       [0.6896622 ],\n",
       "       [0.70305045],\n",
       "       [0.71542827],\n",
       "       [0.72669788],\n",
       "       [0.7392346 ],\n",
       "       [0.75411813],\n",
       "       [0.77192704],\n",
       "       [0.79211535],\n",
       "       [0.80974091],\n",
       "       [0.82691015],\n",
       "       [0.8410929 ],\n",
       "       [0.85481118],\n",
       "       [0.868998  ],\n",
       "       [0.88587388],\n",
       "       [0.90432246],\n",
       "       [0.92538268],\n",
       "       [0.94682589],\n",
       "       [0.96392586],\n",
       "       [0.97715115],\n",
       "       [0.98105843],\n",
       "       [0.97681705],\n",
       "       [0.96818761],\n",
       "       [0.95915889],\n",
       "       [0.95729285],\n",
       "       [0.95480751],\n",
       "       [0.95138099],\n",
       "       [0.94956384],\n",
       "       [0.95135247],\n",
       "       [0.95573238],\n",
       "       [0.9624917 ],\n",
       "       [0.97235973],\n",
       "       [0.9806347 ],\n",
       "       [0.9887141 ],\n",
       "       [1.        ]])"
      ]
     },
     "execution_count": 13,
     "metadata": {},
     "output_type": "execute_result"
    }
   ],
   "source": [
    "# Actual values\n",
    "\n",
    "y_test"
   ]
  },
  {
   "cell_type": "code",
   "execution_count": 14,
   "id": "6648219f",
   "metadata": {},
   "outputs": [],
   "source": [
    "# actual values -  y_test\n",
    "# Convert minmax scaler into inverse_transform \n",
    "\n",
    "actual=Ms.inverse_transform(y_test)"
   ]
  },
  {
   "cell_type": "code",
   "execution_count": 15,
   "id": "351e5088",
   "metadata": {},
   "outputs": [
    {
     "data": {
      "text/plain": [
       "array([0.47019015, 0.4726429 , 0.47509564, 0.47754839, 0.48000114,\n",
       "       0.48245389, 0.48490664, 0.48735938, 0.48981213, 0.49226488,\n",
       "       0.49471763, 0.49717038, 0.49962312, 0.50207587, 0.50452862,\n",
       "       0.50698137, 0.50943412, 0.51188686, 0.51433961, 0.51679236,\n",
       "       0.51924511, 0.52169786, 0.5241506 , 0.52660335, 0.5290561 ,\n",
       "       0.53150885, 0.53396159, 0.53641434, 0.53886709, 0.54131984,\n",
       "       0.54377259, 0.54622533, 0.54867808, 0.55113083, 0.55358358,\n",
       "       0.55603633, 0.55848907, 0.56094182, 0.56339457, 0.56584732,\n",
       "       0.56830007, 0.57075281, 0.57320556, 0.57565831, 0.57811106,\n",
       "       0.5805638 , 0.58301655, 0.5854693 , 0.58792205, 0.5903748 ,\n",
       "       0.59282754, 0.59528029, 0.59773304, 0.60018579, 0.60263854,\n",
       "       0.60509128, 0.60754403, 0.60999678, 0.61244953, 0.61490228,\n",
       "       0.61735502, 0.61980777, 0.62226052, 0.62471327, 0.62716602,\n",
       "       0.62961876, 0.63207151, 0.63452426, 0.63697701, 0.63942975,\n",
       "       0.6418825 , 0.64433525, 0.646788  , 0.64924075, 0.65169349,\n",
       "       0.65414624, 0.65659899, 0.65905174, 0.66150449, 0.66395723,\n",
       "       0.66640998, 0.66886273, 0.67131548, 0.67376823, 0.67622097,\n",
       "       0.67867372, 0.68112647, 0.68357922])"
      ]
     },
     "execution_count": 15,
     "metadata": {},
     "output_type": "execute_result"
    }
   ],
   "source": [
    "# Predcted values\n",
    "\n",
    "y_pred"
   ]
  },
  {
   "cell_type": "code",
   "execution_count": 16,
   "id": "9a88227b",
   "metadata": {},
   "outputs": [
    {
     "data": {
      "text/plain": [
       "array([[0.47019015],\n",
       "       [0.4726429 ],\n",
       "       [0.47509564],\n",
       "       [0.47754839],\n",
       "       [0.48000114],\n",
       "       [0.48245389],\n",
       "       [0.48490664],\n",
       "       [0.48735938],\n",
       "       [0.48981213],\n",
       "       [0.49226488],\n",
       "       [0.49471763],\n",
       "       [0.49717038],\n",
       "       [0.49962312],\n",
       "       [0.50207587],\n",
       "       [0.50452862],\n",
       "       [0.50698137],\n",
       "       [0.50943412],\n",
       "       [0.51188686],\n",
       "       [0.51433961],\n",
       "       [0.51679236],\n",
       "       [0.51924511],\n",
       "       [0.52169786],\n",
       "       [0.5241506 ],\n",
       "       [0.52660335],\n",
       "       [0.5290561 ],\n",
       "       [0.53150885],\n",
       "       [0.53396159],\n",
       "       [0.53641434],\n",
       "       [0.53886709],\n",
       "       [0.54131984],\n",
       "       [0.54377259],\n",
       "       [0.54622533],\n",
       "       [0.54867808],\n",
       "       [0.55113083],\n",
       "       [0.55358358],\n",
       "       [0.55603633],\n",
       "       [0.55848907],\n",
       "       [0.56094182],\n",
       "       [0.56339457],\n",
       "       [0.56584732],\n",
       "       [0.56830007],\n",
       "       [0.57075281],\n",
       "       [0.57320556],\n",
       "       [0.57565831],\n",
       "       [0.57811106],\n",
       "       [0.5805638 ],\n",
       "       [0.58301655],\n",
       "       [0.5854693 ],\n",
       "       [0.58792205],\n",
       "       [0.5903748 ],\n",
       "       [0.59282754],\n",
       "       [0.59528029],\n",
       "       [0.59773304],\n",
       "       [0.60018579],\n",
       "       [0.60263854],\n",
       "       [0.60509128],\n",
       "       [0.60754403],\n",
       "       [0.60999678],\n",
       "       [0.61244953],\n",
       "       [0.61490228],\n",
       "       [0.61735502],\n",
       "       [0.61980777],\n",
       "       [0.62226052],\n",
       "       [0.62471327],\n",
       "       [0.62716602],\n",
       "       [0.62961876],\n",
       "       [0.63207151],\n",
       "       [0.63452426],\n",
       "       [0.63697701],\n",
       "       [0.63942975],\n",
       "       [0.6418825 ],\n",
       "       [0.64433525],\n",
       "       [0.646788  ],\n",
       "       [0.64924075],\n",
       "       [0.65169349],\n",
       "       [0.65414624],\n",
       "       [0.65659899],\n",
       "       [0.65905174],\n",
       "       [0.66150449],\n",
       "       [0.66395723],\n",
       "       [0.66640998],\n",
       "       [0.66886273],\n",
       "       [0.67131548],\n",
       "       [0.67376823],\n",
       "       [0.67622097],\n",
       "       [0.67867372],\n",
       "       [0.68112647],\n",
       "       [0.68357922]])"
      ]
     },
     "execution_count": 16,
     "metadata": {},
     "output_type": "execute_result"
    }
   ],
   "source": [
    "# Reshape y_pred values\n",
    "\n",
    "y_pred_reshape=y_pred.reshape(-1,1)\n",
    "y_pred_reshape"
   ]
  },
  {
   "cell_type": "code",
   "execution_count": 17,
   "id": "e6250cd9",
   "metadata": {},
   "outputs": [
    {
     "data": {
      "text/plain": [
       "array([[179.36799999],\n",
       "       [179.96999999],\n",
       "       [180.57199998],\n",
       "       [181.17399997],\n",
       "       [181.77599997],\n",
       "       [182.37799996],\n",
       "       [182.97999996],\n",
       "       [183.58199995],\n",
       "       [184.18399994],\n",
       "       [184.78599994],\n",
       "       [185.38799993],\n",
       "       [185.98999993],\n",
       "       [186.59199992],\n",
       "       [187.19399991],\n",
       "       [187.79599991],\n",
       "       [188.3979999 ],\n",
       "       [188.9999999 ],\n",
       "       [189.60199989],\n",
       "       [190.20399989],\n",
       "       [190.80599988],\n",
       "       [191.40799987],\n",
       "       [192.00999987],\n",
       "       [192.61199986],\n",
       "       [193.21399986],\n",
       "       [193.81599985],\n",
       "       [194.41799984],\n",
       "       [195.01999984],\n",
       "       [195.62199983],\n",
       "       [196.22399983],\n",
       "       [196.82599982],\n",
       "       [197.42799981],\n",
       "       [198.02999981],\n",
       "       [198.6319998 ],\n",
       "       [199.2339998 ],\n",
       "       [199.83599979],\n",
       "       [200.43799979],\n",
       "       [201.03999978],\n",
       "       [201.64199977],\n",
       "       [202.24399977],\n",
       "       [202.84599976],\n",
       "       [203.44799976],\n",
       "       [204.04999975],\n",
       "       [204.65199974],\n",
       "       [205.25399974],\n",
       "       [205.85599973],\n",
       "       [206.45799973],\n",
       "       [207.05999972],\n",
       "       [207.66199972],\n",
       "       [208.26399971],\n",
       "       [208.8659997 ],\n",
       "       [209.4679997 ],\n",
       "       [210.06999969],\n",
       "       [210.67199969],\n",
       "       [211.27399968],\n",
       "       [211.87599967],\n",
       "       [212.47799967],\n",
       "       [213.07999966],\n",
       "       [213.68199966],\n",
       "       [214.28399965],\n",
       "       [214.88599964],\n",
       "       [215.48799964],\n",
       "       [216.08999963],\n",
       "       [216.69199963],\n",
       "       [217.29399962],\n",
       "       [217.89599962],\n",
       "       [218.49799961],\n",
       "       [219.0999996 ],\n",
       "       [219.7019996 ],\n",
       "       [220.30399959],\n",
       "       [220.90599959],\n",
       "       [221.50799958],\n",
       "       [222.10999957],\n",
       "       [222.71199957],\n",
       "       [223.31399956],\n",
       "       [223.91599956],\n",
       "       [224.51799955],\n",
       "       [225.11999954],\n",
       "       [225.72199954],\n",
       "       [226.32399953],\n",
       "       [226.92599953],\n",
       "       [227.52799952],\n",
       "       [228.12999952],\n",
       "       [228.73199951],\n",
       "       [229.3339995 ],\n",
       "       [229.9359995 ],\n",
       "       [230.53799949],\n",
       "       [231.13999949],\n",
       "       [231.74199948]])"
      ]
     },
     "execution_count": 17,
     "metadata": {},
     "output_type": "execute_result"
    }
   ],
   "source": [
    "# predicted values -  y_pred\n",
    "# Convert minmax scaler into inverse_transform \n",
    "\n",
    "predicted=Ms.inverse_transform(y_pred_reshape)\n",
    "predicted"
   ]
  },
  {
   "cell_type": "code",
   "execution_count": 18,
   "id": "e2a9b7a6",
   "metadata": {},
   "outputs": [
    {
     "data": {
      "text/html": [
       "<div>\n",
       "<style scoped>\n",
       "    .dataframe tbody tr th:only-of-type {\n",
       "        vertical-align: middle;\n",
       "    }\n",
       "\n",
       "    .dataframe tbody tr th {\n",
       "        vertical-align: top;\n",
       "    }\n",
       "\n",
       "    .dataframe thead th {\n",
       "        text-align: right;\n",
       "    }\n",
       "</style>\n",
       "<table border=\"1\" class=\"dataframe\">\n",
       "  <thead>\n",
       "    <tr style=\"text-align: right;\">\n",
       "      <th></th>\n",
       "      <th>CSUSHPISA</th>\n",
       "    </tr>\n",
       "  </thead>\n",
       "  <tbody>\n",
       "    <tr>\n",
       "      <th>0</th>\n",
       "      <td>179.429</td>\n",
       "    </tr>\n",
       "    <tr>\n",
       "      <th>1</th>\n",
       "      <td>180.084</td>\n",
       "    </tr>\n",
       "    <tr>\n",
       "      <th>2</th>\n",
       "      <td>180.834</td>\n",
       "    </tr>\n",
       "    <tr>\n",
       "      <th>3</th>\n",
       "      <td>181.85</td>\n",
       "    </tr>\n",
       "    <tr>\n",
       "      <th>4</th>\n",
       "      <td>182.823</td>\n",
       "    </tr>\n",
       "    <tr>\n",
       "      <th>...</th>\n",
       "      <td>...</td>\n",
       "    </tr>\n",
       "    <tr>\n",
       "      <th>83</th>\n",
       "      <td>300.198</td>\n",
       "    </tr>\n",
       "    <tr>\n",
       "      <th>84</th>\n",
       "      <td>302.62</td>\n",
       "    </tr>\n",
       "    <tr>\n",
       "      <th>85</th>\n",
       "      <td>304.651</td>\n",
       "    </tr>\n",
       "    <tr>\n",
       "      <th>86</th>\n",
       "      <td>306.634</td>\n",
       "    </tr>\n",
       "    <tr>\n",
       "      <th>87</th>\n",
       "      <td>309.404</td>\n",
       "    </tr>\n",
       "  </tbody>\n",
       "</table>\n",
       "<p>88 rows × 1 columns</p>\n",
       "</div>"
      ],
      "text/plain": [
       "   CSUSHPISA\n",
       "0    179.429\n",
       "1    180.084\n",
       "2    180.834\n",
       "3     181.85\n",
       "4    182.823\n",
       "..       ...\n",
       "83   300.198\n",
       "84    302.62\n",
       "85   304.651\n",
       "86   306.634\n",
       "87   309.404\n",
       "\n",
       "[88 rows x 1 columns]"
      ]
     },
     "execution_count": 18,
     "metadata": {},
     "output_type": "execute_result"
    }
   ],
   "source": [
    "from UserDefinedFns import conversionSingle\n",
    "actual=Ms.inverse_transform(y_test)\n",
    "actual_price=conversionSingle(actual,[column])\n",
    "actual_price"
   ]
  },
  {
   "cell_type": "code",
   "execution_count": 19,
   "id": "0e847477",
   "metadata": {},
   "outputs": [
    {
     "data": {
      "text/html": [
       "<div>\n",
       "<style scoped>\n",
       "    .dataframe tbody tr th:only-of-type {\n",
       "        vertical-align: middle;\n",
       "    }\n",
       "\n",
       "    .dataframe tbody tr th {\n",
       "        vertical-align: top;\n",
       "    }\n",
       "\n",
       "    .dataframe thead th {\n",
       "        text-align: right;\n",
       "    }\n",
       "</style>\n",
       "<table border=\"1\" class=\"dataframe\">\n",
       "  <thead>\n",
       "    <tr style=\"text-align: right;\">\n",
       "      <th></th>\n",
       "      <th>CSUSHPISA</th>\n",
       "    </tr>\n",
       "  </thead>\n",
       "  <tbody>\n",
       "    <tr>\n",
       "      <th>0</th>\n",
       "      <td>179.368</td>\n",
       "    </tr>\n",
       "    <tr>\n",
       "      <th>1</th>\n",
       "      <td>179.97</td>\n",
       "    </tr>\n",
       "    <tr>\n",
       "      <th>2</th>\n",
       "      <td>180.572</td>\n",
       "    </tr>\n",
       "    <tr>\n",
       "      <th>3</th>\n",
       "      <td>181.174</td>\n",
       "    </tr>\n",
       "    <tr>\n",
       "      <th>4</th>\n",
       "      <td>181.776</td>\n",
       "    </tr>\n",
       "    <tr>\n",
       "      <th>...</th>\n",
       "      <td>...</td>\n",
       "    </tr>\n",
       "    <tr>\n",
       "      <th>83</th>\n",
       "      <td>229.334</td>\n",
       "    </tr>\n",
       "    <tr>\n",
       "      <th>84</th>\n",
       "      <td>229.935999</td>\n",
       "    </tr>\n",
       "    <tr>\n",
       "      <th>85</th>\n",
       "      <td>230.537999</td>\n",
       "    </tr>\n",
       "    <tr>\n",
       "      <th>86</th>\n",
       "      <td>231.139999</td>\n",
       "    </tr>\n",
       "    <tr>\n",
       "      <th>87</th>\n",
       "      <td>231.741999</td>\n",
       "    </tr>\n",
       "  </tbody>\n",
       "</table>\n",
       "<p>88 rows × 1 columns</p>\n",
       "</div>"
      ],
      "text/plain": [
       "     CSUSHPISA\n",
       "0      179.368\n",
       "1       179.97\n",
       "2      180.572\n",
       "3      181.174\n",
       "4      181.776\n",
       "..         ...\n",
       "83     229.334\n",
       "84  229.935999\n",
       "85  230.537999\n",
       "86  231.139999\n",
       "87  231.741999\n",
       "\n",
       "[88 rows x 1 columns]"
      ]
     },
     "execution_count": 19,
     "metadata": {},
     "output_type": "execute_result"
    }
   ],
   "source": [
    "from UserDefinedFns import conversionSingle\n",
    "predicted=Ms.inverse_transform(y_pred_reshape)\n",
    "predicted_price=conversionSingle(predicted,[column])\n",
    "predicted_price"
   ]
  },
  {
   "cell_type": "code",
   "execution_count": 20,
   "id": "630a3ae3",
   "metadata": {},
   "outputs": [
    {
     "data": {
      "image/png": "[encoded data removed]",
      "text/plain": [
       "<Figure size 640x480 with 1 Axes>"
      ]
     },
     "metadata": {},
     "output_type": "display_data"
    }
   ],
   "source": [
    "import matplotlib.pyplot as plt\n",
    "\n",
    "plt.title(\"CSUSHPISA\")\n",
    "plt.xlabel(\"Days\")\n",
    "plt.ylabel(\"Prices\")\n",
    "plt.plot(actual_price, label='Actual')\n",
    "plt.plot(predicted_price,color='red', label='Predicted')\n",
    "plt.legend()\n",
    "plt.show()"
   ]
  },
  {
   "cell_type": "markdown",
   "id": "2d8607b8",
   "metadata": {},
   "source": [
    "# Evaluation Metrics"
   ]
  },
  {
   "cell_type": "code",
   "execution_count": 21,
   "id": "2c2eede6",
   "metadata": {},
   "outputs": [
    {
     "name": "stdout",
     "output_type": "stream",
     "text": [
      "rmse : 1568.2772940298412\n",
      "mape : 0.09983124246841393\n"
     ]
    }
   ],
   "source": [
    "# Evaluation metrics for actual price and predicted price\n",
    "\n",
    "# rmse - root mean squared error\n",
    "print(\"rmse :\", metrics.mean_squared_error(actual_price,predicted_price))\n",
    "# mape - mean absolute percentage error\n",
    "print(\"mape :\", metrics.mean_absolute_percentage_error(actual_price,predicted_price))"
   ]
  },
  {
   "cell_type": "markdown",
   "id": "42f48373",
   "metadata": {},
   "source": [
    "# CSUSHPISA Forcasted for 5 days"
   ]
  },
  {
   "cell_type": "code",
   "execution_count": 22,
   "id": "15ba7e2e",
   "metadata": {},
   "outputs": [
    {
     "data": {
      "text/plain": [
       "array([0.68603197, 0.68848471, 0.69093746, 0.69339021, 0.69584296])"
      ]
     },
     "execution_count": 22,
     "metadata": {},
     "output_type": "execute_result"
    }
   ],
   "source": [
    "# Time Series Analysis - Forcasting\n",
    "# CSUSHPISA Forecast for 5 days \n",
    "\n",
    "forecast=model_fit.predict(len(data1), len(data1)+4)\n",
    "forecast"
   ]
  },
  {
   "cell_type": "code",
   "execution_count": 23,
   "id": "a2593a7b",
   "metadata": {},
   "outputs": [
    {
     "data": {
      "text/html": [
       "<div>\n",
       "<style scoped>\n",
       "    .dataframe tbody tr th:only-of-type {\n",
       "        vertical-align: middle;\n",
       "    }\n",
       "\n",
       "    .dataframe tbody tr th {\n",
       "        vertical-align: top;\n",
       "    }\n",
       "\n",
       "    .dataframe thead th {\n",
       "        text-align: right;\n",
       "    }\n",
       "</style>\n",
       "<table border=\"1\" class=\"dataframe\">\n",
       "  <thead>\n",
       "    <tr style=\"text-align: right;\">\n",
       "      <th></th>\n",
       "      <th>Predicted_CSUSHPISA</th>\n",
       "    </tr>\n",
       "  </thead>\n",
       "  <tbody>\n",
       "    <tr>\n",
       "      <th>0</th>\n",
       "      <td>232.343999</td>\n",
       "    </tr>\n",
       "    <tr>\n",
       "      <th>1</th>\n",
       "      <td>232.945999</td>\n",
       "    </tr>\n",
       "    <tr>\n",
       "      <th>2</th>\n",
       "      <td>233.547999</td>\n",
       "    </tr>\n",
       "    <tr>\n",
       "      <th>3</th>\n",
       "      <td>234.149999</td>\n",
       "    </tr>\n",
       "    <tr>\n",
       "      <th>4</th>\n",
       "      <td>234.751999</td>\n",
       "    </tr>\n",
       "  </tbody>\n",
       "</table>\n",
       "</div>"
      ],
      "text/plain": [
       "  Predicted_CSUSHPISA\n",
       "0          232.343999\n",
       "1          232.945999\n",
       "2          233.547999\n",
       "3          234.149999\n",
       "4          234.751999"
      ]
     },
     "execution_count": 23,
     "metadata": {},
     "output_type": "execute_result"
    }
   ],
   "source": [
    "from UserDefinedFns import conversionSingle\n",
    "\n",
    "forecastTable=conversionSingle(forecast,[\"Predicted_CSUSHPISA\"])\n",
    "forecast_price=Ms.inverse_transform(forecastTable)\n",
    "Predicted_forecast_price=conversionSingle(forecast_price,[\"Predicted_CSUSHPISA\"])\n",
    "Predicted_forecast_price"
   ]
  },
  {
   "cell_type": "code",
   "execution_count": 24,
   "id": "c3c09f4c",
   "metadata": {},
   "outputs": [],
   "source": [
    "Predicted_forecast_price.to_csv(\"Predicted_CSUSHPISA.csv\",index=False)"
   ]
  },
  {
   "cell_type": "code",
   "execution_count": null,
   "id": "3eb7a510",
   "metadata": {},
   "outputs": [],
   "source": []
  }
 ],
 "metadata": {
  "kernelspec": {
   "display_name": "Python 3 (ipykernel)",
   "language": "python",
   "name": "python3"
  },
  "language_info": {
   "codemirror_mode": {
    "name": "ipython",
    "version": 3
   },
   "file_extension": ".py",
   "mimetype": "text/x-python",
   "name": "python",
   "nbconvert_exporter": "python",
   "pygments_lexer": "ipython3",
   "version": "3.11.5"
  }
 },
 "nbformat": 4,
 "nbformat_minor": 5
}
