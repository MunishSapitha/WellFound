{
 "cells": [
  {
   "cell_type": "code",
   "execution_count": 1,
   "id": "5ca48dd0",
   "metadata": {},
   "outputs": [],
   "source": [
    "# import library\n",
    "\n",
    "import pandas as pd"
   ]
  },
  {
   "cell_type": "code",
   "execution_count": 2,
   "id": "e270a4d8",
   "metadata": {},
   "outputs": [
    {
     "data": {
      "text/html": [
       "<div>\n",
       "<style scoped>\n",
       "    .dataframe tbody tr th:only-of-type {\n",
       "        vertical-align: middle;\n",
       "    }\n",
       "\n",
       "    .dataframe tbody tr th {\n",
       "        vertical-align: top;\n",
       "    }\n",
       "\n",
       "    .dataframe thead th {\n",
       "        text-align: right;\n",
       "    }\n",
       "</style>\n",
       "<table border=\"1\" class=\"dataframe\">\n",
       "  <thead>\n",
       "    <tr style=\"text-align: right;\">\n",
       "      <th></th>\n",
       "      <th>DATE</th>\n",
       "      <th>CSUSHPISA</th>\n",
       "    </tr>\n",
       "  </thead>\n",
       "  <tbody>\n",
       "    <tr>\n",
       "      <th>0</th>\n",
       "      <td>1987-01-01</td>\n",
       "      <td>63.965</td>\n",
       "    </tr>\n",
       "    <tr>\n",
       "      <th>1</th>\n",
       "      <td>1987-02-01</td>\n",
       "      <td>64.424</td>\n",
       "    </tr>\n",
       "    <tr>\n",
       "      <th>2</th>\n",
       "      <td>1987-03-01</td>\n",
       "      <td>64.736</td>\n",
       "    </tr>\n",
       "    <tr>\n",
       "      <th>3</th>\n",
       "      <td>1987-04-01</td>\n",
       "      <td>65.132</td>\n",
       "    </tr>\n",
       "    <tr>\n",
       "      <th>4</th>\n",
       "      <td>1987-05-01</td>\n",
       "      <td>65.563</td>\n",
       "    </tr>\n",
       "    <tr>\n",
       "      <th>...</th>\n",
       "      <td>...</td>\n",
       "      <td>...</td>\n",
       "    </tr>\n",
       "    <tr>\n",
       "      <th>435</th>\n",
       "      <td>2023-04-01</td>\n",
       "      <td>300.198</td>\n",
       "    </tr>\n",
       "    <tr>\n",
       "      <th>436</th>\n",
       "      <td>2023-05-01</td>\n",
       "      <td>302.620</td>\n",
       "    </tr>\n",
       "    <tr>\n",
       "      <th>437</th>\n",
       "      <td>2023-06-01</td>\n",
       "      <td>304.651</td>\n",
       "    </tr>\n",
       "    <tr>\n",
       "      <th>438</th>\n",
       "      <td>2023-07-01</td>\n",
       "      <td>306.634</td>\n",
       "    </tr>\n",
       "    <tr>\n",
       "      <th>439</th>\n",
       "      <td>2023-08-01</td>\n",
       "      <td>309.404</td>\n",
       "    </tr>\n",
       "  </tbody>\n",
       "</table>\n",
       "<p>440 rows × 2 columns</p>\n",
       "</div>"
      ],
      "text/plain": [
       "           DATE  CSUSHPISA\n",
       "0    1987-01-01     63.965\n",
       "1    1987-02-01     64.424\n",
       "2    1987-03-01     64.736\n",
       "3    1987-04-01     65.132\n",
       "4    1987-05-01     65.563\n",
       "..          ...        ...\n",
       "435  2023-04-01    300.198\n",
       "436  2023-05-01    302.620\n",
       "437  2023-06-01    304.651\n",
       "438  2023-07-01    306.634\n",
       "439  2023-08-01    309.404\n",
       "\n",
       "[440 rows x 2 columns]"
      ]
     },
     "execution_count": 2,
     "metadata": {},
     "output_type": "execute_result"
    }
   ],
   "source": [
    "# load dataset\n",
    "\n",
    "dataset=pd.read_csv(\"CSUSHPISA.csv\")\n",
    "dataset"
   ]
  },
  {
   "cell_type": "markdown",
   "id": "ae7b312c",
   "metadata": {},
   "source": [
    "# Standardization/ Normalizaton\n",
    "# MinMax Scaler"
   ]
  },
  {
   "cell_type": "code",
   "execution_count": 3,
   "id": "68ec4b6a",
   "metadata": {},
   "outputs": [],
   "source": [
    "# Time Series - Univariate\n",
    "\n",
    "column=\"CSUSHPISA\""
   ]
  },
  {
   "cell_type": "code",
   "execution_count": 4,
   "id": "383f232a",
   "metadata": {},
   "outputs": [
    {
     "name": "stdout",
     "output_type": "stream",
     "text": [
      "Len: (440, 1)\n"
     ]
    }
   ],
   "source": [
    "from sklearn.preprocessing import MinMaxScaler\n",
    "Ms = MinMaxScaler()\n",
    "data1= Ms.fit_transform(dataset[[column]])\n",
    "print(\"Len:\",data1.shape)"
   ]
  },
  {
   "cell_type": "code",
   "execution_count": 5,
   "id": "aad1e5ee",
   "metadata": {},
   "outputs": [
    {
     "data": {
      "text/plain": [
       "440"
      ]
     },
     "execution_count": 5,
     "metadata": {},
     "output_type": "execute_result"
    }
   ],
   "source": [
    "len(data1)"
   ]
  },
  {
   "cell_type": "markdown",
   "id": "1c80b448",
   "metadata": {},
   "source": [
    "# Split Training and Testing data using series of data"
   ]
  },
  {
   "cell_type": "code",
   "execution_count": 6,
   "id": "3017a039",
   "metadata": {},
   "outputs": [
    {
     "name": "stdout",
     "output_type": "stream",
     "text": [
      "352\n",
      "X_train length: (352, 1)\n",
      "X_test length: (88, 1)\n",
      "y_train length: (352, 1)\n",
      "y_test length: (88, 1)\n"
     ]
    }
   ],
   "source": [
    "# x_train, x_test  - input training and testing data\n",
    "# y_train, y_test  - output training and testing data\n",
    "\n",
    "training_size = round(len(data1 ) * 0.80)  # Total -440\n",
    "print(training_size)\n",
    "\n",
    "X_train=data1[:training_size]              # first 0:352\n",
    "X_test=data1[training_size:]               # 88: last\n",
    "print(\"X_train length:\",X_train.shape)\n",
    "print(\"X_test length:\",X_test.shape)\n",
    "\n",
    "y_train=data1[:training_size]\n",
    "y_test=data1[training_size:]\n",
    "print(\"y_train length:\",y_train.shape)\n",
    "print(\"y_test length:\",y_test.shape)"
   ]
  },
  {
   "cell_type": "markdown",
   "id": "83c35725",
   "metadata": {},
   "source": [
    "# Model Creation"
   ]
  },
  {
   "cell_type": "code",
   "execution_count": 7,
   "id": "dc6c8b56",
   "metadata": {},
   "outputs": [
    {
     "name": "stderr",
     "output_type": "stream",
     "text": [
      "ERROR: Could not find a version that satisfies the requirement stockFunctions (from versions: none)\n",
      "ERROR: No matching distribution found for stockFunctions\n"
     ]
    }
   ],
   "source": [
    "# ! pip install stockFunctions"
   ]
  },
  {
   "cell_type": "code",
   "execution_count": 15,
   "id": "e5ee203a",
   "metadata": {},
   "outputs": [],
   "source": [
    "import warnings\n",
    "warnings.filterwarnings(\"ignore\")"
   ]
  },
  {
   "cell_type": "code",
   "execution_count": 16,
   "id": "2c71e42f",
   "metadata": {},
   "outputs": [
    {
     "name": "stdout",
     "output_type": "stream",
     "text": [
      "Trend=n\n",
      "rmse : 0.48812663314462673\n",
      "mape : 0.9443365998609984\n",
      "************\n",
      "Trend=t\n",
      "rmse : 0.05015359455983695\n",
      "mape : 0.21506652104305735\n",
      "************\n",
      "Trend=c\n",
      "rmse : 0.24194714510850074\n",
      "mape : 0.6267146492557208\n",
      "************\n",
      "Trend=ct\n",
      "rmse : 0.043354431187190734\n",
      "mape : 0.18764212570429414\n",
      "************\n"
     ]
    }
   ],
   "source": [
    "from sklearn.metrics import mean_squared_error\n",
    "\n",
    "trends=['n','t','c','ct']\n",
    "orders=[(0,0,1),(0,0,2)]\n",
    "\n",
    "from statsmodels.tsa.arima.model import ARIMA\n",
    "  \n",
    "for td in trends:        \n",
    "        #print(td)\n",
    "        #trendslist.append(td)\n",
    "        model = ARIMA(X_train, order=(0,0,10),trend=td)\n",
    "        model_fit = model.fit()\n",
    "        # make prediction\n",
    "        y_pred= model_fit.predict(len(X_train), len(data1)-1)\n",
    "        #print(y_pred)\n",
    "        #mse=mean_squared_error(y_test,y_pred,squared=False)\n",
    "        \n",
    "        # from UserDefinedFns import rmsemape\n",
    "        # rmsemape(y_test,y_pred)\n",
    "        \n",
    "        from sklearn import metrics\n",
    "        print(\"Trend={}\".format(td))\n",
    "        # rmse - root mean squared error\n",
    "        print(\"rmse :\", metrics.mean_squared_error(y_test,y_pred))\n",
    "        # mape - mean absolute percentage error\n",
    "        print(\"mape :\", metrics.mean_absolute_percentage_error(y_test,y_pred))\n",
    "        \n",
    "        \n",
    "        print(\"************\")"
   ]
  },
  {
   "cell_type": "code",
   "execution_count": 9,
   "id": "cb9f2569",
   "metadata": {},
   "outputs": [
    {
     "data": {
      "text/plain": [
       "88"
      ]
     },
     "execution_count": 9,
     "metadata": {},
     "output_type": "execute_result"
    }
   ],
   "source": [
    "len(y_pred)"
   ]
  },
  {
   "cell_type": "markdown",
   "id": "9c6afafa",
   "metadata": {},
   "source": [
    "# Trend=ct"
   ]
  },
  {
   "cell_type": "code",
   "execution_count": 17,
   "id": "71efbe39",
   "metadata": {},
   "outputs": [
    {
     "name": "stdout",
     "output_type": "stream",
     "text": [
      "Trend=ct\n",
      "rmse : 0.04350462014416851\n",
      "mape : 0.18830861947609187\n",
      "************\n"
     ]
    }
   ],
   "source": [
    "# choose minimum rmse and mape values of trend\n",
    "\n",
    "\n",
    "td='ct'\n",
    "\n",
    "model =  ARIMA(X_train, order=(0,0,30),trend=td)\n",
    "model_fit = model.fit()\n",
    "# make prediction\n",
    "y_pred= model_fit.predict(len(X_train), len(data1)-1)\n",
    "#print(y_pred)\n",
    "from sklearn.metrics import r2_score\n",
    "mse=mean_squared_error(y_test,y_pred,squared=False)\n",
    "\n",
    "# from stockFunctions import rmsemape\n",
    "\n",
    "from sklearn import metrics\n",
    "print(\"Trend={}\".format(td))\n",
    "# rmse - root mean squared error\n",
    "print(\"rmse :\", metrics.mean_squared_error(y_test,y_pred))\n",
    "# mape - mean absolute percentage error\n",
    "print(\"mape :\", metrics.mean_absolute_percentage_error(y_test,y_pred))\n",
    "\n",
    "# rmsemape(y_test,y_pred)\n",
    "print(\"************\")"
   ]
  },
  {
   "cell_type": "markdown",
   "id": "2511f4c7",
   "metadata": {},
   "source": [
    "# Graph"
   ]
  },
  {
   "cell_type": "code",
   "execution_count": 18,
   "id": "6c79fdd3",
   "metadata": {},
   "outputs": [
    {
     "data": {
      "image/png": "[encoded data removed]",
      "text/plain": [
       "<Figure size 640x480 with 1 Axes>"
      ]
     },
     "metadata": {},
     "output_type": "display_data"
    }
   ],
   "source": [
    "import matplotlib.pyplot as plt\n",
    "\n",
    "# plt.plot(\"Actual \",y_test)\n",
    "# plt.plot(\"Predicted \", y_pred,colors='red')\n",
    "plt.title(\"CSUSHPISA\")\n",
    "plt.xlabel(\"Days\")\n",
    "plt.ylabel(\"Prices\")\n",
    "plt.plot(y_test, label='Actual')\n",
    "plt.plot(y_pred,color='red', label='Predicted')\n",
    "plt.legend()\n",
    "plt.show()"
   ]
  },
  {
   "cell_type": "code",
   "execution_count": 19,
   "id": "8600607b",
   "metadata": {},
   "outputs": [
    {
     "data": {
      "text/plain": [
       "440"
      ]
     },
     "execution_count": 19,
     "metadata": {},
     "output_type": "execute_result"
    }
   ],
   "source": [
    "len(data1)"
   ]
  },
  {
   "cell_type": "code",
   "execution_count": 20,
   "id": "c8b2f913",
   "metadata": {},
   "outputs": [
    {
     "data": {
      "text/plain": [
       "array([[0.47043868],\n",
       "       [0.47310737],\n",
       "       [0.47616312],\n",
       "       [0.48030264],\n",
       "       [0.48426697],\n",
       "       [0.48804387],\n",
       "       [0.49215487],\n",
       "       [0.49609068],\n",
       "       [0.50049096],\n",
       "       [0.50256072],\n",
       "       [0.50532719],\n",
       "       [0.5083096 ],\n",
       "       [0.5119439 ],\n",
       "       [0.51559858],\n",
       "       [0.51941623],\n",
       "       [0.52435839],\n",
       "       [0.52882386],\n",
       "       [0.53308561],\n",
       "       [0.53778332],\n",
       "       [0.542754  ],\n",
       "       [0.54738245],\n",
       "       [0.55110231],\n",
       "       [0.55409287],\n",
       "       [0.55692046],\n",
       "       [0.56004954],\n",
       "       [0.56336605],\n",
       "       [0.56609585],\n",
       "       [0.56927791],\n",
       "       [0.57198734],\n",
       "       [0.57511235],\n",
       "       [0.5773899 ],\n",
       "       [0.57938632],\n",
       "       [0.58089383],\n",
       "       [0.5821528 ],\n",
       "       [0.58296359],\n",
       "       [0.58483371],\n",
       "       [0.58740868],\n",
       "       [0.58953141],\n",
       "       [0.59198823],\n",
       "       [0.59541067],\n",
       "       [0.59871496],\n",
       "       [0.60236148],\n",
       "       [0.60642359],\n",
       "       [0.61110907],\n",
       "       [0.61534231],\n",
       "       [0.61877697],\n",
       "       [0.62092821],\n",
       "       [0.62270462],\n",
       "       [0.62346245],\n",
       "       [0.62608224],\n",
       "       [0.63297601],\n",
       "       [0.64561459],\n",
       "       [0.65958548],\n",
       "       [0.67558945],\n",
       "       [0.6896622 ],\n",
       "       [0.70305045],\n",
       "       [0.71542827],\n",
       "       [0.72669788],\n",
       "       [0.7392346 ],\n",
       "       [0.75411813],\n",
       "       [0.77192704],\n",
       "       [0.79211535],\n",
       "       [0.80974091],\n",
       "       [0.82691015],\n",
       "       [0.8410929 ],\n",
       "       [0.85481118],\n",
       "       [0.868998  ],\n",
       "       [0.88587388],\n",
       "       [0.90432246],\n",
       "       [0.92538268],\n",
       "       [0.94682589],\n",
       "       [0.96392586],\n",
       "       [0.97715115],\n",
       "       [0.98105843],\n",
       "       [0.97681705],\n",
       "       [0.96818761],\n",
       "       [0.95915889],\n",
       "       [0.95729285],\n",
       "       [0.95480751],\n",
       "       [0.95138099],\n",
       "       [0.94956384],\n",
       "       [0.95135247],\n",
       "       [0.95573238],\n",
       "       [0.9624917 ],\n",
       "       [0.97235973],\n",
       "       [0.9806347 ],\n",
       "       [0.9887141 ],\n",
       "       [1.        ]])"
      ]
     },
     "execution_count": 20,
     "metadata": {},
     "output_type": "execute_result"
    }
   ],
   "source": [
    "# Actual values\n",
    "\n",
    "y_test"
   ]
  },
  {
   "cell_type": "code",
   "execution_count": 21,
   "id": "6648219f",
   "metadata": {},
   "outputs": [],
   "source": [
    "# actual values -  y_test\n",
    "# Convert minmax scaler into inverse_transform \n",
    "\n",
    "actual=Ms.inverse_transform(y_test)"
   ]
  },
  {
   "cell_type": "code",
   "execution_count": 22,
   "id": "351e5088",
   "metadata": {},
   "outputs": [
    {
     "data": {
      "text/plain": [
       "array([0.47270325, 0.47411883, 0.47553442, 0.47695001, 0.47836559,\n",
       "       0.47978118, 0.48119677, 0.48261235, 0.48402794, 0.48544352,\n",
       "       0.48685911, 0.48827469, 0.48969028, 0.49110586, 0.49252145,\n",
       "       0.49393703, 0.49535261, 0.49676819, 0.49818378, 0.49959936,\n",
       "       0.50101494, 0.50243052, 0.5038461 , 0.50526168, 0.50667726,\n",
       "       0.50809284, 0.50950842, 0.510924  , 0.51233958, 0.51375516,\n",
       "       0.51517073, 0.51658631, 0.51800189, 0.51941747, 0.52083305,\n",
       "       0.52224863, 0.5236642 , 0.52507978, 0.52649536, 0.52791094,\n",
       "       0.52932652, 0.53074209, 0.53215767, 0.53357325, 0.53498883,\n",
       "       0.53640441, 0.53781998, 0.53923556, 0.54065114, 0.54206672,\n",
       "       0.5434823 , 0.54489788, 0.54631345, 0.54772903, 0.54914461,\n",
       "       0.55056019, 0.55197577, 0.55339134, 0.55480692, 0.5562225 ,\n",
       "       0.55763808, 0.55905366, 0.56046923, 0.56188481, 0.56330039,\n",
       "       0.56471597, 0.56613155, 0.56754712, 0.5689627 , 0.57037828,\n",
       "       0.57179386, 0.57320944, 0.57462502, 0.57604059, 0.57745617,\n",
       "       0.57887175, 0.58028733, 0.58170291, 0.58311848, 0.58453406,\n",
       "       0.58594964, 0.58736522, 0.5887808 , 0.59019637, 0.59161195,\n",
       "       0.59302753, 0.59444311, 0.59585869])"
      ]
     },
     "execution_count": 22,
     "metadata": {},
     "output_type": "execute_result"
    }
   ],
   "source": [
    "# Predcted values\n",
    "\n",
    "y_pred"
   ]
  },
  {
   "cell_type": "code",
   "execution_count": 23,
   "id": "9a88227b",
   "metadata": {},
   "outputs": [
    {
     "data": {
      "text/plain": [
       "array([[0.47270325],\n",
       "       [0.47411883],\n",
       "       [0.47553442],\n",
       "       [0.47695001],\n",
       "       [0.47836559],\n",
       "       [0.47978118],\n",
       "       [0.48119677],\n",
       "       [0.48261235],\n",
       "       [0.48402794],\n",
       "       [0.48544352],\n",
       "       [0.48685911],\n",
       "       [0.48827469],\n",
       "       [0.48969028],\n",
       "       [0.49110586],\n",
       "       [0.49252145],\n",
       "       [0.49393703],\n",
       "       [0.49535261],\n",
       "       [0.49676819],\n",
       "       [0.49818378],\n",
       "       [0.49959936],\n",
       "       [0.50101494],\n",
       "       [0.50243052],\n",
       "       [0.5038461 ],\n",
       "       [0.50526168],\n",
       "       [0.50667726],\n",
       "       [0.50809284],\n",
       "       [0.50950842],\n",
       "       [0.510924  ],\n",
       "       [0.51233958],\n",
       "       [0.51375516],\n",
       "       [0.51517073],\n",
       "       [0.51658631],\n",
       "       [0.51800189],\n",
       "       [0.51941747],\n",
       "       [0.52083305],\n",
       "       [0.52224863],\n",
       "       [0.5236642 ],\n",
       "       [0.52507978],\n",
       "       [0.52649536],\n",
       "       [0.52791094],\n",
       "       [0.52932652],\n",
       "       [0.53074209],\n",
       "       [0.53215767],\n",
       "       [0.53357325],\n",
       "       [0.53498883],\n",
       "       [0.53640441],\n",
       "       [0.53781998],\n",
       "       [0.53923556],\n",
       "       [0.54065114],\n",
       "       [0.54206672],\n",
       "       [0.5434823 ],\n",
       "       [0.54489788],\n",
       "       [0.54631345],\n",
       "       [0.54772903],\n",
       "       [0.54914461],\n",
       "       [0.55056019],\n",
       "       [0.55197577],\n",
       "       [0.55339134],\n",
       "       [0.55480692],\n",
       "       [0.5562225 ],\n",
       "       [0.55763808],\n",
       "       [0.55905366],\n",
       "       [0.56046923],\n",
       "       [0.56188481],\n",
       "       [0.56330039],\n",
       "       [0.56471597],\n",
       "       [0.56613155],\n",
       "       [0.56754712],\n",
       "       [0.5689627 ],\n",
       "       [0.57037828],\n",
       "       [0.57179386],\n",
       "       [0.57320944],\n",
       "       [0.57462502],\n",
       "       [0.57604059],\n",
       "       [0.57745617],\n",
       "       [0.57887175],\n",
       "       [0.58028733],\n",
       "       [0.58170291],\n",
       "       [0.58311848],\n",
       "       [0.58453406],\n",
       "       [0.58594964],\n",
       "       [0.58736522],\n",
       "       [0.5887808 ],\n",
       "       [0.59019637],\n",
       "       [0.59161195],\n",
       "       [0.59302753],\n",
       "       [0.59444311],\n",
       "       [0.59585869]])"
      ]
     },
     "execution_count": 23,
     "metadata": {},
     "output_type": "execute_result"
    }
   ],
   "source": [
    "# Reshape y_pred values\n",
    "\n",
    "y_pred_reshape=y_pred.reshape(-1,1)\n",
    "y_pred_reshape"
   ]
  },
  {
   "cell_type": "code",
   "execution_count": 24,
   "id": "e6250cd9",
   "metadata": {},
   "outputs": [
    {
     "data": {
      "text/plain": [
       "array([[179.98481194],\n",
       "       [180.33225245],\n",
       "       [180.67969283],\n",
       "       [181.02713308],\n",
       "       [181.37457326],\n",
       "       [181.72201335],\n",
       "       [182.0694534 ],\n",
       "       [182.4168934 ],\n",
       "       [182.76433333],\n",
       "       [183.11177319],\n",
       "       [183.45921295],\n",
       "       [183.80665261],\n",
       "       [184.15409217],\n",
       "       [184.50153163],\n",
       "       [184.84897099],\n",
       "       [185.19641027],\n",
       "       [185.54384948],\n",
       "       [185.8912886 ],\n",
       "       [186.23872766],\n",
       "       [186.58616664],\n",
       "       [186.93360555],\n",
       "       [187.28104438],\n",
       "       [187.62848311],\n",
       "       [187.97592174],\n",
       "       [188.32336026],\n",
       "       [188.67079868],\n",
       "       [189.01823703],\n",
       "       [189.36567531],\n",
       "       [189.71311357],\n",
       "       [190.0605518 ],\n",
       "       [190.40798999],\n",
       "       [190.75542807],\n",
       "       [191.10286614],\n",
       "       [191.45030422],\n",
       "       [191.79774229],\n",
       "       [192.14518037],\n",
       "       [192.49261844],\n",
       "       [192.84005651],\n",
       "       [193.18749459],\n",
       "       [193.53493266],\n",
       "       [193.88237074],\n",
       "       [194.22980881],\n",
       "       [194.57724689],\n",
       "       [194.92468496],\n",
       "       [195.27212303],\n",
       "       [195.61956111],\n",
       "       [195.96699918],\n",
       "       [196.31443726],\n",
       "       [196.66187533],\n",
       "       [197.00931341],\n",
       "       [197.35675148],\n",
       "       [197.70418955],\n",
       "       [198.05162763],\n",
       "       [198.3990657 ],\n",
       "       [198.74650378],\n",
       "       [199.09394185],\n",
       "       [199.44137993],\n",
       "       [199.788818  ],\n",
       "       [200.13625607],\n",
       "       [200.48369415],\n",
       "       [200.83113222],\n",
       "       [201.1785703 ],\n",
       "       [201.52600837],\n",
       "       [201.87344645],\n",
       "       [202.22088452],\n",
       "       [202.56832259],\n",
       "       [202.91576067],\n",
       "       [203.26319874],\n",
       "       [203.61063682],\n",
       "       [203.95807489],\n",
       "       [204.30551297],\n",
       "       [204.65295104],\n",
       "       [205.00038912],\n",
       "       [205.34782719],\n",
       "       [205.69526526],\n",
       "       [206.04270334],\n",
       "       [206.39014141],\n",
       "       [206.73757949],\n",
       "       [207.08501756],\n",
       "       [207.43245564],\n",
       "       [207.77989371],\n",
       "       [208.12733178],\n",
       "       [208.47476986],\n",
       "       [208.82220793],\n",
       "       [209.16964601],\n",
       "       [209.51708408],\n",
       "       [209.86452216],\n",
       "       [210.21196023]])"
      ]
     },
     "execution_count": 24,
     "metadata": {},
     "output_type": "execute_result"
    }
   ],
   "source": [
    "# predicted values -  y_pred\n",
    "# Convert minmax scaler into inverse_transform \n",
    "\n",
    "predicted=Ms.inverse_transform(y_pred_reshape)\n",
    "predicted"
   ]
  },
  {
   "cell_type": "code",
   "execution_count": 25,
   "id": "e2a9b7a6",
   "metadata": {},
   "outputs": [
    {
     "data": {
      "text/html": [
       "<div>\n",
       "<style scoped>\n",
       "    .dataframe tbody tr th:only-of-type {\n",
       "        vertical-align: middle;\n",
       "    }\n",
       "\n",
       "    .dataframe tbody tr th {\n",
       "        vertical-align: top;\n",
       "    }\n",
       "\n",
       "    .dataframe thead th {\n",
       "        text-align: right;\n",
       "    }\n",
       "</style>\n",
       "<table border=\"1\" class=\"dataframe\">\n",
       "  <thead>\n",
       "    <tr style=\"text-align: right;\">\n",
       "      <th></th>\n",
       "      <th>CSUSHPISA</th>\n",
       "    </tr>\n",
       "  </thead>\n",
       "  <tbody>\n",
       "    <tr>\n",
       "      <th>0</th>\n",
       "      <td>179.429</td>\n",
       "    </tr>\n",
       "    <tr>\n",
       "      <th>1</th>\n",
       "      <td>180.084</td>\n",
       "    </tr>\n",
       "    <tr>\n",
       "      <th>2</th>\n",
       "      <td>180.834</td>\n",
       "    </tr>\n",
       "    <tr>\n",
       "      <th>3</th>\n",
       "      <td>181.85</td>\n",
       "    </tr>\n",
       "    <tr>\n",
       "      <th>4</th>\n",
       "      <td>182.823</td>\n",
       "    </tr>\n",
       "    <tr>\n",
       "      <th>...</th>\n",
       "      <td>...</td>\n",
       "    </tr>\n",
       "    <tr>\n",
       "      <th>83</th>\n",
       "      <td>300.198</td>\n",
       "    </tr>\n",
       "    <tr>\n",
       "      <th>84</th>\n",
       "      <td>302.62</td>\n",
       "    </tr>\n",
       "    <tr>\n",
       "      <th>85</th>\n",
       "      <td>304.651</td>\n",
       "    </tr>\n",
       "    <tr>\n",
       "      <th>86</th>\n",
       "      <td>306.634</td>\n",
       "    </tr>\n",
       "    <tr>\n",
       "      <th>87</th>\n",
       "      <td>309.404</td>\n",
       "    </tr>\n",
       "  </tbody>\n",
       "</table>\n",
       "<p>88 rows × 1 columns</p>\n",
       "</div>"
      ],
      "text/plain": [
       "   CSUSHPISA\n",
       "0    179.429\n",
       "1    180.084\n",
       "2    180.834\n",
       "3     181.85\n",
       "4    182.823\n",
       "..       ...\n",
       "83   300.198\n",
       "84    302.62\n",
       "85   304.651\n",
       "86   306.634\n",
       "87   309.404\n",
       "\n",
       "[88 rows x 1 columns]"
      ]
     },
     "execution_count": 25,
     "metadata": {},
     "output_type": "execute_result"
    }
   ],
   "source": [
    "from UserDefinedFns import conversionSingle\n",
    "actual=Ms.inverse_transform(y_test)\n",
    "actual_price=conversionSingle(actual,[column])\n",
    "actual_price"
   ]
  },
  {
   "cell_type": "code",
   "execution_count": 26,
   "id": "0e847477",
   "metadata": {},
   "outputs": [
    {
     "data": {
      "text/html": [
       "<div>\n",
       "<style scoped>\n",
       "    .dataframe tbody tr th:only-of-type {\n",
       "        vertical-align: middle;\n",
       "    }\n",
       "\n",
       "    .dataframe tbody tr th {\n",
       "        vertical-align: top;\n",
       "    }\n",
       "\n",
       "    .dataframe thead th {\n",
       "        text-align: right;\n",
       "    }\n",
       "</style>\n",
       "<table border=\"1\" class=\"dataframe\">\n",
       "  <thead>\n",
       "    <tr style=\"text-align: right;\">\n",
       "      <th></th>\n",
       "      <th>CSUSHPISA</th>\n",
       "    </tr>\n",
       "  </thead>\n",
       "  <tbody>\n",
       "    <tr>\n",
       "      <th>0</th>\n",
       "      <td>179.984812</td>\n",
       "    </tr>\n",
       "    <tr>\n",
       "      <th>1</th>\n",
       "      <td>180.332252</td>\n",
       "    </tr>\n",
       "    <tr>\n",
       "      <th>2</th>\n",
       "      <td>180.679693</td>\n",
       "    </tr>\n",
       "    <tr>\n",
       "      <th>3</th>\n",
       "      <td>181.027133</td>\n",
       "    </tr>\n",
       "    <tr>\n",
       "      <th>4</th>\n",
       "      <td>181.374573</td>\n",
       "    </tr>\n",
       "    <tr>\n",
       "      <th>...</th>\n",
       "      <td>...</td>\n",
       "    </tr>\n",
       "    <tr>\n",
       "      <th>83</th>\n",
       "      <td>208.822208</td>\n",
       "    </tr>\n",
       "    <tr>\n",
       "      <th>84</th>\n",
       "      <td>209.169646</td>\n",
       "    </tr>\n",
       "    <tr>\n",
       "      <th>85</th>\n",
       "      <td>209.517084</td>\n",
       "    </tr>\n",
       "    <tr>\n",
       "      <th>86</th>\n",
       "      <td>209.864522</td>\n",
       "    </tr>\n",
       "    <tr>\n",
       "      <th>87</th>\n",
       "      <td>210.21196</td>\n",
       "    </tr>\n",
       "  </tbody>\n",
       "</table>\n",
       "<p>88 rows × 1 columns</p>\n",
       "</div>"
      ],
      "text/plain": [
       "     CSUSHPISA\n",
       "0   179.984812\n",
       "1   180.332252\n",
       "2   180.679693\n",
       "3   181.027133\n",
       "4   181.374573\n",
       "..         ...\n",
       "83  208.822208\n",
       "84  209.169646\n",
       "85  209.517084\n",
       "86  209.864522\n",
       "87   210.21196\n",
       "\n",
       "[88 rows x 1 columns]"
      ]
     },
     "execution_count": 26,
     "metadata": {},
     "output_type": "execute_result"
    }
   ],
   "source": [
    "from UserDefinedFns import conversionSingle\n",
    "predicted=Ms.inverse_transform(y_pred_reshape)\n",
    "predicted_price=conversionSingle(predicted,[column])\n",
    "predicted_price"
   ]
  },
  {
   "cell_type": "code",
   "execution_count": 27,
   "id": "630a3ae3",
   "metadata": {},
   "outputs": [
    {
     "data": {
      "image/png": "[encoded data removed]",
      "text/plain": [
       "<Figure size 640x480 with 1 Axes>"
      ]
     },
     "metadata": {},
     "output_type": "display_data"
    }
   ],
   "source": [
    "import matplotlib.pyplot as plt\n",
    "\n",
    "plt.title(\"CSUSHPISA\")\n",
    "plt.xlabel(\"Days\")\n",
    "plt.ylabel(\"Prices\")\n",
    "plt.plot(actual_price, label='Actual')\n",
    "plt.plot(predicted_price,color='red', label='Predicted')\n",
    "plt.legend()\n",
    "plt.show()"
   ]
  },
  {
   "cell_type": "markdown",
   "id": "2d8607b8",
   "metadata": {},
   "source": [
    "# Evaluation Metrics"
   ]
  },
  {
   "cell_type": "code",
   "execution_count": 28,
   "id": "2c2eede6",
   "metadata": {},
   "outputs": [
    {
     "name": "stdout",
     "output_type": "stream",
     "text": [
      "rmse : 2620.7314872468255\n",
      "mape : 0.14152884226552556\n"
     ]
    }
   ],
   "source": [
    "# Evaluation metrics for actual price and predicted price\n",
    "\n",
    "# rmse - root mean squared error\n",
    "print(\"rmse :\", metrics.mean_squared_error(actual_price,predicted_price))\n",
    "# mape - mean absolute percentage error\n",
    "print(\"mape :\", metrics.mean_absolute_percentage_error(actual_price,predicted_price))"
   ]
  },
  {
   "cell_type": "markdown",
   "id": "42f48373",
   "metadata": {},
   "source": [
    "# CSUSHPISA Forcasted for 5 days"
   ]
  },
  {
   "cell_type": "code",
   "execution_count": 29,
   "id": "15ba7e2e",
   "metadata": {},
   "outputs": [
    {
     "data": {
      "text/plain": [
       "array([0.59727426, 0.59868984, 0.60010542, 0.601521  , 0.60293658])"
      ]
     },
     "execution_count": 29,
     "metadata": {},
     "output_type": "execute_result"
    }
   ],
   "source": [
    "# Time Series Analysis - Forcasting\n",
    "# CSUSHPISA Forecast for 5 days \n",
    "\n",
    "forecast=model_fit.predict(len(data1), len(data1)+4)\n",
    "forecast"
   ]
  },
  {
   "cell_type": "code",
   "execution_count": 30,
   "id": "a2593a7b",
   "metadata": {},
   "outputs": [
    {
     "data": {
      "text/html": [
       "<div>\n",
       "<style scoped>\n",
       "    .dataframe tbody tr th:only-of-type {\n",
       "        vertical-align: middle;\n",
       "    }\n",
       "\n",
       "    .dataframe tbody tr th {\n",
       "        vertical-align: top;\n",
       "    }\n",
       "\n",
       "    .dataframe thead th {\n",
       "        text-align: right;\n",
       "    }\n",
       "</style>\n",
       "<table border=\"1\" class=\"dataframe\">\n",
       "  <thead>\n",
       "    <tr style=\"text-align: right;\">\n",
       "      <th></th>\n",
       "      <th>Predicted_CSUSHPISA</th>\n",
       "    </tr>\n",
       "  </thead>\n",
       "  <tbody>\n",
       "    <tr>\n",
       "      <th>0</th>\n",
       "      <td>210.559398</td>\n",
       "    </tr>\n",
       "    <tr>\n",
       "      <th>1</th>\n",
       "      <td>210.906836</td>\n",
       "    </tr>\n",
       "    <tr>\n",
       "      <th>2</th>\n",
       "      <td>211.254274</td>\n",
       "    </tr>\n",
       "    <tr>\n",
       "      <th>3</th>\n",
       "      <td>211.601713</td>\n",
       "    </tr>\n",
       "    <tr>\n",
       "      <th>4</th>\n",
       "      <td>211.949151</td>\n",
       "    </tr>\n",
       "  </tbody>\n",
       "</table>\n",
       "</div>"
      ],
      "text/plain": [
       "  Predicted_CSUSHPISA\n",
       "0          210.559398\n",
       "1          210.906836\n",
       "2          211.254274\n",
       "3          211.601713\n",
       "4          211.949151"
      ]
     },
     "execution_count": 30,
     "metadata": {},
     "output_type": "execute_result"
    }
   ],
   "source": [
    "from UserDefinedFns import conversionSingle\n",
    "\n",
    "forecastTable=conversionSingle(forecast,[\"Predicted_CSUSHPISA\"])\n",
    "forecast_price=Ms.inverse_transform(forecastTable)\n",
    "Predicted_forecast_price=conversionSingle(forecast_price,[\"Predicted_CSUSHPISA\"])\n",
    "Predicted_forecast_price"
   ]
  },
  {
   "cell_type": "code",
   "execution_count": 31,
   "id": "c3c09f4c",
   "metadata": {},
   "outputs": [],
   "source": [
    "Predicted_forecast_price.to_csv(\"Predicted_CSUSHPISA.csv\",index=False)"
   ]
  },
  {
   "cell_type": "code",
   "execution_count": null,
   "id": "3eb7a510",
   "metadata": {},
   "outputs": [],
   "source": []
  }
 ],
 "metadata": {
  "kernelspec": {
   "display_name": "Python 3 (ipykernel)",
   "language": "python",
   "name": "python3"
  },
  "language_info": {
   "codemirror_mode": {
    "name": "ipython",
    "version": 3
   },
   "file_extension": ".py",
   "mimetype": "text/x-python",
   "name": "python",
   "nbconvert_exporter": "python",
   "pygments_lexer": "ipython3",
   "version": "3.11.5"
  }
 },
 "nbformat": 4,
 "nbformat_minor": 5
}
