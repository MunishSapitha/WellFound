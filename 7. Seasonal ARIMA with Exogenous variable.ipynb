{
 "cells": [
  {
   "cell_type": "code",
   "execution_count": 1,
   "id": "5ca48dd0",
   "metadata": {},
   "outputs": [],
   "source": [
    "# import library\n",
    "\n",
    "import pandas as pd"
   ]
  },
  {
   "cell_type": "code",
   "execution_count": 2,
   "id": "e270a4d8",
   "metadata": {},
   "outputs": [
    {
     "data": {
      "text/html": [
       "<div>\n",
       "<style scoped>\n",
       "    .dataframe tbody tr th:only-of-type {\n",
       "        vertical-align: middle;\n",
       "    }\n",
       "\n",
       "    .dataframe tbody tr th {\n",
       "        vertical-align: top;\n",
       "    }\n",
       "\n",
       "    .dataframe thead th {\n",
       "        text-align: right;\n",
       "    }\n",
       "</style>\n",
       "<table border=\"1\" class=\"dataframe\">\n",
       "  <thead>\n",
       "    <tr style=\"text-align: right;\">\n",
       "      <th></th>\n",
       "      <th>DATE</th>\n",
       "      <th>CSUSHPISA</th>\n",
       "    </tr>\n",
       "  </thead>\n",
       "  <tbody>\n",
       "    <tr>\n",
       "      <th>0</th>\n",
       "      <td>1987-01-01</td>\n",
       "      <td>63.965</td>\n",
       "    </tr>\n",
       "    <tr>\n",
       "      <th>1</th>\n",
       "      <td>1987-02-01</td>\n",
       "      <td>64.424</td>\n",
       "    </tr>\n",
       "    <tr>\n",
       "      <th>2</th>\n",
       "      <td>1987-03-01</td>\n",
       "      <td>64.736</td>\n",
       "    </tr>\n",
       "    <tr>\n",
       "      <th>3</th>\n",
       "      <td>1987-04-01</td>\n",
       "      <td>65.132</td>\n",
       "    </tr>\n",
       "    <tr>\n",
       "      <th>4</th>\n",
       "      <td>1987-05-01</td>\n",
       "      <td>65.563</td>\n",
       "    </tr>\n",
       "    <tr>\n",
       "      <th>...</th>\n",
       "      <td>...</td>\n",
       "      <td>...</td>\n",
       "    </tr>\n",
       "    <tr>\n",
       "      <th>435</th>\n",
       "      <td>2023-04-01</td>\n",
       "      <td>300.198</td>\n",
       "    </tr>\n",
       "    <tr>\n",
       "      <th>436</th>\n",
       "      <td>2023-05-01</td>\n",
       "      <td>302.620</td>\n",
       "    </tr>\n",
       "    <tr>\n",
       "      <th>437</th>\n",
       "      <td>2023-06-01</td>\n",
       "      <td>304.651</td>\n",
       "    </tr>\n",
       "    <tr>\n",
       "      <th>438</th>\n",
       "      <td>2023-07-01</td>\n",
       "      <td>306.634</td>\n",
       "    </tr>\n",
       "    <tr>\n",
       "      <th>439</th>\n",
       "      <td>2023-08-01</td>\n",
       "      <td>309.404</td>\n",
       "    </tr>\n",
       "  </tbody>\n",
       "</table>\n",
       "<p>440 rows × 2 columns</p>\n",
       "</div>"
      ],
      "text/plain": [
       "           DATE  CSUSHPISA\n",
       "0    1987-01-01     63.965\n",
       "1    1987-02-01     64.424\n",
       "2    1987-03-01     64.736\n",
       "3    1987-04-01     65.132\n",
       "4    1987-05-01     65.563\n",
       "..          ...        ...\n",
       "435  2023-04-01    300.198\n",
       "436  2023-05-01    302.620\n",
       "437  2023-06-01    304.651\n",
       "438  2023-07-01    306.634\n",
       "439  2023-08-01    309.404\n",
       "\n",
       "[440 rows x 2 columns]"
      ]
     },
     "execution_count": 2,
     "metadata": {},
     "output_type": "execute_result"
    }
   ],
   "source": [
    "# load dataset\n",
    "\n",
    "dataset=pd.read_csv(\"CSUSHPISA.csv\")\n",
    "dataset"
   ]
  },
  {
   "cell_type": "markdown",
   "id": "ae7b312c",
   "metadata": {},
   "source": [
    "# Standardization/ Normalizaton\n",
    "# MinMax Scaler"
   ]
  },
  {
   "cell_type": "code",
   "execution_count": 3,
   "id": "68ec4b6a",
   "metadata": {},
   "outputs": [],
   "source": [
    "# Time Series - Univariate\n",
    "\n",
    "column=\"CSUSHPISA\""
   ]
  },
  {
   "cell_type": "code",
   "execution_count": 4,
   "id": "383f232a",
   "metadata": {},
   "outputs": [
    {
     "name": "stdout",
     "output_type": "stream",
     "text": [
      "Len: (440, 1)\n"
     ]
    }
   ],
   "source": [
    "from sklearn.preprocessing import MinMaxScaler\n",
    "Ms = MinMaxScaler()\n",
    "data1= Ms.fit_transform(dataset[[column]])\n",
    "print(\"Len:\",data1.shape)"
   ]
  },
  {
   "cell_type": "code",
   "execution_count": 5,
   "id": "aad1e5ee",
   "metadata": {},
   "outputs": [
    {
     "data": {
      "text/plain": [
       "440"
      ]
     },
     "execution_count": 5,
     "metadata": {},
     "output_type": "execute_result"
    }
   ],
   "source": [
    "len(data1)"
   ]
  },
  {
   "cell_type": "markdown",
   "id": "1c80b448",
   "metadata": {},
   "source": [
    "# Split Training and Testing data using series of data"
   ]
  },
  {
   "cell_type": "code",
   "execution_count": 6,
   "id": "3017a039",
   "metadata": {},
   "outputs": [
    {
     "name": "stdout",
     "output_type": "stream",
     "text": [
      "352\n",
      "X_train length: (352, 1)\n",
      "X_test length: (88, 1)\n",
      "y_train length: (352, 1)\n",
      "y_test length: (88, 1)\n"
     ]
    }
   ],
   "source": [
    "# x_train, x_test  - input training and testing data\n",
    "# y_train, y_test  - output training and testing data\n",
    "\n",
    "training_size = round(len(data1 ) * 0.80)  # Total -440\n",
    "print(training_size)\n",
    "\n",
    "X_train=data1[:training_size]              # first 0:352\n",
    "X_test=data1[training_size:]               # 88: last\n",
    "print(\"X_train length:\",X_train.shape)\n",
    "print(\"X_test length:\",X_test.shape)\n",
    "\n",
    "y_train=data1[:training_size]\n",
    "y_test=data1[training_size:]\n",
    "print(\"y_train length:\",y_train.shape)\n",
    "print(\"y_test length:\",y_test.shape)"
   ]
  },
  {
   "cell_type": "markdown",
   "id": "83c35725",
   "metadata": {},
   "source": [
    "# Model Creation"
   ]
  },
  {
   "cell_type": "code",
   "execution_count": 7,
   "id": "dc6c8b56",
   "metadata": {},
   "outputs": [],
   "source": [
    "# ! pip install stockFunctions"
   ]
  },
  {
   "cell_type": "code",
   "execution_count": 8,
   "id": "e5ee203a",
   "metadata": {},
   "outputs": [],
   "source": [
    "import warnings\n",
    "warnings.filterwarnings(\"ignore\")"
   ]
  },
  {
   "cell_type": "code",
   "execution_count": 9,
   "id": "2c71e42f",
   "metadata": {},
   "outputs": [
    {
     "name": "stdout",
     "output_type": "stream",
     "text": [
      "rmse : 0.5036980302965248\n",
      "mape : 1.0\n",
      "************\n",
      "rmse : 0.501886536799481\n",
      "mape : 0.9946462129119461\n",
      "************\n",
      "rmse : 0.07926568287759721\n",
      "mape : 0.2786219265037103\n",
      "************\n",
      "rmse : 0.060241059309298794\n",
      "mape : 0.2218428632090114\n",
      "************\n"
     ]
    }
   ],
   "source": [
    "# AutoRegressive Moving Average\n",
    "\n",
    "orders=[(0,0,0),(0,0,1),(2,0,1),(1,1,1)]\n",
    "#orderslist=[]\n",
    "#rscorelist=[]\n",
    "for i in orders:\n",
    "    #orderslist.append(i)\n",
    "    from statsmodels.tsa.statespace.sarimax import SARIMAX\n",
    "    model = SARIMAX(X_train, order=i, seasonal_order=(0,0,0,12))\n",
    "    model_fit = model.fit()\n",
    "    # make prediction\n",
    "    y_pred= model_fit.predict(len(X_train), len(data1)-1)\n",
    "    #print(y_pred)    \n",
    "    \n",
    "    from sklearn import metrics\n",
    "      \n",
    "    # rmse - root mean squared error\n",
    "    print(\"rmse :\", metrics.mean_squared_error(y_test,y_pred))\n",
    "    # mape - mean absolute percentage error\n",
    "    print(\"mape :\", metrics.mean_absolute_percentage_error(y_test,y_pred))\n",
    "        \n",
    "        \n",
    "    print(\"************\")"
   ]
  },
  {
   "cell_type": "code",
   "execution_count": 10,
   "id": "cb9f2569",
   "metadata": {},
   "outputs": [
    {
     "data": {
      "text/plain": [
       "88"
      ]
     },
     "execution_count": 10,
     "metadata": {},
     "output_type": "execute_result"
    }
   ],
   "source": [
    "len(y_pred)\n"
   ]
  },
  {
   "cell_type": "markdown",
   "id": "2511f4c7",
   "metadata": {},
   "source": [
    "# Graph"
   ]
  },
  {
   "cell_type": "code",
   "execution_count": 11,
   "id": "6c79fdd3",
   "metadata": {},
   "outputs": [
    {
     "data": {
      "image/png": "[encoded data removed]",
      "text/plain": [
       "<Figure size 640x480 with 1 Axes>"
      ]
     },
     "metadata": {},
     "output_type": "display_data"
    }
   ],
   "source": [
    "import matplotlib.pyplot as plt\n",
    "\n",
    "# plt.plot(\"Actual \",y_test)\n",
    "# plt.plot(\"Predicted \", y_pred,colors='red')\n",
    "plt.title(\"CSUSHPISA\")\n",
    "plt.xlabel(\"Days\")\n",
    "plt.ylabel(\"Prices\")\n",
    "plt.plot(y_test, label='Actual')\n",
    "plt.plot(y_pred,color='red', label='Predicted')\n",
    "plt.legend()\n",
    "plt.show()"
   ]
  },
  {
   "cell_type": "code",
   "execution_count": null,
   "id": "4b50a8c9",
   "metadata": {},
   "outputs": [],
   "source": []
  },
  {
   "cell_type": "code",
   "execution_count": 12,
   "id": "8600607b",
   "metadata": {},
   "outputs": [
    {
     "data": {
      "text/plain": [
       "440"
      ]
     },
     "execution_count": 12,
     "metadata": {},
     "output_type": "execute_result"
    }
   ],
   "source": [
    "len(data1)"
   ]
  },
  {
   "cell_type": "code",
   "execution_count": 13,
   "id": "c8b2f913",
   "metadata": {},
   "outputs": [
    {
     "data": {
      "text/plain": [
       "array([[0.47043868],\n",
       "       [0.47310737],\n",
       "       [0.47616312],\n",
       "       [0.48030264],\n",
       "       [0.48426697],\n",
       "       [0.48804387],\n",
       "       [0.49215487],\n",
       "       [0.49609068],\n",
       "       [0.50049096],\n",
       "       [0.50256072],\n",
       "       [0.50532719],\n",
       "       [0.5083096 ],\n",
       "       [0.5119439 ],\n",
       "       [0.51559858],\n",
       "       [0.51941623],\n",
       "       [0.52435839],\n",
       "       [0.52882386],\n",
       "       [0.53308561],\n",
       "       [0.53778332],\n",
       "       [0.542754  ],\n",
       "       [0.54738245],\n",
       "       [0.55110231],\n",
       "       [0.55409287],\n",
       "       [0.55692046],\n",
       "       [0.56004954],\n",
       "       [0.56336605],\n",
       "       [0.56609585],\n",
       "       [0.56927791],\n",
       "       [0.57198734],\n",
       "       [0.57511235],\n",
       "       [0.5773899 ],\n",
       "       [0.57938632],\n",
       "       [0.58089383],\n",
       "       [0.5821528 ],\n",
       "       [0.58296359],\n",
       "       [0.58483371],\n",
       "       [0.58740868],\n",
       "       [0.58953141],\n",
       "       [0.59198823],\n",
       "       [0.59541067],\n",
       "       [0.59871496],\n",
       "       [0.60236148],\n",
       "       [0.60642359],\n",
       "       [0.61110907],\n",
       "       [0.61534231],\n",
       "       [0.61877697],\n",
       "       [0.62092821],\n",
       "       [0.62270462],\n",
       "       [0.62346245],\n",
       "       [0.62608224],\n",
       "       [0.63297601],\n",
       "       [0.64561459],\n",
       "       [0.65958548],\n",
       "       [0.67558945],\n",
       "       [0.6896622 ],\n",
       "       [0.70305045],\n",
       "       [0.71542827],\n",
       "       [0.72669788],\n",
       "       [0.7392346 ],\n",
       "       [0.75411813],\n",
       "       [0.77192704],\n",
       "       [0.79211535],\n",
       "       [0.80974091],\n",
       "       [0.82691015],\n",
       "       [0.8410929 ],\n",
       "       [0.85481118],\n",
       "       [0.868998  ],\n",
       "       [0.88587388],\n",
       "       [0.90432246],\n",
       "       [0.92538268],\n",
       "       [0.94682589],\n",
       "       [0.96392586],\n",
       "       [0.97715115],\n",
       "       [0.98105843],\n",
       "       [0.97681705],\n",
       "       [0.96818761],\n",
       "       [0.95915889],\n",
       "       [0.95729285],\n",
       "       [0.95480751],\n",
       "       [0.95138099],\n",
       "       [0.94956384],\n",
       "       [0.95135247],\n",
       "       [0.95573238],\n",
       "       [0.9624917 ],\n",
       "       [0.97235973],\n",
       "       [0.9806347 ],\n",
       "       [0.9887141 ],\n",
       "       [1.        ]])"
      ]
     },
     "execution_count": 13,
     "metadata": {},
     "output_type": "execute_result"
    }
   ],
   "source": [
    "# Actual values\n",
    "\n",
    "y_test"
   ]
  },
  {
   "cell_type": "code",
   "execution_count": 14,
   "id": "6648219f",
   "metadata": {},
   "outputs": [],
   "source": [
    "# actual values -  y_test\n",
    "# Convert minmax scaler into inverse_transform \n",
    "\n",
    "actual=Ms.inverse_transform(y_test)"
   ]
  },
  {
   "cell_type": "code",
   "execution_count": 15,
   "id": "351e5088",
   "metadata": {},
   "outputs": [
    {
     "data": {
      "text/plain": [
       "array([0.47005702, 0.47227109, 0.47438442, 0.4764016 , 0.47832699,\n",
       "       0.48016478, 0.48191895, 0.4835933 , 0.48519147, 0.48671692,\n",
       "       0.48817297, 0.48956276, 0.49088932, 0.49215552, 0.4933641 ,\n",
       "       0.4945177 , 0.49561881, 0.49666981, 0.497673  , 0.49863054,\n",
       "       0.49954451, 0.5004169 , 0.50124959, 0.50204439, 0.50280303,\n",
       "       0.50352716, 0.50421833, 0.50487806, 0.50550777, 0.50610882,\n",
       "       0.50668253, 0.50723013, 0.50775282, 0.50825173, 0.50872793,\n",
       "       0.50918247, 0.50961633, 0.51003045, 0.51042572, 0.51080301,\n",
       "       0.51116313, 0.51150687, 0.51183496, 0.51214813, 0.51244705,\n",
       "       0.51273237, 0.5130047 , 0.51326465, 0.51351276, 0.51374959,\n",
       "       0.51397564, 0.51419141, 0.51439736, 0.51459393, 0.51478157,\n",
       "       0.51496066, 0.51513161, 0.51529478, 0.51545053, 0.51559919,\n",
       "       0.51574108, 0.51587652, 0.51600579, 0.51612919, 0.51624697,\n",
       "       0.51635939, 0.51646669, 0.51656912, 0.51666688, 0.51676019,\n",
       "       0.51684926, 0.51693428, 0.51701543, 0.51709288, 0.51716681,\n",
       "       0.51723738, 0.51730474, 0.51736903, 0.51743039, 0.51748897,\n",
       "       0.51754488, 0.51759824, 0.51764918, 0.5176978 , 0.51774421,\n",
       "       0.5177885 , 0.51783078, 0.51787114])"
      ]
     },
     "execution_count": 15,
     "metadata": {},
     "output_type": "execute_result"
    }
   ],
   "source": [
    "# Predcted values\n",
    "\n",
    "y_pred"
   ]
  },
  {
   "cell_type": "code",
   "execution_count": 16,
   "id": "9a88227b",
   "metadata": {},
   "outputs": [
    {
     "data": {
      "text/plain": [
       "array([[0.47005702],\n",
       "       [0.47227109],\n",
       "       [0.47438442],\n",
       "       [0.4764016 ],\n",
       "       [0.47832699],\n",
       "       [0.48016478],\n",
       "       [0.48191895],\n",
       "       [0.4835933 ],\n",
       "       [0.48519147],\n",
       "       [0.48671692],\n",
       "       [0.48817297],\n",
       "       [0.48956276],\n",
       "       [0.49088932],\n",
       "       [0.49215552],\n",
       "       [0.4933641 ],\n",
       "       [0.4945177 ],\n",
       "       [0.49561881],\n",
       "       [0.49666981],\n",
       "       [0.497673  ],\n",
       "       [0.49863054],\n",
       "       [0.49954451],\n",
       "       [0.5004169 ],\n",
       "       [0.50124959],\n",
       "       [0.50204439],\n",
       "       [0.50280303],\n",
       "       [0.50352716],\n",
       "       [0.50421833],\n",
       "       [0.50487806],\n",
       "       [0.50550777],\n",
       "       [0.50610882],\n",
       "       [0.50668253],\n",
       "       [0.50723013],\n",
       "       [0.50775282],\n",
       "       [0.50825173],\n",
       "       [0.50872793],\n",
       "       [0.50918247],\n",
       "       [0.50961633],\n",
       "       [0.51003045],\n",
       "       [0.51042572],\n",
       "       [0.51080301],\n",
       "       [0.51116313],\n",
       "       [0.51150687],\n",
       "       [0.51183496],\n",
       "       [0.51214813],\n",
       "       [0.51244705],\n",
       "       [0.51273237],\n",
       "       [0.5130047 ],\n",
       "       [0.51326465],\n",
       "       [0.51351276],\n",
       "       [0.51374959],\n",
       "       [0.51397564],\n",
       "       [0.51419141],\n",
       "       [0.51439736],\n",
       "       [0.51459393],\n",
       "       [0.51478157],\n",
       "       [0.51496066],\n",
       "       [0.51513161],\n",
       "       [0.51529478],\n",
       "       [0.51545053],\n",
       "       [0.51559919],\n",
       "       [0.51574108],\n",
       "       [0.51587652],\n",
       "       [0.51600579],\n",
       "       [0.51612919],\n",
       "       [0.51624697],\n",
       "       [0.51635939],\n",
       "       [0.51646669],\n",
       "       [0.51656912],\n",
       "       [0.51666688],\n",
       "       [0.51676019],\n",
       "       [0.51684926],\n",
       "       [0.51693428],\n",
       "       [0.51701543],\n",
       "       [0.51709288],\n",
       "       [0.51716681],\n",
       "       [0.51723738],\n",
       "       [0.51730474],\n",
       "       [0.51736903],\n",
       "       [0.51743039],\n",
       "       [0.51748897],\n",
       "       [0.51754488],\n",
       "       [0.51759824],\n",
       "       [0.51764918],\n",
       "       [0.5176978 ],\n",
       "       [0.51774421],\n",
       "       [0.5177885 ],\n",
       "       [0.51783078],\n",
       "       [0.51787114]])"
      ]
     },
     "execution_count": 16,
     "metadata": {},
     "output_type": "execute_result"
    }
   ],
   "source": [
    "# Reshape y_pred values\n",
    "\n",
    "y_pred_reshape=y_pred.reshape(-1,1)\n",
    "y_pred_reshape"
   ]
  },
  {
   "cell_type": "code",
   "execution_count": 17,
   "id": "e6250cd9",
   "metadata": {},
   "outputs": [
    {
     "data": {
      "text/plain": [
       "array([[179.33532433],\n",
       "       [179.87874428],\n",
       "       [180.3974385 ],\n",
       "       [180.89253202],\n",
       "       [181.36509867],\n",
       "       [181.81616344],\n",
       "       [182.24670466],\n",
       "       [182.65765616],\n",
       "       [183.04990928],\n",
       "       [183.4243148 ],\n",
       "       [183.78168478],\n",
       "       [184.12279435],\n",
       "       [184.44838336],\n",
       "       [184.759158  ],\n",
       "       [185.05579232],\n",
       "       [185.33892972],\n",
       "       [185.6091843 ],\n",
       "       [185.86714224],\n",
       "       [186.11336304],\n",
       "       [186.34838073],\n",
       "       [186.57270507],\n",
       "       [186.78682261],\n",
       "       [186.99119775],\n",
       "       [187.18627377],\n",
       "       [187.37247379],\n",
       "       [187.55020167],\n",
       "       [187.7198429 ],\n",
       "       [187.88176541],\n",
       "       [188.03632041],\n",
       "       [188.18384312],\n",
       "       [188.32465352],\n",
       "       [188.45905701],\n",
       "       [188.58734512],\n",
       "       [188.70979609],\n",
       "       [188.82667551],\n",
       "       [188.93823689],\n",
       "       [189.04472221],\n",
       "       [189.14636242],\n",
       "       [189.24337798],\n",
       "       [189.33597931],\n",
       "       [189.42436725],\n",
       "       [189.50873353],\n",
       "       [189.58926112],\n",
       "       [189.66612469],\n",
       "       [189.73949095],\n",
       "       [189.80951903],\n",
       "       [189.87636082],\n",
       "       [189.94016129],\n",
       "       [190.00105883],\n",
       "       [190.05918551],\n",
       "       [190.11466742],\n",
       "       [190.16762489],\n",
       "       [190.21817278],\n",
       "       [190.26642073],\n",
       "       [190.31247339],\n",
       "       [190.35643064],\n",
       "       [190.39838783],\n",
       "       [190.43843596],\n",
       "       [190.47666189],\n",
       "       [190.51314853],\n",
       "       [190.54797502],\n",
       "       [190.58121689],\n",
       "       [190.61294626],\n",
       "       [190.64323193],\n",
       "       [190.6721396 ],\n",
       "       [190.69973196],\n",
       "       [190.72606886],\n",
       "       [190.75120743],\n",
       "       [190.77520219],\n",
       "       [190.79810518],\n",
       "       [190.81996608],\n",
       "       [190.8408323 ],\n",
       "       [190.86074911],\n",
       "       [190.8797597 ],\n",
       "       [190.8979053 ],\n",
       "       [190.91522527],\n",
       "       [190.93175718],\n",
       "       [190.94753688],\n",
       "       [190.96259861],\n",
       "       [190.97697502],\n",
       "       [190.9906973 ],\n",
       "       [191.00379522],\n",
       "       [191.01629718],\n",
       "       [191.02823029],\n",
       "       [191.03962045],\n",
       "       [191.05049235],\n",
       "       [191.06086958],\n",
       "       [191.07077464]])"
      ]
     },
     "execution_count": 17,
     "metadata": {},
     "output_type": "execute_result"
    }
   ],
   "source": [
    "# predicted values -  y_pred\n",
    "# Convert minmax scaler into inverse_transform \n",
    "\n",
    "predicted=Ms.inverse_transform(y_pred_reshape)\n",
    "predicted"
   ]
  },
  {
   "cell_type": "code",
   "execution_count": 18,
   "id": "e2a9b7a6",
   "metadata": {},
   "outputs": [
    {
     "data": {
      "text/html": [
       "<div>\n",
       "<style scoped>\n",
       "    .dataframe tbody tr th:only-of-type {\n",
       "        vertical-align: middle;\n",
       "    }\n",
       "\n",
       "    .dataframe tbody tr th {\n",
       "        vertical-align: top;\n",
       "    }\n",
       "\n",
       "    .dataframe thead th {\n",
       "        text-align: right;\n",
       "    }\n",
       "</style>\n",
       "<table border=\"1\" class=\"dataframe\">\n",
       "  <thead>\n",
       "    <tr style=\"text-align: right;\">\n",
       "      <th></th>\n",
       "      <th>CSUSHPISA</th>\n",
       "    </tr>\n",
       "  </thead>\n",
       "  <tbody>\n",
       "    <tr>\n",
       "      <th>0</th>\n",
       "      <td>179.429</td>\n",
       "    </tr>\n",
       "    <tr>\n",
       "      <th>1</th>\n",
       "      <td>180.084</td>\n",
       "    </tr>\n",
       "    <tr>\n",
       "      <th>2</th>\n",
       "      <td>180.834</td>\n",
       "    </tr>\n",
       "    <tr>\n",
       "      <th>3</th>\n",
       "      <td>181.85</td>\n",
       "    </tr>\n",
       "    <tr>\n",
       "      <th>4</th>\n",
       "      <td>182.823</td>\n",
       "    </tr>\n",
       "    <tr>\n",
       "      <th>...</th>\n",
       "      <td>...</td>\n",
       "    </tr>\n",
       "    <tr>\n",
       "      <th>83</th>\n",
       "      <td>300.198</td>\n",
       "    </tr>\n",
       "    <tr>\n",
       "      <th>84</th>\n",
       "      <td>302.62</td>\n",
       "    </tr>\n",
       "    <tr>\n",
       "      <th>85</th>\n",
       "      <td>304.651</td>\n",
       "    </tr>\n",
       "    <tr>\n",
       "      <th>86</th>\n",
       "      <td>306.634</td>\n",
       "    </tr>\n",
       "    <tr>\n",
       "      <th>87</th>\n",
       "      <td>309.404</td>\n",
       "    </tr>\n",
       "  </tbody>\n",
       "</table>\n",
       "<p>88 rows × 1 columns</p>\n",
       "</div>"
      ],
      "text/plain": [
       "   CSUSHPISA\n",
       "0    179.429\n",
       "1    180.084\n",
       "2    180.834\n",
       "3     181.85\n",
       "4    182.823\n",
       "..       ...\n",
       "83   300.198\n",
       "84    302.62\n",
       "85   304.651\n",
       "86   306.634\n",
       "87   309.404\n",
       "\n",
       "[88 rows x 1 columns]"
      ]
     },
     "execution_count": 18,
     "metadata": {},
     "output_type": "execute_result"
    }
   ],
   "source": [
    "from UserDefinedFns import conversionSingle\n",
    "actual=Ms.inverse_transform(y_test)\n",
    "actual_price=conversionSingle(actual,[column])\n",
    "actual_price"
   ]
  },
  {
   "cell_type": "code",
   "execution_count": 19,
   "id": "0e847477",
   "metadata": {},
   "outputs": [
    {
     "data": {
      "text/html": [
       "<div>\n",
       "<style scoped>\n",
       "    .dataframe tbody tr th:only-of-type {\n",
       "        vertical-align: middle;\n",
       "    }\n",
       "\n",
       "    .dataframe tbody tr th {\n",
       "        vertical-align: top;\n",
       "    }\n",
       "\n",
       "    .dataframe thead th {\n",
       "        text-align: right;\n",
       "    }\n",
       "</style>\n",
       "<table border=\"1\" class=\"dataframe\">\n",
       "  <thead>\n",
       "    <tr style=\"text-align: right;\">\n",
       "      <th></th>\n",
       "      <th>CSUSHPISA</th>\n",
       "    </tr>\n",
       "  </thead>\n",
       "  <tbody>\n",
       "    <tr>\n",
       "      <th>0</th>\n",
       "      <td>179.335324</td>\n",
       "    </tr>\n",
       "    <tr>\n",
       "      <th>1</th>\n",
       "      <td>179.878744</td>\n",
       "    </tr>\n",
       "    <tr>\n",
       "      <th>2</th>\n",
       "      <td>180.397438</td>\n",
       "    </tr>\n",
       "    <tr>\n",
       "      <th>3</th>\n",
       "      <td>180.892532</td>\n",
       "    </tr>\n",
       "    <tr>\n",
       "      <th>4</th>\n",
       "      <td>181.365099</td>\n",
       "    </tr>\n",
       "    <tr>\n",
       "      <th>...</th>\n",
       "      <td>...</td>\n",
       "    </tr>\n",
       "    <tr>\n",
       "      <th>83</th>\n",
       "      <td>191.02823</td>\n",
       "    </tr>\n",
       "    <tr>\n",
       "      <th>84</th>\n",
       "      <td>191.03962</td>\n",
       "    </tr>\n",
       "    <tr>\n",
       "      <th>85</th>\n",
       "      <td>191.050492</td>\n",
       "    </tr>\n",
       "    <tr>\n",
       "      <th>86</th>\n",
       "      <td>191.06087</td>\n",
       "    </tr>\n",
       "    <tr>\n",
       "      <th>87</th>\n",
       "      <td>191.070775</td>\n",
       "    </tr>\n",
       "  </tbody>\n",
       "</table>\n",
       "<p>88 rows × 1 columns</p>\n",
       "</div>"
      ],
      "text/plain": [
       "     CSUSHPISA\n",
       "0   179.335324\n",
       "1   179.878744\n",
       "2   180.397438\n",
       "3   180.892532\n",
       "4   181.365099\n",
       "..         ...\n",
       "83   191.02823\n",
       "84   191.03962\n",
       "85  191.050492\n",
       "86   191.06087\n",
       "87  191.070775\n",
       "\n",
       "[88 rows x 1 columns]"
      ]
     },
     "execution_count": 19,
     "metadata": {},
     "output_type": "execute_result"
    }
   ],
   "source": [
    "from UserDefinedFns import conversionSingle\n",
    "predicted=Ms.inverse_transform(y_pred_reshape)\n",
    "predicted_price=conversionSingle(predicted,[column])\n",
    "predicted_price"
   ]
  },
  {
   "cell_type": "code",
   "execution_count": 20,
   "id": "630a3ae3",
   "metadata": {},
   "outputs": [
    {
     "data": {
      "image/png": "[encoded data removed]",
      "text/plain": [
       "<Figure size 640x480 with 1 Axes>"
      ]
     },
     "metadata": {},
     "output_type": "display_data"
    }
   ],
   "source": [
    "import matplotlib.pyplot as plt\n",
    "\n",
    "plt.title(\"CSUSHPISA\")\n",
    "plt.xlabel(\"Days\")\n",
    "plt.ylabel(\"Prices\")\n",
    "plt.plot(actual_price, label='Actual')\n",
    "plt.plot(predicted_price,color='red', label='Predicted')\n",
    "plt.legend()\n",
    "plt.show()"
   ]
  },
  {
   "cell_type": "markdown",
   "id": "2d8607b8",
   "metadata": {},
   "source": [
    "# Evaluation Metrics"
   ]
  },
  {
   "cell_type": "code",
   "execution_count": 21,
   "id": "2c2eede6",
   "metadata": {},
   "outputs": [
    {
     "name": "stdout",
     "output_type": "stream",
     "text": [
      "rmse : 3628.939649025875\n",
      "mape : 0.16679070360330772\n"
     ]
    }
   ],
   "source": [
    "# Evaluation metrics for actual price and predicted price\n",
    "\n",
    "# rmse - root mean squared error\n",
    "print(\"rmse :\", metrics.mean_squared_error(actual_price,predicted_price))\n",
    "# mape - mean absolute percentage error\n",
    "print(\"mape :\", metrics.mean_absolute_percentage_error(actual_price,predicted_price))"
   ]
  },
  {
   "cell_type": "markdown",
   "id": "42f48373",
   "metadata": {},
   "source": [
    "# CSUSHPISA Forcasted for 5 days"
   ]
  },
  {
   "cell_type": "code",
   "execution_count": 22,
   "id": "15ba7e2e",
   "metadata": {},
   "outputs": [
    {
     "data": {
      "text/plain": [
       "array([0.51790966, 0.51794643, 0.51798152, 0.51801502, 0.51804699])"
      ]
     },
     "execution_count": 22,
     "metadata": {},
     "output_type": "execute_result"
    }
   ],
   "source": [
    "# Time Series Analysis - Forcasting\n",
    "# CSUSHPISA Forecast for 5 days \n",
    "\n",
    "forecast=model_fit.predict(len(data1), len(data1)+4)\n",
    "forecast"
   ]
  },
  {
   "cell_type": "code",
   "execution_count": 23,
   "id": "a2593a7b",
   "metadata": {},
   "outputs": [
    {
     "data": {
      "text/html": [
       "<div>\n",
       "<style scoped>\n",
       "    .dataframe tbody tr th:only-of-type {\n",
       "        vertical-align: middle;\n",
       "    }\n",
       "\n",
       "    .dataframe tbody tr th {\n",
       "        vertical-align: top;\n",
       "    }\n",
       "\n",
       "    .dataframe thead th {\n",
       "        text-align: right;\n",
       "    }\n",
       "</style>\n",
       "<table border=\"1\" class=\"dataframe\">\n",
       "  <thead>\n",
       "    <tr style=\"text-align: right;\">\n",
       "      <th></th>\n",
       "      <th>Predicted_CSUSHPISA</th>\n",
       "    </tr>\n",
       "  </thead>\n",
       "  <tbody>\n",
       "    <tr>\n",
       "      <th>0</th>\n",
       "      <td>191.080229</td>\n",
       "    </tr>\n",
       "    <tr>\n",
       "      <th>1</th>\n",
       "      <td>191.089253</td>\n",
       "    </tr>\n",
       "    <tr>\n",
       "      <th>2</th>\n",
       "      <td>191.097867</td>\n",
       "    </tr>\n",
       "    <tr>\n",
       "      <th>3</th>\n",
       "      <td>191.106089</td>\n",
       "    </tr>\n",
       "    <tr>\n",
       "      <th>4</th>\n",
       "      <td>191.113936</td>\n",
       "    </tr>\n",
       "  </tbody>\n",
       "</table>\n",
       "</div>"
      ],
      "text/plain": [
       "  Predicted_CSUSHPISA\n",
       "0          191.080229\n",
       "1          191.089253\n",
       "2          191.097867\n",
       "3          191.106089\n",
       "4          191.113936"
      ]
     },
     "execution_count": 23,
     "metadata": {},
     "output_type": "execute_result"
    }
   ],
   "source": [
    "from UserDefinedFns import conversionSingle\n",
    "\n",
    "forecastTable=conversionSingle(forecast,[\"Predicted_CSUSHPISA\"])\n",
    "forecast_price=Ms.inverse_transform(forecastTable)\n",
    "Predicted_forecast_price=conversionSingle(forecast_price,[\"Predicted_CSUSHPISA\"])\n",
    "Predicted_forecast_price"
   ]
  },
  {
   "cell_type": "code",
   "execution_count": 24,
   "id": "c3c09f4c",
   "metadata": {},
   "outputs": [],
   "source": [
    "Predicted_forecast_price.to_csv(\"Predicted_CSUSHPISA.csv\",index=False)"
   ]
  },
  {
   "cell_type": "code",
   "execution_count": null,
   "id": "3eb7a510",
   "metadata": {},
   "outputs": [],
   "source": []
  }
 ],
 "metadata": {
  "kernelspec": {
   "display_name": "Python 3 (ipykernel)",
   "language": "python",
   "name": "python3"
  },
  "language_info": {
   "codemirror_mode": {
    "name": "ipython",
    "version": 3
   },
   "file_extension": ".py",
   "mimetype": "text/x-python",
   "name": "python",
   "nbconvert_exporter": "python",
   "pygments_lexer": "ipython3",
   "version": "3.11.5"
  }
 },
 "nbformat": 4,
 "nbformat_minor": 5
}
