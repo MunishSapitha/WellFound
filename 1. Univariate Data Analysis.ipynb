{
 "cells": [
  {
   "cell_type": "code",
   "execution_count": 11,
   "id": "dcffd36b",
   "metadata": {},
   "outputs": [],
   "source": [
    "# import library\n",
    "\n",
    "import pandas as pd\n",
    "import numpy as np"
   ]
  },
  {
   "cell_type": "code",
   "execution_count": 2,
   "id": "40e7a7bc",
   "metadata": {},
   "outputs": [
    {
     "data": {
      "text/html": [
       "<div>\n",
       "<style scoped>\n",
       "    .dataframe tbody tr th:only-of-type {\n",
       "        vertical-align: middle;\n",
       "    }\n",
       "\n",
       "    .dataframe tbody tr th {\n",
       "        vertical-align: top;\n",
       "    }\n",
       "\n",
       "    .dataframe thead th {\n",
       "        text-align: right;\n",
       "    }\n",
       "</style>\n",
       "<table border=\"1\" class=\"dataframe\">\n",
       "  <thead>\n",
       "    <tr style=\"text-align: right;\">\n",
       "      <th></th>\n",
       "      <th>DATE</th>\n",
       "      <th>CSUSHPISA</th>\n",
       "    </tr>\n",
       "  </thead>\n",
       "  <tbody>\n",
       "    <tr>\n",
       "      <th>0</th>\n",
       "      <td>1987-01-01</td>\n",
       "      <td>63.965</td>\n",
       "    </tr>\n",
       "    <tr>\n",
       "      <th>1</th>\n",
       "      <td>1987-02-01</td>\n",
       "      <td>64.424</td>\n",
       "    </tr>\n",
       "    <tr>\n",
       "      <th>2</th>\n",
       "      <td>1987-03-01</td>\n",
       "      <td>64.736</td>\n",
       "    </tr>\n",
       "    <tr>\n",
       "      <th>3</th>\n",
       "      <td>1987-04-01</td>\n",
       "      <td>65.132</td>\n",
       "    </tr>\n",
       "    <tr>\n",
       "      <th>4</th>\n",
       "      <td>1987-05-01</td>\n",
       "      <td>65.563</td>\n",
       "    </tr>\n",
       "    <tr>\n",
       "      <th>...</th>\n",
       "      <td>...</td>\n",
       "      <td>...</td>\n",
       "    </tr>\n",
       "    <tr>\n",
       "      <th>435</th>\n",
       "      <td>2023-04-01</td>\n",
       "      <td>300.198</td>\n",
       "    </tr>\n",
       "    <tr>\n",
       "      <th>436</th>\n",
       "      <td>2023-05-01</td>\n",
       "      <td>302.620</td>\n",
       "    </tr>\n",
       "    <tr>\n",
       "      <th>437</th>\n",
       "      <td>2023-06-01</td>\n",
       "      <td>304.651</td>\n",
       "    </tr>\n",
       "    <tr>\n",
       "      <th>438</th>\n",
       "      <td>2023-07-01</td>\n",
       "      <td>306.634</td>\n",
       "    </tr>\n",
       "    <tr>\n",
       "      <th>439</th>\n",
       "      <td>2023-08-01</td>\n",
       "      <td>309.404</td>\n",
       "    </tr>\n",
       "  </tbody>\n",
       "</table>\n",
       "<p>440 rows × 2 columns</p>\n",
       "</div>"
      ],
      "text/plain": [
       "           DATE  CSUSHPISA\n",
       "0    1987-01-01     63.965\n",
       "1    1987-02-01     64.424\n",
       "2    1987-03-01     64.736\n",
       "3    1987-04-01     65.132\n",
       "4    1987-05-01     65.563\n",
       "..          ...        ...\n",
       "435  2023-04-01    300.198\n",
       "436  2023-05-01    302.620\n",
       "437  2023-06-01    304.651\n",
       "438  2023-07-01    306.634\n",
       "439  2023-08-01    309.404\n",
       "\n",
       "[440 rows x 2 columns]"
      ]
     },
     "execution_count": 2,
     "metadata": {},
     "output_type": "execute_result"
    }
   ],
   "source": [
    "# Load dataset \n",
    "\n",
    "dataset=pd.read_csv(\"CSUSHPISA.csv\")\n",
    "dataset"
   ]
  },
  {
   "cell_type": "code",
   "execution_count": 3,
   "id": "db72d375",
   "metadata": {},
   "outputs": [
    {
     "name": "stdout",
     "output_type": "stream",
     "text": [
      "<class 'pandas.core.frame.DataFrame'>\n",
      "RangeIndex: 440 entries, 0 to 439\n",
      "Data columns (total 2 columns):\n",
      " #   Column     Non-Null Count  Dtype  \n",
      "---  ------     --------------  -----  \n",
      " 0   DATE       440 non-null    object \n",
      " 1   CSUSHPISA  440 non-null    float64\n",
      "dtypes: float64(1), object(1)\n",
      "memory usage: 7.0+ KB\n"
     ]
    }
   ],
   "source": [
    "# Information of the dataset\n",
    "\n",
    "dataset.info()"
   ]
  },
  {
   "cell_type": "markdown",
   "id": "9f78226c",
   "metadata": {},
   "source": [
    "# Qualitative and Quantitative Data Analysis"
   ]
  },
  {
   "cell_type": "code",
   "execution_count": 4,
   "id": "22fd490b",
   "metadata": {},
   "outputs": [
    {
     "data": {
      "text/plain": [
       "Index(['DATE', 'CSUSHPISA'], dtype='object')"
      ]
     },
     "execution_count": 4,
     "metadata": {},
     "output_type": "execute_result"
    }
   ],
   "source": [
    "# View dataset ColumnNames\n",
    "\n",
    "dataset.columns"
   ]
  },
  {
   "cell_type": "code",
   "execution_count": 5,
   "id": "3a699d95",
   "metadata": {},
   "outputs": [],
   "source": [
    "# Qualitative and Quantitative Data Analysis\n",
    "# Qualitative - object\n",
    "# Quantitative - Numerical\n",
    "\n",
    "# Function for QualQuan\n",
    "\n",
    "def qualQuan(dataset):\n",
    "    qual=[]\n",
    "    quan=[]\n",
    "    for columnName in dataset.columns:\n",
    "        print(columnName)\n",
    "        if (dataset[columnName].dtypes=='O'):\n",
    "            print(\"Qualitative\")\n",
    "            qual.append(columnName)\n",
    "            \n",
    "        else:\n",
    "            print(\"Quantitative\")\n",
    "            quan.append(columnName)\n",
    "            \n",
    "    return qual,quan "
   ]
  },
  {
   "cell_type": "code",
   "execution_count": 6,
   "id": "dec2926e",
   "metadata": {},
   "outputs": [
    {
     "name": "stdout",
     "output_type": "stream",
     "text": [
      "DATE\n",
      "Qualitative\n",
      "CSUSHPISA\n",
      "Quantitative\n"
     ]
    }
   ],
   "source": [
    "# Calling the QualQuan function\n",
    "\n",
    "qual,quan=qualQuan(dataset)"
   ]
  },
  {
   "cell_type": "code",
   "execution_count": 7,
   "id": "494868aa",
   "metadata": {},
   "outputs": [
    {
     "data": {
      "text/plain": [
       "['DATE']"
      ]
     },
     "execution_count": 7,
     "metadata": {},
     "output_type": "execute_result"
    }
   ],
   "source": [
    "# Qualitative data\n",
    "\n",
    "qual"
   ]
  },
  {
   "cell_type": "code",
   "execution_count": 8,
   "id": "48100301",
   "metadata": {},
   "outputs": [
    {
     "data": {
      "text/plain": [
       "['CSUSHPISA']"
      ]
     },
     "execution_count": 8,
     "metadata": {},
     "output_type": "execute_result"
    }
   ],
   "source": [
    "# Quantitative data\n",
    "\n",
    "quan"
   ]
  },
  {
   "cell_type": "markdown",
   "id": "c8b86a63",
   "metadata": {},
   "source": [
    "# Measure of Central Tendency\n",
    "# Mean, Median, Mode"
   ]
  },
  {
   "cell_type": "code",
   "execution_count": 9,
   "id": "d712016a",
   "metadata": {},
   "outputs": [],
   "source": [
    "# Function for Mean, Median, Mode\n",
    "\n",
    "def MeanMedianMode():\n",
    "    descriptive=pd.DataFrame(index=[\"Mean\",\"Median\",\"Mode\"],columns=quan)\n",
    "    for columnName in quan:\n",
    "        descriptive[columnName][\"Mean\"]=dataset[columnName].mean()\n",
    "        descriptive[columnName][\"Median\"]=dataset[columnName].median()\n",
    "        descriptive[columnName][\"Mode\"]=dataset[columnName].mode()[0]\n",
    "    return descriptive"
   ]
  },
  {
   "cell_type": "code",
   "execution_count": 10,
   "id": "a2e53ea8",
   "metadata": {},
   "outputs": [
    {
     "data": {
      "text/html": [
       "<div>\n",
       "<style scoped>\n",
       "    .dataframe tbody tr th:only-of-type {\n",
       "        vertical-align: middle;\n",
       "    }\n",
       "\n",
       "    .dataframe tbody tr th {\n",
       "        vertical-align: top;\n",
       "    }\n",
       "\n",
       "    .dataframe thead th {\n",
       "        text-align: right;\n",
       "    }\n",
       "</style>\n",
       "<table border=\"1\" class=\"dataframe\">\n",
       "  <thead>\n",
       "    <tr style=\"text-align: right;\">\n",
       "      <th></th>\n",
       "      <th>CSUSHPISA</th>\n",
       "    </tr>\n",
       "  </thead>\n",
       "  <tbody>\n",
       "    <tr>\n",
       "      <th>Mean</th>\n",
       "      <td>141.526198</td>\n",
       "    </tr>\n",
       "    <tr>\n",
       "      <th>Median</th>\n",
       "      <td>140.69</td>\n",
       "    </tr>\n",
       "    <tr>\n",
       "      <th>Mode</th>\n",
       "      <td>76.056</td>\n",
       "    </tr>\n",
       "  </tbody>\n",
       "</table>\n",
       "</div>"
      ],
      "text/plain": [
       "         CSUSHPISA\n",
       "Mean    141.526198\n",
       "Median      140.69\n",
       "Mode        76.056"
      ]
     },
     "execution_count": 10,
     "metadata": {},
     "output_type": "execute_result"
    }
   ],
   "source": [
    "# Call MeanMedianMode\n",
    "\n",
    "MeanMedianMode()"
   ]
  },
  {
   "cell_type": "markdown",
   "id": "f8aa6c78",
   "metadata": {},
   "source": [
    "# Measure of Location of data\n",
    "# Percentile"
   ]
  },
  {
   "cell_type": "code",
   "execution_count": 12,
   "id": "2dc800ab",
   "metadata": {},
   "outputs": [
    {
     "data": {
      "text/html": [
       "<div>\n",
       "<style scoped>\n",
       "    .dataframe tbody tr th:only-of-type {\n",
       "        vertical-align: middle;\n",
       "    }\n",
       "\n",
       "    .dataframe tbody tr th {\n",
       "        vertical-align: top;\n",
       "    }\n",
       "\n",
       "    .dataframe thead th {\n",
       "        text-align: right;\n",
       "    }\n",
       "</style>\n",
       "<table border=\"1\" class=\"dataframe\">\n",
       "  <thead>\n",
       "    <tr style=\"text-align: right;\">\n",
       "      <th></th>\n",
       "      <th>CSUSHPISA</th>\n",
       "    </tr>\n",
       "  </thead>\n",
       "  <tbody>\n",
       "    <tr>\n",
       "      <th>count</th>\n",
       "      <td>440.000000</td>\n",
       "    </tr>\n",
       "    <tr>\n",
       "      <th>mean</th>\n",
       "      <td>141.526198</td>\n",
       "    </tr>\n",
       "    <tr>\n",
       "      <th>std</th>\n",
       "      <td>60.725890</td>\n",
       "    </tr>\n",
       "    <tr>\n",
       "      <th>min</th>\n",
       "      <td>63.965000</td>\n",
       "    </tr>\n",
       "    <tr>\n",
       "      <th>25%</th>\n",
       "      <td>82.133750</td>\n",
       "    </tr>\n",
       "    <tr>\n",
       "      <th>50%</th>\n",
       "      <td>140.690000</td>\n",
       "    </tr>\n",
       "    <tr>\n",
       "      <th>75%</th>\n",
       "      <td>178.314500</td>\n",
       "    </tr>\n",
       "    <tr>\n",
       "      <th>max</th>\n",
       "      <td>309.404000</td>\n",
       "    </tr>\n",
       "  </tbody>\n",
       "</table>\n",
       "</div>"
      ],
      "text/plain": [
       "        CSUSHPISA\n",
       "count  440.000000\n",
       "mean   141.526198\n",
       "std     60.725890\n",
       "min     63.965000\n",
       "25%     82.133750\n",
       "50%    140.690000\n",
       "75%    178.314500\n",
       "max    309.404000"
      ]
     },
     "execution_count": 12,
     "metadata": {},
     "output_type": "execute_result"
    }
   ],
   "source": [
    "# describe() method gives us summary statistics for numerical columns in our DataFrame.\n",
    "\n",
    "dataset.describe()"
   ]
  },
  {
   "cell_type": "code",
   "execution_count": 13,
   "id": "db492d3e",
   "metadata": {},
   "outputs": [],
   "source": [
    "def Percentile():\n",
    "    descriptive=pd.DataFrame(index=[\"Mean\", \"Median\",\"Mode\",\"Q1:25%\",\"Q2:50%\",\"Q3:75%\",\"Q4:99%\",\"Q4:100%\"],columns=quan)\n",
    "    for columnName in quan:\n",
    "        descriptive[columnName][\"Mean\"]=dataset[columnName].mean()\n",
    "        descriptive[columnName][\"Median\"]=dataset[columnName].median()\n",
    "        descriptive[columnName][\"Mode\"]=dataset[columnName].mode()[0]\n",
    "        descriptive[columnName][\"Q1:25%\"]=dataset.describe()[columnName][\"25%\"]\n",
    "        descriptive[columnName][\"Q2:50%\"]=dataset.describe()[columnName][\"50%\"]\n",
    "        descriptive[columnName][\"Q3:75%\"]=dataset.describe()[columnName][\"75%\"]\n",
    "        descriptive[columnName][\"Q4:99%\"]=np.percentile(dataset[columnName],99)   # np.percentile\n",
    "        descriptive[columnName][\"Q4:100%\"]=dataset.describe()[columnName][\"max\"]  # as described in dataset.describe for 100%\n",
    "    return descriptive "
   ]
  },
  {
   "cell_type": "code",
   "execution_count": 14,
   "id": "f5867546",
   "metadata": {},
   "outputs": [
    {
     "data": {
      "text/html": [
       "<div>\n",
       "<style scoped>\n",
       "    .dataframe tbody tr th:only-of-type {\n",
       "        vertical-align: middle;\n",
       "    }\n",
       "\n",
       "    .dataframe tbody tr th {\n",
       "        vertical-align: top;\n",
       "    }\n",
       "\n",
       "    .dataframe thead th {\n",
       "        text-align: right;\n",
       "    }\n",
       "</style>\n",
       "<table border=\"1\" class=\"dataframe\">\n",
       "  <thead>\n",
       "    <tr style=\"text-align: right;\">\n",
       "      <th></th>\n",
       "      <th>CSUSHPISA</th>\n",
       "    </tr>\n",
       "  </thead>\n",
       "  <tbody>\n",
       "    <tr>\n",
       "      <th>Mean</th>\n",
       "      <td>141.526198</td>\n",
       "    </tr>\n",
       "    <tr>\n",
       "      <th>Median</th>\n",
       "      <td>140.69</td>\n",
       "    </tr>\n",
       "    <tr>\n",
       "      <th>Mode</th>\n",
       "      <td>76.056</td>\n",
       "    </tr>\n",
       "    <tr>\n",
       "      <th>Q1:25%</th>\n",
       "      <td>82.13375</td>\n",
       "    </tr>\n",
       "    <tr>\n",
       "      <th>Q2:50%</th>\n",
       "      <td>140.69</td>\n",
       "    </tr>\n",
       "    <tr>\n",
       "      <th>Q3:75%</th>\n",
       "      <td>178.3145</td>\n",
       "    </tr>\n",
       "    <tr>\n",
       "      <th>Q4:99%</th>\n",
       "      <td>303.76402</td>\n",
       "    </tr>\n",
       "    <tr>\n",
       "      <th>Q4:100%</th>\n",
       "      <td>309.404</td>\n",
       "    </tr>\n",
       "  </tbody>\n",
       "</table>\n",
       "</div>"
      ],
      "text/plain": [
       "          CSUSHPISA\n",
       "Mean     141.526198\n",
       "Median       140.69\n",
       "Mode         76.056\n",
       "Q1:25%     82.13375\n",
       "Q2:50%       140.69\n",
       "Q3:75%     178.3145\n",
       "Q4:99%    303.76402\n",
       "Q4:100%     309.404"
      ]
     },
     "execution_count": 14,
     "metadata": {},
     "output_type": "execute_result"
    }
   ],
   "source": [
    "Percentile()"
   ]
  },
  {
   "cell_type": "markdown",
   "id": "85fb1ea6",
   "metadata": {},
   "source": [
    "# Measure of Location of Data\n",
    "# Inter Quartile Range\n",
    "# Potential Outlier"
   ]
  },
  {
   "cell_type": "code",
   "execution_count": 19,
   "id": "84a27456",
   "metadata": {},
   "outputs": [],
   "source": [
    "# IQR,Outlier Function\n",
    "\n",
    "def IQROutlier():\n",
    "    descriptive=pd.DataFrame(index=[\"Mean\", \"Median\",\"Mode\",\"Q1:25%\",\"Q2:50%\",\"Q3:75%\",\"99%\",\"Q4:100%\",\"IQR\",\"1.5rule\",\"LesserOutlier\",\"GreaterOutlier\",\"min values\",\"max values\"],columns=quan)\n",
    "    for columnName in quan:\n",
    "        descriptive[columnName][\"Mean\"]=dataset[columnName].mean()\n",
    "        descriptive[columnName][\"Median\"]=dataset[columnName].median()\n",
    "        descriptive[columnName][\"Mode\"]=dataset[columnName].mode()[0]\n",
    "\n",
    "        descriptive[columnName][\"Q1:25%\"]=dataset.describe()[columnName][\"25%\"]\n",
    "        descriptive[columnName][\"Q2:50%\"]=dataset.describe()[columnName][\"50%\"]\n",
    "        descriptive[columnName][\"Q3:75%\"]=dataset.describe()[columnName][\"75%\"]\n",
    "        descriptive[columnName][\"99%\"]=np.percentile(dataset[columnName],99)   # np.percentile\n",
    "        descriptive[columnName][\"Q4:100%\"]=dataset.describe()[columnName][\"max\"]  # as described in dataset.describe for 100%\n",
    "\n",
    "        descriptive[columnName][\"IQR\"]=descriptive[columnName][\"Q3:75%\"]-descriptive[columnName][\"Q1:25%\"]\n",
    "        descriptive[columnName][\"1.5rule\"]=1.5*descriptive[columnName][\"IQR\"]\n",
    "        descriptive[columnName][\"LesserOutlier\"]=descriptive[columnName][\"Q1:25%\"]- descriptive[columnName][\"1.5rule\"]\n",
    "        descriptive[columnName][\"GreaterOutlier\"]=descriptive[columnName][\"Q3:75%\"]+ descriptive[columnName][\"1.5rule\"]\n",
    "        descriptive[columnName][\"min values\"]=dataset[columnName].min()\n",
    "        descriptive[columnName][\"max values\"]=dataset[columnName].max()\n",
    "\n",
    "\n",
    "    return descriptive  "
   ]
  },
  {
   "cell_type": "code",
   "execution_count": 20,
   "id": "f4e85a0a",
   "metadata": {},
   "outputs": [
    {
     "data": {
      "text/html": [
       "<div>\n",
       "<style scoped>\n",
       "    .dataframe tbody tr th:only-of-type {\n",
       "        vertical-align: middle;\n",
       "    }\n",
       "\n",
       "    .dataframe tbody tr th {\n",
       "        vertical-align: top;\n",
       "    }\n",
       "\n",
       "    .dataframe thead th {\n",
       "        text-align: right;\n",
       "    }\n",
       "</style>\n",
       "<table border=\"1\" class=\"dataframe\">\n",
       "  <thead>\n",
       "    <tr style=\"text-align: right;\">\n",
       "      <th></th>\n",
       "      <th>CSUSHPISA</th>\n",
       "    </tr>\n",
       "  </thead>\n",
       "  <tbody>\n",
       "    <tr>\n",
       "      <th>Mean</th>\n",
       "      <td>141.526198</td>\n",
       "    </tr>\n",
       "    <tr>\n",
       "      <th>Median</th>\n",
       "      <td>140.69</td>\n",
       "    </tr>\n",
       "    <tr>\n",
       "      <th>Mode</th>\n",
       "      <td>76.056</td>\n",
       "    </tr>\n",
       "    <tr>\n",
       "      <th>Q1:25%</th>\n",
       "      <td>82.13375</td>\n",
       "    </tr>\n",
       "    <tr>\n",
       "      <th>Q2:50%</th>\n",
       "      <td>140.69</td>\n",
       "    </tr>\n",
       "    <tr>\n",
       "      <th>Q3:75%</th>\n",
       "      <td>178.3145</td>\n",
       "    </tr>\n",
       "    <tr>\n",
       "      <th>99%</th>\n",
       "      <td>303.76402</td>\n",
       "    </tr>\n",
       "    <tr>\n",
       "      <th>Q4:100%</th>\n",
       "      <td>309.404</td>\n",
       "    </tr>\n",
       "    <tr>\n",
       "      <th>IQR</th>\n",
       "      <td>96.18075</td>\n",
       "    </tr>\n",
       "    <tr>\n",
       "      <th>1.5rule</th>\n",
       "      <td>144.271125</td>\n",
       "    </tr>\n",
       "    <tr>\n",
       "      <th>LesserOutlier</th>\n",
       "      <td>-62.137375</td>\n",
       "    </tr>\n",
       "    <tr>\n",
       "      <th>GreaterOutlier</th>\n",
       "      <td>322.585625</td>\n",
       "    </tr>\n",
       "    <tr>\n",
       "      <th>min values</th>\n",
       "      <td>63.965</td>\n",
       "    </tr>\n",
       "    <tr>\n",
       "      <th>max values</th>\n",
       "      <td>309.404</td>\n",
       "    </tr>\n",
       "  </tbody>\n",
       "</table>\n",
       "</div>"
      ],
      "text/plain": [
       "                 CSUSHPISA\n",
       "Mean            141.526198\n",
       "Median              140.69\n",
       "Mode                76.056\n",
       "Q1:25%            82.13375\n",
       "Q2:50%              140.69\n",
       "Q3:75%            178.3145\n",
       "99%              303.76402\n",
       "Q4:100%            309.404\n",
       "IQR               96.18075\n",
       "1.5rule         144.271125\n",
       "LesserOutlier   -62.137375\n",
       "GreaterOutlier  322.585625\n",
       "min values          63.965\n",
       "max values         309.404"
      ]
     },
     "execution_count": 20,
     "metadata": {},
     "output_type": "execute_result"
    }
   ],
   "source": [
    "IQROutlier()"
   ]
  },
  {
   "cell_type": "code",
   "execution_count": 21,
   "id": "62dee1ca",
   "metadata": {},
   "outputs": [],
   "source": [
    "# Potential Outlier Function\n",
    "\n",
    "def PotentialOutlier(lesser,greater):\n",
    "    lesser=[]\n",
    "    greater=[]\n",
    "\n",
    "    for columnName in quan:\n",
    "        if descriptive[columnName][\"min values\"]< descriptive[columnName][\"LesserOutlier\"]:\n",
    "            lesser.append(columnName)\n",
    "\n",
    "        if descriptive[columnName][\"max values\"]> descriptive[columnName][\"GreaterOutlier\"]:\n",
    "            greater.append(columnName)\n",
    "            \n",
    "    return lesser,greater"
   ]
  },
  {
   "cell_type": "code",
   "execution_count": 23,
   "id": "f2bcd18c",
   "metadata": {},
   "outputs": [
    {
     "data": {
      "text/plain": [
       "([], [])"
      ]
     },
     "execution_count": 23,
     "metadata": {},
     "output_type": "execute_result"
    }
   ],
   "source": [
    "PotentialOutlier(lesser,greater)"
   ]
  },
  {
   "cell_type": "markdown",
   "id": "985a2c3f",
   "metadata": {},
   "source": [
    "# No outlier is present in the dataset"
   ]
  },
  {
   "cell_type": "code",
   "execution_count": null,
   "id": "736df550",
   "metadata": {},
   "outputs": [],
   "source": []
  },
  {
   "cell_type": "markdown",
   "id": "9804a00b",
   "metadata": {},
   "source": [
    "# Measure of Location of data\n",
    "# Frequency\n",
    "# Relative Frequency\n",
    "# Cumulative Relative Frequency"
   ]
  },
  {
   "cell_type": "code",
   "execution_count": 37,
   "id": "152a48b4",
   "metadata": {},
   "outputs": [],
   "source": [
    "#Funtion for frequency Table\n",
    "\n",
    "def freqTable(columnName,dataset):\n",
    "    freqTable=pd.DataFrame(columns=[\"Unique values\",\"Frequency\",\"Relative Frequency\",\"Cumulative RF\"])\n",
    "\n",
    "    freqTable[\"Unique values\"]=dataset[columnName].value_counts().index\n",
    "    freqTable[\"Frequency\"]=dataset[columnName].value_counts().values\n",
    "    freqTable[\"Relative Frequency\"]=dataset[columnName].value_counts().values/len(dataset[columnName])*100      \n",
    "    freqTable[\"Cumulative RF\"]=freqTable[\"Relative Frequency\"].cumsum()\n",
    "    return freqTable"
   ]
  },
  {
   "cell_type": "code",
   "execution_count": 38,
   "id": "94ef2351",
   "metadata": {},
   "outputs": [
    {
     "data": {
      "text/html": [
       "<div>\n",
       "<style scoped>\n",
       "    .dataframe tbody tr th:only-of-type {\n",
       "        vertical-align: middle;\n",
       "    }\n",
       "\n",
       "    .dataframe tbody tr th {\n",
       "        vertical-align: top;\n",
       "    }\n",
       "\n",
       "    .dataframe thead th {\n",
       "        text-align: right;\n",
       "    }\n",
       "</style>\n",
       "<table border=\"1\" class=\"dataframe\">\n",
       "  <thead>\n",
       "    <tr style=\"text-align: right;\">\n",
       "      <th></th>\n",
       "      <th>Unique values</th>\n",
       "      <th>Frequency</th>\n",
       "      <th>Relative Frequency</th>\n",
       "      <th>Cumulative RF</th>\n",
       "    </tr>\n",
       "  </thead>\n",
       "  <tbody>\n",
       "    <tr>\n",
       "      <th>0</th>\n",
       "      <td>76.056</td>\n",
       "      <td>2</td>\n",
       "      <td>0.454545</td>\n",
       "      <td>0.454545</td>\n",
       "    </tr>\n",
       "    <tr>\n",
       "      <th>1</th>\n",
       "      <td>63.965</td>\n",
       "      <td>1</td>\n",
       "      <td>0.227273</td>\n",
       "      <td>0.681818</td>\n",
       "    </tr>\n",
       "    <tr>\n",
       "      <th>2</th>\n",
       "      <td>139.981</td>\n",
       "      <td>1</td>\n",
       "      <td>0.227273</td>\n",
       "      <td>0.909091</td>\n",
       "    </tr>\n",
       "    <tr>\n",
       "      <th>3</th>\n",
       "      <td>136.607</td>\n",
       "      <td>1</td>\n",
       "      <td>0.227273</td>\n",
       "      <td>1.136364</td>\n",
       "    </tr>\n",
       "    <tr>\n",
       "      <th>4</th>\n",
       "      <td>136.674</td>\n",
       "      <td>1</td>\n",
       "      <td>0.227273</td>\n",
       "      <td>1.363636</td>\n",
       "    </tr>\n",
       "    <tr>\n",
       "      <th>...</th>\n",
       "      <td>...</td>\n",
       "      <td>...</td>\n",
       "      <td>...</td>\n",
       "      <td>...</td>\n",
       "    </tr>\n",
       "    <tr>\n",
       "      <th>434</th>\n",
       "      <td>93.208</td>\n",
       "      <td>1</td>\n",
       "      <td>0.227273</td>\n",
       "      <td>99.090909</td>\n",
       "    </tr>\n",
       "    <tr>\n",
       "      <th>435</th>\n",
       "      <td>92.712</td>\n",
       "      <td>1</td>\n",
       "      <td>0.227273</td>\n",
       "      <td>99.318182</td>\n",
       "    </tr>\n",
       "    <tr>\n",
       "      <th>436</th>\n",
       "      <td>92.199</td>\n",
       "      <td>1</td>\n",
       "      <td>0.227273</td>\n",
       "      <td>99.545455</td>\n",
       "    </tr>\n",
       "    <tr>\n",
       "      <th>437</th>\n",
       "      <td>91.717</td>\n",
       "      <td>1</td>\n",
       "      <td>0.227273</td>\n",
       "      <td>99.772727</td>\n",
       "    </tr>\n",
       "    <tr>\n",
       "      <th>438</th>\n",
       "      <td>309.404</td>\n",
       "      <td>1</td>\n",
       "      <td>0.227273</td>\n",
       "      <td>100.000000</td>\n",
       "    </tr>\n",
       "  </tbody>\n",
       "</table>\n",
       "<p>439 rows × 4 columns</p>\n",
       "</div>"
      ],
      "text/plain": [
       "     Unique values  Frequency  Relative Frequency  Cumulative RF\n",
       "0           76.056          2            0.454545       0.454545\n",
       "1           63.965          1            0.227273       0.681818\n",
       "2          139.981          1            0.227273       0.909091\n",
       "3          136.607          1            0.227273       1.136364\n",
       "4          136.674          1            0.227273       1.363636\n",
       "..             ...        ...                 ...            ...\n",
       "434         93.208          1            0.227273      99.090909\n",
       "435         92.712          1            0.227273      99.318182\n",
       "436         92.199          1            0.227273      99.545455\n",
       "437         91.717          1            0.227273      99.772727\n",
       "438        309.404          1            0.227273     100.000000\n",
       "\n",
       "[439 rows x 4 columns]"
      ]
     },
     "execution_count": 38,
     "metadata": {},
     "output_type": "execute_result"
    }
   ],
   "source": [
    "freqTable(\"CSUSHPISA\",dataset)"
   ]
  },
  {
   "cell_type": "markdown",
   "id": "9a5b90c7",
   "metadata": {},
   "source": [
    "# Skewness \n",
    "# Kurtosis"
   ]
  },
  {
   "cell_type": "code",
   "execution_count": 27,
   "id": "de8ff0fd",
   "metadata": {},
   "outputs": [],
   "source": [
    "# Skewness and Kurtosis Function\n",
    "\n",
    "def SkewKurtosis():\n",
    "    descriptive=pd.DataFrame(index=[\"Mean\", \"Median\",\"Mode\",\"Q1:25%\",\"Q2:50%\",\"Q3:75%\",\"99%\",\"Q4:100%\",\"IQR\",\"1.5rule\",\"LesserOutlier\",\"GreaterOutlier\",\"min values\",\"max values\",\"Skewness\",\"Kurtosis\"],columns=quan)\n",
    "    for columnName in quan:\n",
    "        descriptive[columnName][\"Mean\"]=dataset[columnName].mean()\n",
    "        descriptive[columnName][\"Median\"]=dataset[columnName].median()\n",
    "        descriptive[columnName][\"Mode\"]=dataset[columnName].mode()[0]\n",
    "\n",
    "        descriptive[columnName][\"Q1:25%\"]=dataset.describe()[columnName][\"25%\"]\n",
    "        descriptive[columnName][\"Q2:50%\"]=dataset.describe()[columnName][\"50%\"]\n",
    "        descriptive[columnName][\"Q3:75%\"]=dataset.describe()[columnName][\"75%\"]\n",
    "        descriptive[columnName][\"99%\"]=np.percentile(dataset[columnName],99)   # np.percentile\n",
    "        descriptive[columnName][\"Q4:100%\"]=dataset.describe()[columnName][\"max\"]  # as described in dataset.describe for 100%\n",
    "\n",
    "        descriptive[columnName][\"IQR\"]=descriptive[columnName][\"Q3:75%\"]-descriptive[columnName][\"Q1:25%\"]\n",
    "        descriptive[columnName][\"1.5rule\"]=1.5*descriptive[columnName][\"IQR\"]\n",
    "        descriptive[columnName][\"LesserOutlier\"]=descriptive[columnName][\"Q1:25%\"]- descriptive[columnName][\"1.5rule\"]\n",
    "        descriptive[columnName][\"GreaterOutlier\"]=descriptive[columnName][\"Q3:75%\"]+ descriptive[columnName][\"1.5rule\"]\n",
    "        descriptive[columnName][\"min values\"]=dataset[columnName].min()\n",
    "        descriptive[columnName][\"max values\"]=dataset[columnName].max()\n",
    "        \n",
    "        descriptive[columnName][\"Skewness\"]=dataset[columnName].skew()\n",
    "        descriptive[columnName][\"Kurtosis\"]=dataset[columnName].kurtosis()\n",
    "\n",
    "\n",
    "    return descriptive  "
   ]
  },
  {
   "cell_type": "code",
   "execution_count": 28,
   "id": "649c54e5",
   "metadata": {},
   "outputs": [
    {
     "data": {
      "text/html": [
       "<div>\n",
       "<style scoped>\n",
       "    .dataframe tbody tr th:only-of-type {\n",
       "        vertical-align: middle;\n",
       "    }\n",
       "\n",
       "    .dataframe tbody tr th {\n",
       "        vertical-align: top;\n",
       "    }\n",
       "\n",
       "    .dataframe thead th {\n",
       "        text-align: right;\n",
       "    }\n",
       "</style>\n",
       "<table border=\"1\" class=\"dataframe\">\n",
       "  <thead>\n",
       "    <tr style=\"text-align: right;\">\n",
       "      <th></th>\n",
       "      <th>CSUSHPISA</th>\n",
       "    </tr>\n",
       "  </thead>\n",
       "  <tbody>\n",
       "    <tr>\n",
       "      <th>Mean</th>\n",
       "      <td>141.526198</td>\n",
       "    </tr>\n",
       "    <tr>\n",
       "      <th>Median</th>\n",
       "      <td>140.69</td>\n",
       "    </tr>\n",
       "    <tr>\n",
       "      <th>Mode</th>\n",
       "      <td>76.056</td>\n",
       "    </tr>\n",
       "    <tr>\n",
       "      <th>Q1:25%</th>\n",
       "      <td>82.13375</td>\n",
       "    </tr>\n",
       "    <tr>\n",
       "      <th>Q2:50%</th>\n",
       "      <td>140.69</td>\n",
       "    </tr>\n",
       "    <tr>\n",
       "      <th>Q3:75%</th>\n",
       "      <td>178.3145</td>\n",
       "    </tr>\n",
       "    <tr>\n",
       "      <th>99%</th>\n",
       "      <td>303.76402</td>\n",
       "    </tr>\n",
       "    <tr>\n",
       "      <th>Q4:100%</th>\n",
       "      <td>309.404</td>\n",
       "    </tr>\n",
       "    <tr>\n",
       "      <th>IQR</th>\n",
       "      <td>96.18075</td>\n",
       "    </tr>\n",
       "    <tr>\n",
       "      <th>1.5rule</th>\n",
       "      <td>144.271125</td>\n",
       "    </tr>\n",
       "    <tr>\n",
       "      <th>LesserOutlier</th>\n",
       "      <td>-62.137375</td>\n",
       "    </tr>\n",
       "    <tr>\n",
       "      <th>GreaterOutlier</th>\n",
       "      <td>322.585625</td>\n",
       "    </tr>\n",
       "    <tr>\n",
       "      <th>min values</th>\n",
       "      <td>63.965</td>\n",
       "    </tr>\n",
       "    <tr>\n",
       "      <th>max values</th>\n",
       "      <td>309.404</td>\n",
       "    </tr>\n",
       "    <tr>\n",
       "      <th>Skewness</th>\n",
       "      <td>0.803871</td>\n",
       "    </tr>\n",
       "    <tr>\n",
       "      <th>Kurtosis</th>\n",
       "      <td>0.191142</td>\n",
       "    </tr>\n",
       "  </tbody>\n",
       "</table>\n",
       "</div>"
      ],
      "text/plain": [
       "                 CSUSHPISA\n",
       "Mean            141.526198\n",
       "Median              140.69\n",
       "Mode                76.056\n",
       "Q1:25%            82.13375\n",
       "Q2:50%              140.69\n",
       "Q3:75%            178.3145\n",
       "99%              303.76402\n",
       "Q4:100%            309.404\n",
       "IQR               96.18075\n",
       "1.5rule         144.271125\n",
       "LesserOutlier   -62.137375\n",
       "GreaterOutlier  322.585625\n",
       "min values          63.965\n",
       "max values         309.404\n",
       "Skewness          0.803871\n",
       "Kurtosis          0.191142"
      ]
     },
     "execution_count": 28,
     "metadata": {},
     "output_type": "execute_result"
    }
   ],
   "source": [
    "SkewKurtosis()"
   ]
  },
  {
   "cell_type": "markdown",
   "id": "41be619c",
   "metadata": {},
   "source": [
    "# Measure of spread\n",
    "# Variance\n",
    "# Standard Deviation"
   ]
  },
  {
   "cell_type": "code",
   "execution_count": 29,
   "id": "a8dabef9",
   "metadata": {},
   "outputs": [],
   "source": [
    "# Variance and Standard Deviation\n",
    "\n",
    "def Univariate(dataset,quan):\n",
    "    descriptive=pd.DataFrame(index=[\"Mean\", \"Median\",\"Mode\",\"Q1:25%\",\"Q2:50%\",\"Q3:75%\",\"99%\",\"Q4:100%\",\"IQR\",\"1.5rule\",\"LesserOutlier\",\"GreaterOutlier\",\"min values\",\"max values\",\"Skewness\",\"Kurtosis\",\"Variance\",\"SD\"],columns=quan)\n",
    "    for columnName in quan:\n",
    "        descriptive[columnName][\"Mean\"]=dataset[columnName].mean()\n",
    "        descriptive[columnName][\"Median\"]=dataset[columnName].median()\n",
    "        descriptive[columnName][\"Mode\"]=dataset[columnName].mode()[0]\n",
    "\n",
    "        descriptive[columnName][\"Q1:25%\"]=dataset.describe()[columnName][\"25%\"]\n",
    "        descriptive[columnName][\"Q2:50%\"]=dataset.describe()[columnName][\"50%\"]\n",
    "        descriptive[columnName][\"Q3:75%\"]=dataset.describe()[columnName][\"75%\"]\n",
    "        descriptive[columnName][\"99%\"]=np.percentile(dataset[columnName],99)   # np.percentile\n",
    "        descriptive[columnName][\"Q4:100%\"]=dataset.describe()[columnName][\"max\"]  # as described in dataset.describe for 100%\n",
    "\n",
    "        descriptive[columnName][\"IQR\"]=descriptive[columnName][\"Q3:75%\"]-descriptive[columnName][\"Q1:25%\"]\n",
    "        descriptive[columnName][\"1.5rule\"]=1.5*descriptive[columnName][\"IQR\"]\n",
    "        descriptive[columnName][\"LesserOutlier\"]=descriptive[columnName][\"Q1:25%\"]- descriptive[columnName][\"1.5rule\"]\n",
    "        descriptive[columnName][\"GreaterOutlier\"]=descriptive[columnName][\"Q3:75%\"]+ descriptive[columnName][\"1.5rule\"]\n",
    "        descriptive[columnName][\"min values\"]=dataset[columnName].min()\n",
    "        descriptive[columnName][\"max values\"]=dataset[columnName].max()\n",
    "        \n",
    "        descriptive[columnName][\"Skewness\"]=dataset[columnName].skew()\n",
    "        descriptive[columnName][\"Kurtosis\"]=dataset[columnName].kurtosis()\n",
    "\n",
    "        descriptive[columnName][\"Variance\"]=dataset[columnName].var()\n",
    "        descriptive[columnName][\"SD\"]=dataset[columnName].std()\n",
    "\n",
    "    return descriptive  "
   ]
  },
  {
   "cell_type": "code",
   "execution_count": 30,
   "id": "134a5421",
   "metadata": {},
   "outputs": [
    {
     "data": {
      "text/html": [
       "<div>\n",
       "<style scoped>\n",
       "    .dataframe tbody tr th:only-of-type {\n",
       "        vertical-align: middle;\n",
       "    }\n",
       "\n",
       "    .dataframe tbody tr th {\n",
       "        vertical-align: top;\n",
       "    }\n",
       "\n",
       "    .dataframe thead th {\n",
       "        text-align: right;\n",
       "    }\n",
       "</style>\n",
       "<table border=\"1\" class=\"dataframe\">\n",
       "  <thead>\n",
       "    <tr style=\"text-align: right;\">\n",
       "      <th></th>\n",
       "      <th>CSUSHPISA</th>\n",
       "    </tr>\n",
       "  </thead>\n",
       "  <tbody>\n",
       "    <tr>\n",
       "      <th>Mean</th>\n",
       "      <td>141.526198</td>\n",
       "    </tr>\n",
       "    <tr>\n",
       "      <th>Median</th>\n",
       "      <td>140.69</td>\n",
       "    </tr>\n",
       "    <tr>\n",
       "      <th>Mode</th>\n",
       "      <td>76.056</td>\n",
       "    </tr>\n",
       "    <tr>\n",
       "      <th>Q1:25%</th>\n",
       "      <td>82.13375</td>\n",
       "    </tr>\n",
       "    <tr>\n",
       "      <th>Q2:50%</th>\n",
       "      <td>140.69</td>\n",
       "    </tr>\n",
       "    <tr>\n",
       "      <th>Q3:75%</th>\n",
       "      <td>178.3145</td>\n",
       "    </tr>\n",
       "    <tr>\n",
       "      <th>99%</th>\n",
       "      <td>303.76402</td>\n",
       "    </tr>\n",
       "    <tr>\n",
       "      <th>Q4:100%</th>\n",
       "      <td>309.404</td>\n",
       "    </tr>\n",
       "    <tr>\n",
       "      <th>IQR</th>\n",
       "      <td>96.18075</td>\n",
       "    </tr>\n",
       "    <tr>\n",
       "      <th>1.5rule</th>\n",
       "      <td>144.271125</td>\n",
       "    </tr>\n",
       "    <tr>\n",
       "      <th>LesserOutlier</th>\n",
       "      <td>-62.137375</td>\n",
       "    </tr>\n",
       "    <tr>\n",
       "      <th>GreaterOutlier</th>\n",
       "      <td>322.585625</td>\n",
       "    </tr>\n",
       "    <tr>\n",
       "      <th>min values</th>\n",
       "      <td>63.965</td>\n",
       "    </tr>\n",
       "    <tr>\n",
       "      <th>max values</th>\n",
       "      <td>309.404</td>\n",
       "    </tr>\n",
       "    <tr>\n",
       "      <th>Skewness</th>\n",
       "      <td>0.803871</td>\n",
       "    </tr>\n",
       "    <tr>\n",
       "      <th>Kurtosis</th>\n",
       "      <td>0.191142</td>\n",
       "    </tr>\n",
       "    <tr>\n",
       "      <th>Variance</th>\n",
       "      <td>3687.633716</td>\n",
       "    </tr>\n",
       "    <tr>\n",
       "      <th>SD</th>\n",
       "      <td>60.72589</td>\n",
       "    </tr>\n",
       "  </tbody>\n",
       "</table>\n",
       "</div>"
      ],
      "text/plain": [
       "                  CSUSHPISA\n",
       "Mean             141.526198\n",
       "Median               140.69\n",
       "Mode                 76.056\n",
       "Q1:25%             82.13375\n",
       "Q2:50%               140.69\n",
       "Q3:75%             178.3145\n",
       "99%               303.76402\n",
       "Q4:100%             309.404\n",
       "IQR                96.18075\n",
       "1.5rule          144.271125\n",
       "LesserOutlier    -62.137375\n",
       "GreaterOutlier   322.585625\n",
       "min values           63.965\n",
       "max values          309.404\n",
       "Skewness           0.803871\n",
       "Kurtosis           0.191142\n",
       "Variance        3687.633716\n",
       "SD                 60.72589"
      ]
     },
     "execution_count": 30,
     "metadata": {},
     "output_type": "execute_result"
    }
   ],
   "source": [
    "Univariate(dataset,quan)"
   ]
  },
  {
   "cell_type": "markdown",
   "id": "99c5544a",
   "metadata": {},
   "source": [
    "# Probability Density Function\n",
    "# Normal Distribution"
   ]
  },
  {
   "cell_type": "code",
   "execution_count": 31,
   "id": "1dae5670",
   "metadata": {},
   "outputs": [],
   "source": [
    "\n",
    "# seaborn -  data visualization library\n",
    "\n",
    "import seaborn as sns"
   ]
  },
  {
   "cell_type": "code",
   "execution_count": 32,
   "id": "8d23830c",
   "metadata": {},
   "outputs": [
    {
     "name": "stderr",
     "output_type": "stream",
     "text": [
      "C:\\Users\\DELL\\AppData\\Local\\Temp\\ipykernel_1896\\2460610442.py:5: UserWarning: \n",
      "\n",
      "`distplot` is a deprecated function and will be removed in seaborn v0.14.0.\n",
      "\n",
      "Please adapt your code to use either `displot` (a figure-level function with\n",
      "similar flexibility) or `histplot` (an axes-level function for histograms).\n",
      "\n",
      "For a guide to updating your code to use the new functions, please see\n",
      "https://gist.github.com/mwaskom/de44147ed2974457ad6372750bbe5751\n",
      "\n",
      "  sns.distplot(dataset[\"CSUSHPISA\"])\n",
      "F:\\Anaconda\\envs\\aiml\\Lib\\site-packages\\seaborn\\_oldcore.py:1498: FutureWarning: is_categorical_dtype is deprecated and will be removed in a future version. Use isinstance(dtype, CategoricalDtype) instead\n",
      "  if pd.api.types.is_categorical_dtype(vector):\n",
      "F:\\Anaconda\\envs\\aiml\\Lib\\site-packages\\seaborn\\_oldcore.py:1119: FutureWarning: use_inf_as_na option is deprecated and will be removed in a future version. Convert inf values to NaN before operating instead.\n",
      "  with pd.option_context('mode.use_inf_as_na', True):\n"
     ]
    },
    {
     "data": {
      "text/plain": [
       "<Axes: xlabel='CSUSHPISA', ylabel='Density'>"
      ]
     },
     "execution_count": 32,
     "metadata": {},
     "output_type": "execute_result"
    },
    {
     "data": {
      "image/png": "[encoded data removed]",
      "text/plain": [
       "<Figure size 640x480 with 1 Axes>"
      ]
     },
     "metadata": {},
     "output_type": "display_data"
    }
   ],
   "source": [
    "# distplot - distribution plot\n",
    "# distplot visualizes through histogram\n",
    "# distplot - y axis - Probability Density Function\n",
    "\n",
    "# The  histogram represents Probability Density Function of Normal Distribution\n",
    "\n",
    "sns.distplot(dataset[\"CSUSHPISA\"])"
   ]
  },
  {
   "cell_type": "code",
   "execution_count": 33,
   "id": "6ed156b8",
   "metadata": {},
   "outputs": [
    {
     "name": "stderr",
     "output_type": "stream",
     "text": [
      "F:\\Anaconda\\envs\\aiml\\Lib\\site-packages\\seaborn\\_oldcore.py:1498: FutureWarning: is_categorical_dtype is deprecated and will be removed in a future version. Use isinstance(dtype, CategoricalDtype) instead\n",
      "  if pd.api.types.is_categorical_dtype(vector):\n",
      "F:\\Anaconda\\envs\\aiml\\Lib\\site-packages\\seaborn\\_oldcore.py:1119: FutureWarning: use_inf_as_na option is deprecated and will be removed in a future version. Convert inf values to NaN before operating instead.\n",
      "  with pd.option_context('mode.use_inf_as_na', True):\n"
     ]
    },
    {
     "data": {
      "text/plain": [
       "<seaborn.axisgrid.FacetGrid at 0x24f79035790>"
      ]
     },
     "execution_count": 33,
     "metadata": {},
     "output_type": "execute_result"
    },
    {
     "data": {
      "image/png": "[encoded data removed]",
      "text/plain": [
       "<Figure size 500x500 with 1 Axes>"
      ]
     },
     "metadata": {},
     "output_type": "display_data"
    }
   ],
   "source": [
    "# displot() - y aixs -  count\n",
    "\n",
    "sns.displot(dataset[\"CSUSHPISA\"])"
   ]
  },
  {
   "cell_type": "markdown",
   "id": "263d7b1e",
   "metadata": {},
   "source": [
    "# Probability Density Function"
   ]
  },
  {
   "cell_type": "code",
   "execution_count": 34,
   "id": "148161ce",
   "metadata": {},
   "outputs": [],
   "source": [
    "# Probability Density Function\n",
    "\n",
    "def get_pdf_probability(dataset,startrange,endrange):\n",
    "    \n",
    "    from matplotlib import pyplot\n",
    "    from scipy.stats import norm\n",
    "    import seaborn as sns\n",
    "    \n",
    "    # kde - kernel density estimate\n",
    "    # axvline - Add a vertical line across the Axes.\n",
    "    ax = sns.distplot(dataset,kde=True,kde_kws={'color':'blue'},color='Green')\n",
    "    pyplot.axvline(startrange,color='Red')\n",
    "    pyplot.axvline(endrange,color='Red')\n",
    "    \n",
    "    # generate a sample\n",
    "    sample = dataset\n",
    "    # calculate mean, SD\n",
    "    sample_mean =sample.mean()\n",
    "    sample_std = sample.std()\n",
    "    print('Mean=%.3f, Standard Deviation=%.3f' % (sample_mean, sample_std))\n",
    "    # define the distribution\n",
    "    # Normal Distribution of mean and SD - norm(mean,SD)\n",
    "    dist = norm(sample_mean, sample_std)\n",
    "    \n",
    "    # one line for loop\n",
    "    # sample probabilities for a range of outcomes\n",
    "    # Probability density function pdf()\n",
    "    values = [value for value in range(startrange, endrange)]\n",
    "    probabilities = [dist.pdf(value) for value in values]    \n",
    "    prob=sum(probabilities)\n",
    "    print(\"The area between range({},{}):{}\".format(startrange,endrange,sum(probabilities)))\n",
    "    return prob\n",
    "    "
   ]
  },
  {
   "cell_type": "code",
   "execution_count": 35,
   "id": "6e962d60",
   "metadata": {},
   "outputs": [
    {
     "name": "stdout",
     "output_type": "stream",
     "text": [
      "Mean=141.526, Standard Deviation=60.726\n",
      "The area between range(100,200):0.5856868572708113\n"
     ]
    },
    {
     "name": "stderr",
     "output_type": "stream",
     "text": [
      "C:\\Users\\DELL\\AppData\\Local\\Temp\\ipykernel_1896\\2350304627.py:11: UserWarning: \n",
      "\n",
      "`distplot` is a deprecated function and will be removed in seaborn v0.14.0.\n",
      "\n",
      "Please adapt your code to use either `displot` (a figure-level function with\n",
      "similar flexibility) or `histplot` (an axes-level function for histograms).\n",
      "\n",
      "For a guide to updating your code to use the new functions, please see\n",
      "https://gist.github.com/mwaskom/de44147ed2974457ad6372750bbe5751\n",
      "\n",
      "  ax = sns.distplot(dataset,kde=True,kde_kws={'color':'blue'},color='Green')\n",
      "F:\\Anaconda\\envs\\aiml\\Lib\\site-packages\\seaborn\\_oldcore.py:1498: FutureWarning: is_categorical_dtype is deprecated and will be removed in a future version. Use isinstance(dtype, CategoricalDtype) instead\n",
      "  if pd.api.types.is_categorical_dtype(vector):\n",
      "F:\\Anaconda\\envs\\aiml\\Lib\\site-packages\\seaborn\\_oldcore.py:1119: FutureWarning: use_inf_as_na option is deprecated and will be removed in a future version. Convert inf values to NaN before operating instead.\n",
      "  with pd.option_context('mode.use_inf_as_na', True):\n"
     ]
    },
    {
     "data": {
      "text/plain": [
       "0.5856868572708113"
      ]
     },
     "execution_count": 35,
     "metadata": {},
     "output_type": "execute_result"
    },
    {
     "data": {
      "image/png": "[encoded data removed]",
      "text/plain": [
       "<Figure size 640x480 with 1 Axes>"
      ]
     },
     "metadata": {},
     "output_type": "display_data"
    }
   ],
   "source": [
    "get_pdf_probability(dataset[\"CSUSHPISA\"],100,200)"
   ]
  },
  {
   "cell_type": "markdown",
   "id": "d3f9086b",
   "metadata": {},
   "source": [
    "# Cumulative Density Function"
   ]
  },
  {
   "cell_type": "code",
   "execution_count": 36,
   "id": "50f6f97f",
   "metadata": {},
   "outputs": [
    {
     "data": {
      "text/plain": [
       "0.5886363636363636"
      ]
     },
     "execution_count": 36,
     "metadata": {},
     "output_type": "execute_result"
    }
   ],
   "source": [
    "# Cumulative Density Function\n",
    "\n",
    "# statsmodels is a Python module\n",
    "# ECDF - \"Empirical Cumulative Distribution Function\"\n",
    "\n",
    "from statsmodels.distributions.empirical_distribution import ECDF\n",
    "ecdf = ECDF(dataset['CSUSHPISA'])\n",
    "ecdf(150) # Cumulative Density Function\n"
   ]
  },
  {
   "cell_type": "code",
   "execution_count": null,
   "id": "cc4a7108",
   "metadata": {},
   "outputs": [],
   "source": []
  }
 ],
 "metadata": {
  "kernelspec": {
   "display_name": "Python 3 (ipykernel)",
   "language": "python",
   "name": "python3"
  },
  "language_info": {
   "codemirror_mode": {
    "name": "ipython",
    "version": 3
   },
   "file_extension": ".py",
   "mimetype": "text/x-python",
   "name": "python",
   "nbconvert_exporter": "python",
   "pygments_lexer": "ipython3",
   "version": "3.11.5"
  }
 },
 "nbformat": 4,
 "nbformat_minor": 5
}
