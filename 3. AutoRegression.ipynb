{
 "cells": [
  {
   "cell_type": "code",
   "execution_count": 1,
   "id": "5ca48dd0",
   "metadata": {},
   "outputs": [],
   "source": [
    "# import library\n",
    "\n",
    "import pandas as pd"
   ]
  },
  {
   "cell_type": "code",
   "execution_count": 2,
   "id": "e270a4d8",
   "metadata": {},
   "outputs": [
    {
     "data": {
      "text/html": [
       "<div>\n",
       "<style scoped>\n",
       "    .dataframe tbody tr th:only-of-type {\n",
       "        vertical-align: middle;\n",
       "    }\n",
       "\n",
       "    .dataframe tbody tr th {\n",
       "        vertical-align: top;\n",
       "    }\n",
       "\n",
       "    .dataframe thead th {\n",
       "        text-align: right;\n",
       "    }\n",
       "</style>\n",
       "<table border=\"1\" class=\"dataframe\">\n",
       "  <thead>\n",
       "    <tr style=\"text-align: right;\">\n",
       "      <th></th>\n",
       "      <th>DATE</th>\n",
       "      <th>CSUSHPISA</th>\n",
       "    </tr>\n",
       "  </thead>\n",
       "  <tbody>\n",
       "    <tr>\n",
       "      <th>0</th>\n",
       "      <td>1987-01-01</td>\n",
       "      <td>63.965</td>\n",
       "    </tr>\n",
       "    <tr>\n",
       "      <th>1</th>\n",
       "      <td>1987-02-01</td>\n",
       "      <td>64.424</td>\n",
       "    </tr>\n",
       "    <tr>\n",
       "      <th>2</th>\n",
       "      <td>1987-03-01</td>\n",
       "      <td>64.736</td>\n",
       "    </tr>\n",
       "    <tr>\n",
       "      <th>3</th>\n",
       "      <td>1987-04-01</td>\n",
       "      <td>65.132</td>\n",
       "    </tr>\n",
       "    <tr>\n",
       "      <th>4</th>\n",
       "      <td>1987-05-01</td>\n",
       "      <td>65.563</td>\n",
       "    </tr>\n",
       "    <tr>\n",
       "      <th>...</th>\n",
       "      <td>...</td>\n",
       "      <td>...</td>\n",
       "    </tr>\n",
       "    <tr>\n",
       "      <th>435</th>\n",
       "      <td>2023-04-01</td>\n",
       "      <td>300.198</td>\n",
       "    </tr>\n",
       "    <tr>\n",
       "      <th>436</th>\n",
       "      <td>2023-05-01</td>\n",
       "      <td>302.620</td>\n",
       "    </tr>\n",
       "    <tr>\n",
       "      <th>437</th>\n",
       "      <td>2023-06-01</td>\n",
       "      <td>304.651</td>\n",
       "    </tr>\n",
       "    <tr>\n",
       "      <th>438</th>\n",
       "      <td>2023-07-01</td>\n",
       "      <td>306.634</td>\n",
       "    </tr>\n",
       "    <tr>\n",
       "      <th>439</th>\n",
       "      <td>2023-08-01</td>\n",
       "      <td>309.404</td>\n",
       "    </tr>\n",
       "  </tbody>\n",
       "</table>\n",
       "<p>440 rows × 2 columns</p>\n",
       "</div>"
      ],
      "text/plain": [
       "           DATE  CSUSHPISA\n",
       "0    1987-01-01     63.965\n",
       "1    1987-02-01     64.424\n",
       "2    1987-03-01     64.736\n",
       "3    1987-04-01     65.132\n",
       "4    1987-05-01     65.563\n",
       "..          ...        ...\n",
       "435  2023-04-01    300.198\n",
       "436  2023-05-01    302.620\n",
       "437  2023-06-01    304.651\n",
       "438  2023-07-01    306.634\n",
       "439  2023-08-01    309.404\n",
       "\n",
       "[440 rows x 2 columns]"
      ]
     },
     "execution_count": 2,
     "metadata": {},
     "output_type": "execute_result"
    }
   ],
   "source": [
    "# load dataset\n",
    "\n",
    "dataset=pd.read_csv(\"CSUSHPISA.csv\")\n",
    "dataset"
   ]
  },
  {
   "cell_type": "markdown",
   "id": "ae7b312c",
   "metadata": {},
   "source": [
    "# Standardization/ Normalizaton\n",
    "# MinMax Scaler"
   ]
  },
  {
   "cell_type": "code",
   "execution_count": 3,
   "id": "68ec4b6a",
   "metadata": {},
   "outputs": [],
   "source": [
    "# Time Series - Univariate\n",
    "\n",
    "column=\"CSUSHPISA\""
   ]
  },
  {
   "cell_type": "code",
   "execution_count": 4,
   "id": "383f232a",
   "metadata": {},
   "outputs": [
    {
     "name": "stdout",
     "output_type": "stream",
     "text": [
      "Len: (440, 1)\n"
     ]
    }
   ],
   "source": [
    "from sklearn.preprocessing import MinMaxScaler\n",
    "Ms = MinMaxScaler()\n",
    "data1= Ms.fit_transform(dataset[[column]])\n",
    "print(\"Len:\",data1.shape)"
   ]
  },
  {
   "cell_type": "code",
   "execution_count": 5,
   "id": "aad1e5ee",
   "metadata": {},
   "outputs": [
    {
     "data": {
      "text/plain": [
       "440"
      ]
     },
     "execution_count": 5,
     "metadata": {},
     "output_type": "execute_result"
    }
   ],
   "source": [
    "len(data1)"
   ]
  },
  {
   "cell_type": "markdown",
   "id": "1c80b448",
   "metadata": {},
   "source": [
    "# Split Training and Testing data using series of data"
   ]
  },
  {
   "cell_type": "code",
   "execution_count": 6,
   "id": "3017a039",
   "metadata": {},
   "outputs": [
    {
     "name": "stdout",
     "output_type": "stream",
     "text": [
      "352\n",
      "X_train length: (352, 1)\n",
      "X_test length: (88, 1)\n",
      "y_train length: (352, 1)\n",
      "y_test length: (88, 1)\n"
     ]
    }
   ],
   "source": [
    "# x_train, x_test  - input training and testing data\n",
    "# y_train, y_test  - output training and testing data\n",
    "\n",
    "training_size = round(len(data1 ) * 0.80)  # Total -440\n",
    "print(training_size)\n",
    "\n",
    "X_train=data1[:training_size]              # first 0:352\n",
    "X_test=data1[training_size:]               # 88: last\n",
    "print(\"X_train length:\",X_train.shape)\n",
    "print(\"X_test length:\",X_test.shape)\n",
    "\n",
    "y_train=data1[:training_size]\n",
    "y_test=data1[training_size:]\n",
    "print(\"y_train length:\",y_train.shape)\n",
    "print(\"y_test length:\",y_test.shape)"
   ]
  },
  {
   "cell_type": "markdown",
   "id": "83c35725",
   "metadata": {},
   "source": [
    "# Model Creation"
   ]
  },
  {
   "cell_type": "code",
   "execution_count": 7,
   "id": "dc6c8b56",
   "metadata": {},
   "outputs": [
    {
     "name": "stderr",
     "output_type": "stream",
     "text": [
      "ERROR: Could not find a version that satisfies the requirement stockFunctions (from versions: none)\n",
      "ERROR: No matching distribution found for stockFunctions\n"
     ]
    }
   ],
   "source": [
    "! pip install stockFunctions"
   ]
  },
  {
   "cell_type": "code",
   "execution_count": null,
   "id": "e5ee203a",
   "metadata": {},
   "outputs": [],
   "source": []
  },
  {
   "cell_type": "code",
   "execution_count": 8,
   "id": "2c71e42f",
   "metadata": {},
   "outputs": [
    {
     "name": "stdout",
     "output_type": "stream",
     "text": [
      "Lag=1,Trend=n\n",
      "rmse : 0.02972818334767734\n",
      "mape : 0.15036086145906993\n",
      "************\n",
      "Lag=1,Trend=t\n",
      "rmse : 0.030172618180040602\n",
      "mape : 0.1490476252773987\n",
      "************\n",
      "Lag=1,Trend=c\n",
      "rmse : 0.043997324581833634\n",
      "mape : 0.19212903711680848\n",
      "************\n",
      "Lag=1,Trend=ct\n",
      "rmse : 0.04178784858929011\n",
      "mape : 0.18575980266902306\n",
      "************\n",
      "Lag=2,Trend=n\n",
      "rmse : 0.04360900122874988\n",
      "mape : 0.18419796424930432\n",
      "************\n",
      "Lag=2,Trend=t\n",
      "rmse : 0.03875895774874502\n",
      "mape : 0.1689285820019168\n",
      "************\n",
      "Lag=2,Trend=c\n",
      "rmse : 0.06354260105113173\n",
      "mape : 0.23007898887371303\n",
      "************\n",
      "Lag=2,Trend=ct\n",
      "rmse : 0.03865479873540433\n",
      "mape : 0.16860111847445208\n",
      "************\n",
      "Lag=3,Trend=n\n",
      "rmse : 0.044648209567822846\n",
      "mape : 0.18643277014947948\n",
      "************\n",
      "Lag=3,Trend=t\n",
      "rmse : 0.03935938804331178\n",
      "mape : 0.17033364059531927\n",
      "************\n",
      "Lag=3,Trend=c\n",
      "rmse : 0.06567133373525008\n",
      "mape : 0.23401729952554684\n",
      "************\n",
      "Lag=3,Trend=ct\n",
      "rmse : 0.039092759101775114\n",
      "mape : 0.16950087008969936\n",
      "************\n",
      "Lag=4,Trend=n\n",
      "rmse : 0.043628455332117295\n",
      "mape : 0.18400876604608382\n",
      "************\n",
      "Lag=4,Trend=t\n",
      "rmse : 0.03911839596843846\n",
      "mape : 0.16966740127384636\n",
      "************\n",
      "Lag=4,Trend=c\n",
      "rmse : 0.06413455286422926\n",
      "mape : 0.23106539444660543\n",
      "************\n",
      "Lag=4,Trend=ct\n",
      "rmse : 0.03870698153629952\n",
      "mape : 0.16837568210394477\n",
      "************\n"
     ]
    }
   ],
   "source": [
    "from sklearn.metrics import mean_squared_error\n",
    "\n",
    "trends=['n','t','c','ct']\n",
    "lags=[1,2,3,4]\n",
    "\n",
    "from statsmodels.tsa.ar_model import AutoReg\n",
    "\n",
    "for i in lags:\n",
    "    #print(i)   \n",
    "    for td in trends:        \n",
    "        #print(td)\n",
    "        #trendslist.append(td)\n",
    "        model = AutoReg(X_train, lags=i,trend=td)\n",
    "        model_fit = model.fit()\n",
    "        # make prediction\n",
    "        y_pred= model_fit.predict(len(X_train), len(data1)-1)\n",
    "        #print(y_pred)\n",
    "        #mse=mean_squared_error(y_test,y_pred,squared=False)\n",
    "        \n",
    "        # from UserDefinedFns import rmsemape\n",
    "        # rmsemape(y_test,y_pred)\n",
    "        \n",
    "        from sklearn import metrics\n",
    "        print(\"Lag={},Trend={}\".format(i,td))\n",
    "        # rmse - root mean squared error\n",
    "        print(\"rmse :\", metrics.mean_squared_error(y_test,y_pred))\n",
    "        # mape - mean absolute percentage error\n",
    "        print(\"mape :\", metrics.mean_absolute_percentage_error(y_test,y_pred))\n",
    "        \n",
    "        \n",
    "        print(\"************\")"
   ]
  },
  {
   "cell_type": "code",
   "execution_count": 9,
   "id": "cb9f2569",
   "metadata": {},
   "outputs": [
    {
     "data": {
      "text/plain": [
       "88"
      ]
     },
     "execution_count": 9,
     "metadata": {},
     "output_type": "execute_result"
    }
   ],
   "source": [
    "len(y_pred)"
   ]
  },
  {
   "cell_type": "markdown",
   "id": "9c6afafa",
   "metadata": {},
   "source": [
    "# Lag=1,Trend=n"
   ]
  },
  {
   "cell_type": "code",
   "execution_count": 10,
   "id": "71efbe39",
   "metadata": {},
   "outputs": [
    {
     "name": "stdout",
     "output_type": "stream",
     "text": [
      "Lag=1,Trend=n\n",
      "rmse : 0.02972818334767734\n",
      "mape : 0.15036086145906993\n",
      "************\n"
     ]
    }
   ],
   "source": [
    "# choose minimum rmse and mape values of lag and trend\n",
    "\n",
    "i=1\n",
    "td='n'\n",
    "\n",
    "model = AutoReg(X_train, lags=i,trend=td)\n",
    "model_fit = model.fit()\n",
    "# make prediction\n",
    "y_pred= model_fit.predict(len(X_train), len(data1)-1)\n",
    "#print(y_pred)\n",
    "from sklearn.metrics import r2_score\n",
    "mse=mean_squared_error(y_test,y_pred,squared=False)\n",
    "\n",
    "# from stockFunctions import rmsemape\n",
    "\n",
    "from sklearn import metrics\n",
    "print(\"Lag={},Trend={}\".format(i,td))\n",
    "# rmse - root mean squared error\n",
    "print(\"rmse :\", metrics.mean_squared_error(y_test,y_pred))\n",
    "# mape - mean absolute percentage error\n",
    "print(\"mape :\", metrics.mean_absolute_percentage_error(y_test,y_pred))\n",
    "\n",
    "# rmsemape(y_test,y_pred)\n",
    "print(\"************\")"
   ]
  },
  {
   "cell_type": "markdown",
   "id": "2511f4c7",
   "metadata": {},
   "source": [
    "# Graph"
   ]
  },
  {
   "cell_type": "code",
   "execution_count": 11,
   "id": "6c79fdd3",
   "metadata": {},
   "outputs": [
    {
     "data": {
      "image/png": "[encoded data removed]",
      "text/plain": [
       "<Figure size 640x480 with 1 Axes>"
      ]
     },
     "metadata": {},
     "output_type": "display_data"
    }
   ],
   "source": [
    "import matplotlib.pyplot as plt\n",
    "\n",
    "# plt.plot(\"Actual \",y_test)\n",
    "# plt.plot(\"Predicted \", y_pred,colors='red')\n",
    "plt.title(\"CSUSHPISA\")\n",
    "plt.xlabel(\"Days\")\n",
    "plt.ylabel(\"Prices\")\n",
    "plt.plot(y_test, label='Actual')\n",
    "plt.plot(y_pred,color='red', label='Predicted')\n",
    "plt.legend()\n",
    "plt.show()"
   ]
  },
  {
   "cell_type": "code",
   "execution_count": 12,
   "id": "8600607b",
   "metadata": {},
   "outputs": [
    {
     "data": {
      "text/plain": [
       "440"
      ]
     },
     "execution_count": 12,
     "metadata": {},
     "output_type": "execute_result"
    }
   ],
   "source": [
    "len(data1)"
   ]
  },
  {
   "cell_type": "code",
   "execution_count": 13,
   "id": "c8b2f913",
   "metadata": {},
   "outputs": [
    {
     "data": {
      "text/plain": [
       "array([[0.47043868],\n",
       "       [0.47310737],\n",
       "       [0.47616312],\n",
       "       [0.48030264],\n",
       "       [0.48426697],\n",
       "       [0.48804387],\n",
       "       [0.49215487],\n",
       "       [0.49609068],\n",
       "       [0.50049096],\n",
       "       [0.50256072],\n",
       "       [0.50532719],\n",
       "       [0.5083096 ],\n",
       "       [0.5119439 ],\n",
       "       [0.51559858],\n",
       "       [0.51941623],\n",
       "       [0.52435839],\n",
       "       [0.52882386],\n",
       "       [0.53308561],\n",
       "       [0.53778332],\n",
       "       [0.542754  ],\n",
       "       [0.54738245],\n",
       "       [0.55110231],\n",
       "       [0.55409287],\n",
       "       [0.55692046],\n",
       "       [0.56004954],\n",
       "       [0.56336605],\n",
       "       [0.56609585],\n",
       "       [0.56927791],\n",
       "       [0.57198734],\n",
       "       [0.57511235],\n",
       "       [0.5773899 ],\n",
       "       [0.57938632],\n",
       "       [0.58089383],\n",
       "       [0.5821528 ],\n",
       "       [0.58296359],\n",
       "       [0.58483371],\n",
       "       [0.58740868],\n",
       "       [0.58953141],\n",
       "       [0.59198823],\n",
       "       [0.59541067],\n",
       "       [0.59871496],\n",
       "       [0.60236148],\n",
       "       [0.60642359],\n",
       "       [0.61110907],\n",
       "       [0.61534231],\n",
       "       [0.61877697],\n",
       "       [0.62092821],\n",
       "       [0.62270462],\n",
       "       [0.62346245],\n",
       "       [0.62608224],\n",
       "       [0.63297601],\n",
       "       [0.64561459],\n",
       "       [0.65958548],\n",
       "       [0.67558945],\n",
       "       [0.6896622 ],\n",
       "       [0.70305045],\n",
       "       [0.71542827],\n",
       "       [0.72669788],\n",
       "       [0.7392346 ],\n",
       "       [0.75411813],\n",
       "       [0.77192704],\n",
       "       [0.79211535],\n",
       "       [0.80974091],\n",
       "       [0.82691015],\n",
       "       [0.8410929 ],\n",
       "       [0.85481118],\n",
       "       [0.868998  ],\n",
       "       [0.88587388],\n",
       "       [0.90432246],\n",
       "       [0.92538268],\n",
       "       [0.94682589],\n",
       "       [0.96392586],\n",
       "       [0.97715115],\n",
       "       [0.98105843],\n",
       "       [0.97681705],\n",
       "       [0.96818761],\n",
       "       [0.95915889],\n",
       "       [0.95729285],\n",
       "       [0.95480751],\n",
       "       [0.95138099],\n",
       "       [0.94956384],\n",
       "       [0.95135247],\n",
       "       [0.95573238],\n",
       "       [0.9624917 ],\n",
       "       [0.97235973],\n",
       "       [0.9806347 ],\n",
       "       [0.9887141 ],\n",
       "       [1.        ]])"
      ]
     },
     "execution_count": 13,
     "metadata": {},
     "output_type": "execute_result"
    }
   ],
   "source": [
    "# Actual values\n",
    "\n",
    "y_test"
   ]
  },
  {
   "cell_type": "code",
   "execution_count": 14,
   "id": "6648219f",
   "metadata": {},
   "outputs": [],
   "source": [
    "# actual values -  y_test\n",
    "# Convert minmax scaler into inverse_transform \n",
    "\n",
    "actual=Ms.inverse_transform(y_test)"
   ]
  },
  {
   "cell_type": "code",
   "execution_count": 15,
   "id": "351e5088",
   "metadata": {},
   "outputs": [
    {
     "data": {
      "text/plain": [
       "array([0.46964986, 0.47157015, 0.47349828, 0.4754343 , 0.47737823,\n",
       "       0.47933012, 0.48128998, 0.48325786, 0.48523378, 0.48721778,\n",
       "       0.48920989, 0.49121015, 0.49321859, 0.49523524, 0.49726014,\n",
       "       0.49929331, 0.5013348 , 0.50338463, 0.50544285, 0.50750948,\n",
       "       0.50958456, 0.51166813, 0.51376021, 0.51586085, 0.51797008,\n",
       "       0.52008793, 0.52221444, 0.52434965, 0.52649359, 0.52864629,\n",
       "       0.5308078 , 0.53297814, 0.53515735, 0.53734548, 0.53954256,\n",
       "       0.54174861, 0.54396369, 0.54618782, 0.54842105, 0.55066341,\n",
       "       0.55291494, 0.55517567, 0.55744565, 0.55972491, 0.56201348,\n",
       "       0.56431142, 0.56661875, 0.56893551, 0.57126175, 0.5735975 ,\n",
       "       0.5759428 , 0.57829769, 0.58066221, 0.58303639, 0.58542028,\n",
       "       0.58781392, 0.59021735, 0.5926306 , 0.59505372, 0.59748675,\n",
       "       0.59992973, 0.60238269, 0.60484569, 0.60731875, 0.60980193,\n",
       "       0.61229526, 0.61479879, 0.61731255, 0.61983659, 0.62237095,\n",
       "       0.62491567, 0.62747079, 0.63003637, 0.63261243, 0.63519903,\n",
       "       0.6377962 , 0.64040399, 0.64302245, 0.64565161, 0.64829152,\n",
       "       0.65094222, 0.65360377, 0.65627619, 0.65895954, 0.66165387,\n",
       "       0.66435921, 0.66707561, 0.66980312])"
      ]
     },
     "execution_count": 15,
     "metadata": {},
     "output_type": "execute_result"
    }
   ],
   "source": [
    "# Predcted values\n",
    "\n",
    "y_pred"
   ]
  },
  {
   "cell_type": "code",
   "execution_count": 16,
   "id": "9a88227b",
   "metadata": {},
   "outputs": [
    {
     "data": {
      "text/plain": [
       "array([[0.46964986],\n",
       "       [0.47157015],\n",
       "       [0.47349828],\n",
       "       [0.4754343 ],\n",
       "       [0.47737823],\n",
       "       [0.47933012],\n",
       "       [0.48128998],\n",
       "       [0.48325786],\n",
       "       [0.48523378],\n",
       "       [0.48721778],\n",
       "       [0.48920989],\n",
       "       [0.49121015],\n",
       "       [0.49321859],\n",
       "       [0.49523524],\n",
       "       [0.49726014],\n",
       "       [0.49929331],\n",
       "       [0.5013348 ],\n",
       "       [0.50338463],\n",
       "       [0.50544285],\n",
       "       [0.50750948],\n",
       "       [0.50958456],\n",
       "       [0.51166813],\n",
       "       [0.51376021],\n",
       "       [0.51586085],\n",
       "       [0.51797008],\n",
       "       [0.52008793],\n",
       "       [0.52221444],\n",
       "       [0.52434965],\n",
       "       [0.52649359],\n",
       "       [0.52864629],\n",
       "       [0.5308078 ],\n",
       "       [0.53297814],\n",
       "       [0.53515735],\n",
       "       [0.53734548],\n",
       "       [0.53954256],\n",
       "       [0.54174861],\n",
       "       [0.54396369],\n",
       "       [0.54618782],\n",
       "       [0.54842105],\n",
       "       [0.55066341],\n",
       "       [0.55291494],\n",
       "       [0.55517567],\n",
       "       [0.55744565],\n",
       "       [0.55972491],\n",
       "       [0.56201348],\n",
       "       [0.56431142],\n",
       "       [0.56661875],\n",
       "       [0.56893551],\n",
       "       [0.57126175],\n",
       "       [0.5735975 ],\n",
       "       [0.5759428 ],\n",
       "       [0.57829769],\n",
       "       [0.58066221],\n",
       "       [0.58303639],\n",
       "       [0.58542028],\n",
       "       [0.58781392],\n",
       "       [0.59021735],\n",
       "       [0.5926306 ],\n",
       "       [0.59505372],\n",
       "       [0.59748675],\n",
       "       [0.59992973],\n",
       "       [0.60238269],\n",
       "       [0.60484569],\n",
       "       [0.60731875],\n",
       "       [0.60980193],\n",
       "       [0.61229526],\n",
       "       [0.61479879],\n",
       "       [0.61731255],\n",
       "       [0.61983659],\n",
       "       [0.62237095],\n",
       "       [0.62491567],\n",
       "       [0.62747079],\n",
       "       [0.63003637],\n",
       "       [0.63261243],\n",
       "       [0.63519903],\n",
       "       [0.6377962 ],\n",
       "       [0.64040399],\n",
       "       [0.64302245],\n",
       "       [0.64565161],\n",
       "       [0.64829152],\n",
       "       [0.65094222],\n",
       "       [0.65360377],\n",
       "       [0.65627619],\n",
       "       [0.65895954],\n",
       "       [0.66165387],\n",
       "       [0.66435921],\n",
       "       [0.66707561],\n",
       "       [0.66980312]])"
      ]
     },
     "execution_count": 16,
     "metadata": {},
     "output_type": "execute_result"
    }
   ],
   "source": [
    "# Reshape y_pred values\n",
    "\n",
    "y_pred_reshape=y_pred.reshape(-1,1)\n",
    "y_pred_reshape"
   ]
  },
  {
   "cell_type": "code",
   "execution_count": 17,
   "id": "e6250cd9",
   "metadata": {},
   "outputs": [
    {
     "data": {
      "text/plain": [
       "array([[179.23539308],\n",
       "       [179.70670539],\n",
       "       [180.17994478],\n",
       "       [180.65511913],\n",
       "       [181.13223635],\n",
       "       [181.61130439],\n",
       "       [182.09233122],\n",
       "       [182.57532485],\n",
       "       [183.06029332],\n",
       "       [183.54724471],\n",
       "       [184.03618712],\n",
       "       [184.5271287 ],\n",
       "       [185.02007762],\n",
       "       [185.51504208],\n",
       "       [186.01203034],\n",
       "       [186.51105065],\n",
       "       [187.01211134],\n",
       "       [187.51522074],\n",
       "       [188.02038723],\n",
       "       [188.52761923],\n",
       "       [189.03692517],\n",
       "       [189.54831353],\n",
       "       [190.06179284],\n",
       "       [190.57737164],\n",
       "       [191.09505852],\n",
       "       [191.61486208],\n",
       "       [192.136791  ],\n",
       "       [192.66085396],\n",
       "       [193.18705968],\n",
       "       [193.71541693],\n",
       "       [194.2459345 ],\n",
       "       [194.77862123],\n",
       "       [195.31348598],\n",
       "       [195.85053766],\n",
       "       [196.38978521],\n",
       "       [196.93123762],\n",
       "       [197.47490389],\n",
       "       [198.02079308],\n",
       "       [198.56891427],\n",
       "       [199.1192766 ],\n",
       "       [199.67188923],\n",
       "       [200.22676135],\n",
       "       [200.78390221],\n",
       "       [201.34332108],\n",
       "       [201.90502727],\n",
       "       [202.46903015],\n",
       "       [203.03533909],\n",
       "       [203.60396353],\n",
       "       [204.17491294],\n",
       "       [204.74819682],\n",
       "       [205.32382472],\n",
       "       [205.90180622],\n",
       "       [206.48215094],\n",
       "       [207.06486855],\n",
       "       [207.64996874],\n",
       "       [208.23746127],\n",
       "       [208.82735591],\n",
       "       [209.41966249],\n",
       "       [210.01439086],\n",
       "       [210.61155093],\n",
       "       [211.21115264],\n",
       "       [211.81320597],\n",
       "       [212.41772096],\n",
       "       [213.02470765],\n",
       "       [213.63417617],\n",
       "       [214.24613665],\n",
       "       [214.86059929],\n",
       "       [215.47757431],\n",
       "       [216.097072  ],\n",
       "       [216.71910266],\n",
       "       [217.34367664],\n",
       "       [217.97080436],\n",
       "       [218.60049625],\n",
       "       [219.2327628 ],\n",
       "       [219.86761452],\n",
       "       [220.505062  ],\n",
       "       [221.14511585],\n",
       "       [221.78778672],\n",
       "       [222.43308531],\n",
       "       [223.08102237],\n",
       "       [223.73160869],\n",
       "       [224.38485509],\n",
       "       [225.04077245],\n",
       "       [225.69937171],\n",
       "       [226.36066381],\n",
       "       [227.02465977],\n",
       "       [227.69137065],\n",
       "       [228.36080755]])"
      ]
     },
     "execution_count": 17,
     "metadata": {},
     "output_type": "execute_result"
    }
   ],
   "source": [
    "# predicted values -  y_pred\n",
    "# Convert minmax scaler into inverse_transform \n",
    "\n",
    "predicted=Ms.inverse_transform(y_pred_reshape)\n",
    "predicted"
   ]
  },
  {
   "cell_type": "code",
   "execution_count": 35,
   "id": "e2a9b7a6",
   "metadata": {},
   "outputs": [
    {
     "data": {
      "text/html": [
       "<div>\n",
       "<style scoped>\n",
       "    .dataframe tbody tr th:only-of-type {\n",
       "        vertical-align: middle;\n",
       "    }\n",
       "\n",
       "    .dataframe tbody tr th {\n",
       "        vertical-align: top;\n",
       "    }\n",
       "\n",
       "    .dataframe thead th {\n",
       "        text-align: right;\n",
       "    }\n",
       "</style>\n",
       "<table border=\"1\" class=\"dataframe\">\n",
       "  <thead>\n",
       "    <tr style=\"text-align: right;\">\n",
       "      <th></th>\n",
       "      <th>CSUSHPISA</th>\n",
       "    </tr>\n",
       "  </thead>\n",
       "  <tbody>\n",
       "    <tr>\n",
       "      <th>0</th>\n",
       "      <td>179.429</td>\n",
       "    </tr>\n",
       "    <tr>\n",
       "      <th>1</th>\n",
       "      <td>180.084</td>\n",
       "    </tr>\n",
       "    <tr>\n",
       "      <th>2</th>\n",
       "      <td>180.834</td>\n",
       "    </tr>\n",
       "    <tr>\n",
       "      <th>3</th>\n",
       "      <td>181.85</td>\n",
       "    </tr>\n",
       "    <tr>\n",
       "      <th>4</th>\n",
       "      <td>182.823</td>\n",
       "    </tr>\n",
       "    <tr>\n",
       "      <th>...</th>\n",
       "      <td>...</td>\n",
       "    </tr>\n",
       "    <tr>\n",
       "      <th>83</th>\n",
       "      <td>300.198</td>\n",
       "    </tr>\n",
       "    <tr>\n",
       "      <th>84</th>\n",
       "      <td>302.62</td>\n",
       "    </tr>\n",
       "    <tr>\n",
       "      <th>85</th>\n",
       "      <td>304.651</td>\n",
       "    </tr>\n",
       "    <tr>\n",
       "      <th>86</th>\n",
       "      <td>306.634</td>\n",
       "    </tr>\n",
       "    <tr>\n",
       "      <th>87</th>\n",
       "      <td>309.404</td>\n",
       "    </tr>\n",
       "  </tbody>\n",
       "</table>\n",
       "<p>88 rows × 1 columns</p>\n",
       "</div>"
      ],
      "text/plain": [
       "   CSUSHPISA\n",
       "0    179.429\n",
       "1    180.084\n",
       "2    180.834\n",
       "3     181.85\n",
       "4    182.823\n",
       "..       ...\n",
       "83   300.198\n",
       "84    302.62\n",
       "85   304.651\n",
       "86   306.634\n",
       "87   309.404\n",
       "\n",
       "[88 rows x 1 columns]"
      ]
     },
     "execution_count": 35,
     "metadata": {},
     "output_type": "execute_result"
    }
   ],
   "source": [
    "from UserDefinedFns import conversionSingle\n",
    "actual=Ms.inverse_transform(y_test)\n",
    "actual_price=conversionSingle(actual,[column])\n",
    "actual_price"
   ]
  },
  {
   "cell_type": "code",
   "execution_count": 36,
   "id": "0e847477",
   "metadata": {},
   "outputs": [
    {
     "data": {
      "text/html": [
       "<div>\n",
       "<style scoped>\n",
       "    .dataframe tbody tr th:only-of-type {\n",
       "        vertical-align: middle;\n",
       "    }\n",
       "\n",
       "    .dataframe tbody tr th {\n",
       "        vertical-align: top;\n",
       "    }\n",
       "\n",
       "    .dataframe thead th {\n",
       "        text-align: right;\n",
       "    }\n",
       "</style>\n",
       "<table border=\"1\" class=\"dataframe\">\n",
       "  <thead>\n",
       "    <tr style=\"text-align: right;\">\n",
       "      <th></th>\n",
       "      <th>CSUSHPISA</th>\n",
       "    </tr>\n",
       "  </thead>\n",
       "  <tbody>\n",
       "    <tr>\n",
       "      <th>0</th>\n",
       "      <td>179.235393</td>\n",
       "    </tr>\n",
       "    <tr>\n",
       "      <th>1</th>\n",
       "      <td>179.706705</td>\n",
       "    </tr>\n",
       "    <tr>\n",
       "      <th>2</th>\n",
       "      <td>180.179945</td>\n",
       "    </tr>\n",
       "    <tr>\n",
       "      <th>3</th>\n",
       "      <td>180.655119</td>\n",
       "    </tr>\n",
       "    <tr>\n",
       "      <th>4</th>\n",
       "      <td>181.132236</td>\n",
       "    </tr>\n",
       "    <tr>\n",
       "      <th>...</th>\n",
       "      <td>...</td>\n",
       "    </tr>\n",
       "    <tr>\n",
       "      <th>83</th>\n",
       "      <td>225.699372</td>\n",
       "    </tr>\n",
       "    <tr>\n",
       "      <th>84</th>\n",
       "      <td>226.360664</td>\n",
       "    </tr>\n",
       "    <tr>\n",
       "      <th>85</th>\n",
       "      <td>227.02466</td>\n",
       "    </tr>\n",
       "    <tr>\n",
       "      <th>86</th>\n",
       "      <td>227.691371</td>\n",
       "    </tr>\n",
       "    <tr>\n",
       "      <th>87</th>\n",
       "      <td>228.360808</td>\n",
       "    </tr>\n",
       "  </tbody>\n",
       "</table>\n",
       "<p>88 rows × 1 columns</p>\n",
       "</div>"
      ],
      "text/plain": [
       "     CSUSHPISA\n",
       "0   179.235393\n",
       "1   179.706705\n",
       "2   180.179945\n",
       "3   180.655119\n",
       "4   181.132236\n",
       "..         ...\n",
       "83  225.699372\n",
       "84  226.360664\n",
       "85   227.02466\n",
       "86  227.691371\n",
       "87  228.360808\n",
       "\n",
       "[88 rows x 1 columns]"
      ]
     },
     "execution_count": 36,
     "metadata": {},
     "output_type": "execute_result"
    }
   ],
   "source": [
    "from UserDefinedFns import conversionSingle\n",
    "predicted=Ms.inverse_transform(y_pred_reshape)\n",
    "predicted_price=conversionSingle(predicted,[column])\n",
    "predicted_price"
   ]
  },
  {
   "cell_type": "code",
   "execution_count": 20,
   "id": "630a3ae3",
   "metadata": {},
   "outputs": [
    {
     "data": {
      "image/png": "[encoded data removed]",
      "text/plain": [
       "<Figure size 640x480 with 1 Axes>"
      ]
     },
     "metadata": {},
     "output_type": "display_data"
    }
   ],
   "source": [
    "import matplotlib.pyplot as plt\n",
    "\n",
    "plt.title(\"CSUSHPISA\")\n",
    "plt.xlabel(\"Days\")\n",
    "plt.ylabel(\"Prices\")\n",
    "plt.plot(actual_price, label='Actual')\n",
    "plt.plot(predicted_price,color='red', label='Predicted')\n",
    "plt.legend()\n",
    "plt.show()"
   ]
  },
  {
   "cell_type": "markdown",
   "id": "2d8607b8",
   "metadata": {},
   "source": [
    "# Evaluation Metrics"
   ]
  },
  {
   "cell_type": "code",
   "execution_count": 22,
   "id": "2c2eede6",
   "metadata": {},
   "outputs": [
    {
     "name": "stdout",
     "output_type": "stream",
     "text": [
      "rmse : 1790.834764209474\n",
      "mape : 0.11331179033014349\n"
     ]
    }
   ],
   "source": [
    "# Evaluation metrics for actual price and predicted price\n",
    "\n",
    "# rmse - root mean squared error\n",
    "print(\"rmse :\", metrics.mean_squared_error(actual_price,predicted_price))\n",
    "# mape - mean absolute percentage error\n",
    "print(\"mape :\", metrics.mean_absolute_percentage_error(actual_price,predicted_price))"
   ]
  },
  {
   "cell_type": "markdown",
   "id": "42f48373",
   "metadata": {},
   "source": [
    "# CSUSHPISA Forcasted for 5 days"
   ]
  },
  {
   "cell_type": "code",
   "execution_count": 25,
   "id": "15ba7e2e",
   "metadata": {},
   "outputs": [
    {
     "data": {
      "text/plain": [
       "array([0.67254178, 0.67529164, 0.67805274, 0.68082513, 0.68360886])"
      ]
     },
     "execution_count": 25,
     "metadata": {},
     "output_type": "execute_result"
    }
   ],
   "source": [
    "# Time Series Analysis - Forcasting\n",
    "# CSUSHPISA Forecast for 5 days \n",
    "\n",
    "forecast=model_fit.predict(len(data1), len(data1)+4)\n",
    "forecast"
   ]
  },
  {
   "cell_type": "code",
   "execution_count": 33,
   "id": "a2593a7b",
   "metadata": {},
   "outputs": [
    {
     "data": {
      "text/html": [
       "<div>\n",
       "<style scoped>\n",
       "    .dataframe tbody tr th:only-of-type {\n",
       "        vertical-align: middle;\n",
       "    }\n",
       "\n",
       "    .dataframe tbody tr th {\n",
       "        vertical-align: top;\n",
       "    }\n",
       "\n",
       "    .dataframe thead th {\n",
       "        text-align: right;\n",
       "    }\n",
       "</style>\n",
       "<table border=\"1\" class=\"dataframe\">\n",
       "  <thead>\n",
       "    <tr style=\"text-align: right;\">\n",
       "      <th></th>\n",
       "      <th>Predicted_CSUSHPISA</th>\n",
       "    </tr>\n",
       "  </thead>\n",
       "  <tbody>\n",
       "    <tr>\n",
       "      <th>0</th>\n",
       "      <td>229.032982</td>\n",
       "    </tr>\n",
       "    <tr>\n",
       "      <th>1</th>\n",
       "      <td>229.707904</td>\n",
       "    </tr>\n",
       "    <tr>\n",
       "      <th>2</th>\n",
       "      <td>230.385586</td>\n",
       "    </tr>\n",
       "    <tr>\n",
       "      <th>3</th>\n",
       "      <td>231.066039</td>\n",
       "    </tr>\n",
       "    <tr>\n",
       "      <th>4</th>\n",
       "      <td>231.749274</td>\n",
       "    </tr>\n",
       "  </tbody>\n",
       "</table>\n",
       "</div>"
      ],
      "text/plain": [
       "  Predicted_CSUSHPISA\n",
       "0          229.032982\n",
       "1          229.707904\n",
       "2          230.385586\n",
       "3          231.066039\n",
       "4          231.749274"
      ]
     },
     "execution_count": 33,
     "metadata": {},
     "output_type": "execute_result"
    }
   ],
   "source": [
    "from UserDefinedFns import conversionSingle\n",
    "\n",
    "forecastTable=conversionSingle(forecast,[\"Predicted_CSUSHPISA\"])\n",
    "forecast_price=Ms.inverse_transform(forecastTable)\n",
    "Predicted_forecast_price=conversionSingle(forecast_price,[\"Predicted_CSUSHPISA\"])\n",
    "Predicted_forecast_price"
   ]
  },
  {
   "cell_type": "code",
   "execution_count": 34,
   "id": "c3c09f4c",
   "metadata": {},
   "outputs": [],
   "source": [
    "Predicted_forecast_price.to_csv(\"Predicted_CSUSHPISA.csv\",index=False)"
   ]
  },
  {
   "cell_type": "code",
   "execution_count": null,
   "id": "3eb7a510",
   "metadata": {},
   "outputs": [],
   "source": []
  }
 ],
 "metadata": {
  "kernelspec": {
   "display_name": "Python 3 (ipykernel)",
   "language": "python",
   "name": "python3"
  },
  "language_info": {
   "codemirror_mode": {
    "name": "ipython",
    "version": 3
   },
   "file_extension": ".py",
   "mimetype": "text/x-python",
   "name": "python",
   "nbconvert_exporter": "python",
   "pygments_lexer": "ipython3",
   "version": "3.11.5"
  }
 },
 "nbformat": 4,
 "nbformat_minor": 5
}
