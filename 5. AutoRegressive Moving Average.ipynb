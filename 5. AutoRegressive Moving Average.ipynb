{
 "cells": [
  {
   "cell_type": "code",
   "execution_count": 1,
   "id": "5ca48dd0",
   "metadata": {},
   "outputs": [],
   "source": [
    "# import library\n",
    "\n",
    "import pandas as pd"
   ]
  },
  {
   "cell_type": "code",
   "execution_count": 2,
   "id": "e270a4d8",
   "metadata": {},
   "outputs": [
    {
     "data": {
      "text/html": [
       "<div>\n",
       "<style scoped>\n",
       "    .dataframe tbody tr th:only-of-type {\n",
       "        vertical-align: middle;\n",
       "    }\n",
       "\n",
       "    .dataframe tbody tr th {\n",
       "        vertical-align: top;\n",
       "    }\n",
       "\n",
       "    .dataframe thead th {\n",
       "        text-align: right;\n",
       "    }\n",
       "</style>\n",
       "<table border=\"1\" class=\"dataframe\">\n",
       "  <thead>\n",
       "    <tr style=\"text-align: right;\">\n",
       "      <th></th>\n",
       "      <th>DATE</th>\n",
       "      <th>CSUSHPISA</th>\n",
       "    </tr>\n",
       "  </thead>\n",
       "  <tbody>\n",
       "    <tr>\n",
       "      <th>0</th>\n",
       "      <td>1987-01-01</td>\n",
       "      <td>63.965</td>\n",
       "    </tr>\n",
       "    <tr>\n",
       "      <th>1</th>\n",
       "      <td>1987-02-01</td>\n",
       "      <td>64.424</td>\n",
       "    </tr>\n",
       "    <tr>\n",
       "      <th>2</th>\n",
       "      <td>1987-03-01</td>\n",
       "      <td>64.736</td>\n",
       "    </tr>\n",
       "    <tr>\n",
       "      <th>3</th>\n",
       "      <td>1987-04-01</td>\n",
       "      <td>65.132</td>\n",
       "    </tr>\n",
       "    <tr>\n",
       "      <th>4</th>\n",
       "      <td>1987-05-01</td>\n",
       "      <td>65.563</td>\n",
       "    </tr>\n",
       "    <tr>\n",
       "      <th>...</th>\n",
       "      <td>...</td>\n",
       "      <td>...</td>\n",
       "    </tr>\n",
       "    <tr>\n",
       "      <th>435</th>\n",
       "      <td>2023-04-01</td>\n",
       "      <td>300.198</td>\n",
       "    </tr>\n",
       "    <tr>\n",
       "      <th>436</th>\n",
       "      <td>2023-05-01</td>\n",
       "      <td>302.620</td>\n",
       "    </tr>\n",
       "    <tr>\n",
       "      <th>437</th>\n",
       "      <td>2023-06-01</td>\n",
       "      <td>304.651</td>\n",
       "    </tr>\n",
       "    <tr>\n",
       "      <th>438</th>\n",
       "      <td>2023-07-01</td>\n",
       "      <td>306.634</td>\n",
       "    </tr>\n",
       "    <tr>\n",
       "      <th>439</th>\n",
       "      <td>2023-08-01</td>\n",
       "      <td>309.404</td>\n",
       "    </tr>\n",
       "  </tbody>\n",
       "</table>\n",
       "<p>440 rows × 2 columns</p>\n",
       "</div>"
      ],
      "text/plain": [
       "           DATE  CSUSHPISA\n",
       "0    1987-01-01     63.965\n",
       "1    1987-02-01     64.424\n",
       "2    1987-03-01     64.736\n",
       "3    1987-04-01     65.132\n",
       "4    1987-05-01     65.563\n",
       "..          ...        ...\n",
       "435  2023-04-01    300.198\n",
       "436  2023-05-01    302.620\n",
       "437  2023-06-01    304.651\n",
       "438  2023-07-01    306.634\n",
       "439  2023-08-01    309.404\n",
       "\n",
       "[440 rows x 2 columns]"
      ]
     },
     "execution_count": 2,
     "metadata": {},
     "output_type": "execute_result"
    }
   ],
   "source": [
    "# load dataset\n",
    "\n",
    "dataset=pd.read_csv(\"CSUSHPISA.csv\")\n",
    "dataset"
   ]
  },
  {
   "cell_type": "markdown",
   "id": "ae7b312c",
   "metadata": {},
   "source": [
    "# Standardization/ Normalizaton\n",
    "# MinMax Scaler"
   ]
  },
  {
   "cell_type": "code",
   "execution_count": 3,
   "id": "68ec4b6a",
   "metadata": {},
   "outputs": [],
   "source": [
    "# Time Series - Univariate\n",
    "\n",
    "column=\"CSUSHPISA\""
   ]
  },
  {
   "cell_type": "code",
   "execution_count": 4,
   "id": "383f232a",
   "metadata": {},
   "outputs": [
    {
     "name": "stdout",
     "output_type": "stream",
     "text": [
      "Len: (440, 1)\n"
     ]
    }
   ],
   "source": [
    "from sklearn.preprocessing import MinMaxScaler\n",
    "Ms = MinMaxScaler()\n",
    "data1= Ms.fit_transform(dataset[[column]])\n",
    "print(\"Len:\",data1.shape)"
   ]
  },
  {
   "cell_type": "code",
   "execution_count": 5,
   "id": "aad1e5ee",
   "metadata": {},
   "outputs": [
    {
     "data": {
      "text/plain": [
       "440"
      ]
     },
     "execution_count": 5,
     "metadata": {},
     "output_type": "execute_result"
    }
   ],
   "source": [
    "len(data1)"
   ]
  },
  {
   "cell_type": "markdown",
   "id": "1c80b448",
   "metadata": {},
   "source": [
    "# Split Training and Testing data using series of data"
   ]
  },
  {
   "cell_type": "code",
   "execution_count": 6,
   "id": "3017a039",
   "metadata": {},
   "outputs": [
    {
     "name": "stdout",
     "output_type": "stream",
     "text": [
      "352\n",
      "X_train length: (352, 1)\n",
      "X_test length: (88, 1)\n",
      "y_train length: (352, 1)\n",
      "y_test length: (88, 1)\n"
     ]
    }
   ],
   "source": [
    "# x_train, x_test  - input training and testing data\n",
    "# y_train, y_test  - output training and testing data\n",
    "\n",
    "training_size = round(len(data1 ) * 0.80)  # Total -440\n",
    "print(training_size)\n",
    "\n",
    "X_train=data1[:training_size]              # first 0:352\n",
    "X_test=data1[training_size:]               # 88: last\n",
    "print(\"X_train length:\",X_train.shape)\n",
    "print(\"X_test length:\",X_test.shape)\n",
    "\n",
    "y_train=data1[:training_size]\n",
    "y_test=data1[training_size:]\n",
    "print(\"y_train length:\",y_train.shape)\n",
    "print(\"y_test length:\",y_test.shape)"
   ]
  },
  {
   "cell_type": "markdown",
   "id": "83c35725",
   "metadata": {},
   "source": [
    "# Model Creation"
   ]
  },
  {
   "cell_type": "code",
   "execution_count": 7,
   "id": "dc6c8b56",
   "metadata": {},
   "outputs": [
    {
     "name": "stderr",
     "output_type": "stream",
     "text": [
      "ERROR: Could not find a version that satisfies the requirement stockFunctions (from versions: none)\n",
      "ERROR: No matching distribution found for stockFunctions\n"
     ]
    }
   ],
   "source": [
    "# ! pip install stockFunctions"
   ]
  },
  {
   "cell_type": "code",
   "execution_count": 7,
   "id": "e5ee203a",
   "metadata": {},
   "outputs": [],
   "source": [
    "import warnings\n",
    "warnings.filterwarnings(\"ignore\")"
   ]
  },
  {
   "cell_type": "code",
   "execution_count": 17,
   "id": "2c71e42f",
   "metadata": {},
   "outputs": [
    {
     "name": "stderr",
     "output_type": "stream",
     "text": [
      "F:\\Anaconda\\envs\\aiml\\Lib\\site-packages\\statsmodels\\base\\model.py:607: ConvergenceWarning: Maximum Likelihood optimization failed to converge. Check mle_retvals\n",
      "  warnings.warn(\"Maximum Likelihood optimization failed to \"\n"
     ]
    },
    {
     "name": "stdout",
     "output_type": "stream",
     "text": [
      "rmse : 0.1995387670704987\n",
      "mape : 0.49295469875208264\n",
      "************\n",
      "rmse : 0.0790827039019348\n",
      "mape : 0.27779448268742707\n",
      "************\n"
     ]
    },
    {
     "name": "stderr",
     "output_type": "stream",
     "text": [
      "F:\\Anaconda\\envs\\aiml\\Lib\\site-packages\\statsmodels\\base\\model.py:607: ConvergenceWarning: Maximum Likelihood optimization failed to converge. Check mle_retvals\n",
      "  warnings.warn(\"Maximum Likelihood optimization failed to \"\n"
     ]
    },
    {
     "name": "stdout",
     "output_type": "stream",
     "text": [
      "rmse : 0.09324429578244704\n",
      "mape : 0.28549720520785926\n",
      "************\n",
      "rmse : 0.0790827039019348\n",
      "mape : 0.27779448268742707\n",
      "************\n"
     ]
    }
   ],
   "source": [
    "# AutoRegressive Moving Average\n",
    "\n",
    "orders=[(1,0,2),(1,0,1),(2,0,1),(1,0,1)]\n",
    "#orderslist=[]\n",
    "#rscorelist=[]\n",
    "for i in orders:\n",
    "    #orderslist.append(i)\n",
    "    from statsmodels.tsa.arima.model import ARIMA\n",
    "    model = ARIMA(X_train, order=i)\n",
    "    model_fit = model.fit()\n",
    "    # make prediction\n",
    "    y_pred= model_fit.predict(len(X_train), len(data1)-1)\n",
    "    #print(y_pred)    \n",
    "    \n",
    "    from sklearn import metrics\n",
    "      \n",
    "    # rmse - root mean squared error\n",
    "    print(\"rmse :\", metrics.mean_squared_error(y_test,y_pred))\n",
    "    # mape - mean absolute percentage error\n",
    "    print(\"mape :\", metrics.mean_absolute_percentage_error(y_test,y_pred))\n",
    "        \n",
    "        \n",
    "    print(\"************\")"
   ]
  },
  {
   "cell_type": "code",
   "execution_count": 18,
   "id": "cb9f2569",
   "metadata": {},
   "outputs": [
    {
     "data": {
      "text/plain": [
       "88"
      ]
     },
     "execution_count": 18,
     "metadata": {},
     "output_type": "execute_result"
    }
   ],
   "source": [
    "len(y_pred)"
   ]
  },
  {
   "cell_type": "markdown",
   "id": "2511f4c7",
   "metadata": {},
   "source": [
    "# Graph"
   ]
  },
  {
   "cell_type": "code",
   "execution_count": 20,
   "id": "6c79fdd3",
   "metadata": {},
   "outputs": [
    {
     "data": {
      "image/png": "[encoded data removed]",
      "text/plain": [
       "<Figure size 640x480 with 1 Axes>"
      ]
     },
     "metadata": {},
     "output_type": "display_data"
    }
   ],
   "source": [
    "import matplotlib.pyplot as plt\n",
    "\n",
    "# plt.plot(\"Actual \",y_test)\n",
    "# plt.plot(\"Predicted \", y_pred,colors='red')\n",
    "plt.title(\"CSUSHPISA\")\n",
    "plt.xlabel(\"Days\")\n",
    "plt.ylabel(\"Prices\")\n",
    "plt.plot(y_test, label='Actual')\n",
    "plt.plot(y_pred,color='red', label='Predicted')\n",
    "plt.legend()\n",
    "plt.show()"
   ]
  },
  {
   "cell_type": "code",
   "execution_count": null,
   "id": "4b50a8c9",
   "metadata": {},
   "outputs": [],
   "source": []
  },
  {
   "cell_type": "code",
   "execution_count": 22,
   "id": "8600607b",
   "metadata": {},
   "outputs": [
    {
     "data": {
      "text/plain": [
       "440"
      ]
     },
     "execution_count": 22,
     "metadata": {},
     "output_type": "execute_result"
    }
   ],
   "source": [
    "len(data1)"
   ]
  },
  {
   "cell_type": "code",
   "execution_count": 23,
   "id": "c8b2f913",
   "metadata": {},
   "outputs": [
    {
     "data": {
      "text/plain": [
       "array([[0.47043868],\n",
       "       [0.47310737],\n",
       "       [0.47616312],\n",
       "       [0.48030264],\n",
       "       [0.48426697],\n",
       "       [0.48804387],\n",
       "       [0.49215487],\n",
       "       [0.49609068],\n",
       "       [0.50049096],\n",
       "       [0.50256072],\n",
       "       [0.50532719],\n",
       "       [0.5083096 ],\n",
       "       [0.5119439 ],\n",
       "       [0.51559858],\n",
       "       [0.51941623],\n",
       "       [0.52435839],\n",
       "       [0.52882386],\n",
       "       [0.53308561],\n",
       "       [0.53778332],\n",
       "       [0.542754  ],\n",
       "       [0.54738245],\n",
       "       [0.55110231],\n",
       "       [0.55409287],\n",
       "       [0.55692046],\n",
       "       [0.56004954],\n",
       "       [0.56336605],\n",
       "       [0.56609585],\n",
       "       [0.56927791],\n",
       "       [0.57198734],\n",
       "       [0.57511235],\n",
       "       [0.5773899 ],\n",
       "       [0.57938632],\n",
       "       [0.58089383],\n",
       "       [0.5821528 ],\n",
       "       [0.58296359],\n",
       "       [0.58483371],\n",
       "       [0.58740868],\n",
       "       [0.58953141],\n",
       "       [0.59198823],\n",
       "       [0.59541067],\n",
       "       [0.59871496],\n",
       "       [0.60236148],\n",
       "       [0.60642359],\n",
       "       [0.61110907],\n",
       "       [0.61534231],\n",
       "       [0.61877697],\n",
       "       [0.62092821],\n",
       "       [0.62270462],\n",
       "       [0.62346245],\n",
       "       [0.62608224],\n",
       "       [0.63297601],\n",
       "       [0.64561459],\n",
       "       [0.65958548],\n",
       "       [0.67558945],\n",
       "       [0.6896622 ],\n",
       "       [0.70305045],\n",
       "       [0.71542827],\n",
       "       [0.72669788],\n",
       "       [0.7392346 ],\n",
       "       [0.75411813],\n",
       "       [0.77192704],\n",
       "       [0.79211535],\n",
       "       [0.80974091],\n",
       "       [0.82691015],\n",
       "       [0.8410929 ],\n",
       "       [0.85481118],\n",
       "       [0.868998  ],\n",
       "       [0.88587388],\n",
       "       [0.90432246],\n",
       "       [0.92538268],\n",
       "       [0.94682589],\n",
       "       [0.96392586],\n",
       "       [0.97715115],\n",
       "       [0.98105843],\n",
       "       [0.97681705],\n",
       "       [0.96818761],\n",
       "       [0.95915889],\n",
       "       [0.95729285],\n",
       "       [0.95480751],\n",
       "       [0.95138099],\n",
       "       [0.94956384],\n",
       "       [0.95135247],\n",
       "       [0.95573238],\n",
       "       [0.9624917 ],\n",
       "       [0.97235973],\n",
       "       [0.9806347 ],\n",
       "       [0.9887141 ],\n",
       "       [1.        ]])"
      ]
     },
     "execution_count": 23,
     "metadata": {},
     "output_type": "execute_result"
    }
   ],
   "source": [
    "# Actual values\n",
    "\n",
    "y_test"
   ]
  },
  {
   "cell_type": "code",
   "execution_count": 24,
   "id": "6648219f",
   "metadata": {},
   "outputs": [],
   "source": [
    "# actual values -  y_test\n",
    "# Convert minmax scaler into inverse_transform \n",
    "\n",
    "actual=Ms.inverse_transform(y_test)"
   ]
  },
  {
   "cell_type": "code",
   "execution_count": 25,
   "id": "351e5088",
   "metadata": {},
   "outputs": [
    {
     "data": {
      "text/plain": [
       "array([0.46848629, 0.46847399, 0.46846168, 0.46844938, 0.46843708,\n",
       "       0.46842478, 0.46841249, 0.46840019, 0.46838789, 0.4683756 ,\n",
       "       0.4683633 , 0.46835101, 0.46833871, 0.46832642, 0.46831413,\n",
       "       0.46830184, 0.46828955, 0.46827726, 0.46826497, 0.46825269,\n",
       "       0.4682404 , 0.46822811, 0.46821583, 0.46820355, 0.46819126,\n",
       "       0.46817898, 0.4681667 , 0.46815442, 0.46814214, 0.46812987,\n",
       "       0.46811759, 0.46810531, 0.46809304, 0.46808076, 0.46806849,\n",
       "       0.46805622, 0.46804394, 0.46803167, 0.4680194 , 0.46800713,\n",
       "       0.46799487, 0.4679826 , 0.46797033, 0.46795807, 0.4679458 ,\n",
       "       0.46793354, 0.46792127, 0.46790901, 0.46789675, 0.46788449,\n",
       "       0.46787223, 0.46785997, 0.46784772, 0.46783546, 0.4678232 ,\n",
       "       0.46781095, 0.46779869, 0.46778644, 0.46777419, 0.46776194,\n",
       "       0.46774969, 0.46773744, 0.46772519, 0.46771294, 0.46770069,\n",
       "       0.46768845, 0.4676762 , 0.46766396, 0.46765171, 0.46763947,\n",
       "       0.46762723, 0.46761499, 0.46760275, 0.46759051, 0.46757827,\n",
       "       0.46756603, 0.4675538 , 0.46754156, 0.46752933, 0.46751709,\n",
       "       0.46750486, 0.46749263, 0.4674804 , 0.46746817, 0.46745594,\n",
       "       0.46744371, 0.46743148, 0.46741926])"
      ]
     },
     "execution_count": 25,
     "metadata": {},
     "output_type": "execute_result"
    }
   ],
   "source": [
    "# Predcted values\n",
    "\n",
    "y_pred"
   ]
  },
  {
   "cell_type": "code",
   "execution_count": 26,
   "id": "9a88227b",
   "metadata": {},
   "outputs": [
    {
     "data": {
      "text/plain": [
       "array([[0.46848629],\n",
       "       [0.46847399],\n",
       "       [0.46846168],\n",
       "       [0.46844938],\n",
       "       [0.46843708],\n",
       "       [0.46842478],\n",
       "       [0.46841249],\n",
       "       [0.46840019],\n",
       "       [0.46838789],\n",
       "       [0.4683756 ],\n",
       "       [0.4683633 ],\n",
       "       [0.46835101],\n",
       "       [0.46833871],\n",
       "       [0.46832642],\n",
       "       [0.46831413],\n",
       "       [0.46830184],\n",
       "       [0.46828955],\n",
       "       [0.46827726],\n",
       "       [0.46826497],\n",
       "       [0.46825269],\n",
       "       [0.4682404 ],\n",
       "       [0.46822811],\n",
       "       [0.46821583],\n",
       "       [0.46820355],\n",
       "       [0.46819126],\n",
       "       [0.46817898],\n",
       "       [0.4681667 ],\n",
       "       [0.46815442],\n",
       "       [0.46814214],\n",
       "       [0.46812987],\n",
       "       [0.46811759],\n",
       "       [0.46810531],\n",
       "       [0.46809304],\n",
       "       [0.46808076],\n",
       "       [0.46806849],\n",
       "       [0.46805622],\n",
       "       [0.46804394],\n",
       "       [0.46803167],\n",
       "       [0.4680194 ],\n",
       "       [0.46800713],\n",
       "       [0.46799487],\n",
       "       [0.4679826 ],\n",
       "       [0.46797033],\n",
       "       [0.46795807],\n",
       "       [0.4679458 ],\n",
       "       [0.46793354],\n",
       "       [0.46792127],\n",
       "       [0.46790901],\n",
       "       [0.46789675],\n",
       "       [0.46788449],\n",
       "       [0.46787223],\n",
       "       [0.46785997],\n",
       "       [0.46784772],\n",
       "       [0.46783546],\n",
       "       [0.4678232 ],\n",
       "       [0.46781095],\n",
       "       [0.46779869],\n",
       "       [0.46778644],\n",
       "       [0.46777419],\n",
       "       [0.46776194],\n",
       "       [0.46774969],\n",
       "       [0.46773744],\n",
       "       [0.46772519],\n",
       "       [0.46771294],\n",
       "       [0.46770069],\n",
       "       [0.46768845],\n",
       "       [0.4676762 ],\n",
       "       [0.46766396],\n",
       "       [0.46765171],\n",
       "       [0.46763947],\n",
       "       [0.46762723],\n",
       "       [0.46761499],\n",
       "       [0.46760275],\n",
       "       [0.46759051],\n",
       "       [0.46757827],\n",
       "       [0.46756603],\n",
       "       [0.4675538 ],\n",
       "       [0.46754156],\n",
       "       [0.46752933],\n",
       "       [0.46751709],\n",
       "       [0.46750486],\n",
       "       [0.46749263],\n",
       "       [0.4674804 ],\n",
       "       [0.46746817],\n",
       "       [0.46745594],\n",
       "       [0.46744371],\n",
       "       [0.46743148],\n",
       "       [0.46741926]])"
      ]
     },
     "execution_count": 26,
     "metadata": {},
     "output_type": "execute_result"
    }
   ],
   "source": [
    "# Reshape y_pred values\n",
    "\n",
    "y_pred_reshape=y_pred.reshape(-1,1)\n",
    "y_pred_reshape"
   ]
  },
  {
   "cell_type": "code",
   "execution_count": 27,
   "id": "e6250cd9",
   "metadata": {},
   "outputs": [
    {
     "data": {
      "text/plain": [
       "array([[178.94980635],\n",
       "       [178.94678673],\n",
       "       [178.94376734],\n",
       "       [178.94074816],\n",
       "       [178.9377292 ],\n",
       "       [178.93471045],\n",
       "       [178.93169193],\n",
       "       [178.92867363],\n",
       "       [178.92565554],\n",
       "       [178.92263767],\n",
       "       [178.91962002],\n",
       "       [178.91660258],\n",
       "       [178.91358537],\n",
       "       [178.91056837],\n",
       "       [178.90755159],\n",
       "       [178.90453503],\n",
       "       [178.90151869],\n",
       "       [178.89850256],\n",
       "       [178.89548666],\n",
       "       [178.89247097],\n",
       "       [178.8894555 ],\n",
       "       [178.88644024],\n",
       "       [178.88342521],\n",
       "       [178.88041039],\n",
       "       [178.87739579],\n",
       "       [178.87438141],\n",
       "       [178.87136724],\n",
       "       [178.8683533 ],\n",
       "       [178.86533957],\n",
       "       [178.86232606],\n",
       "       [178.85931277],\n",
       "       [178.85629969],\n",
       "       [178.85328684],\n",
       "       [178.8502742 ],\n",
       "       [178.84726178],\n",
       "       [178.84424957],\n",
       "       [178.84123759],\n",
       "       [178.83822582],\n",
       "       [178.83521427],\n",
       "       [178.83220293],\n",
       "       [178.82919182],\n",
       "       [178.82618092],\n",
       "       [178.82317024],\n",
       "       [178.82015978],\n",
       "       [178.81714953],\n",
       "       [178.8141395 ],\n",
       "       [178.81112969],\n",
       "       [178.8081201 ],\n",
       "       [178.80511073],\n",
       "       [178.80210157],\n",
       "       [178.79909263],\n",
       "       [178.79608391],\n",
       "       [178.7930754 ],\n",
       "       [178.79006711],\n",
       "       [178.78705904],\n",
       "       [178.78405119],\n",
       "       [178.78104356],\n",
       "       [178.77803614],\n",
       "       [178.77502894],\n",
       "       [178.77202195],\n",
       "       [178.76901519],\n",
       "       [178.76600864],\n",
       "       [178.76300231],\n",
       "       [178.75999619],\n",
       "       [178.7569903 ],\n",
       "       [178.75398462],\n",
       "       [178.75097915],\n",
       "       [178.74797391],\n",
       "       [178.74496888],\n",
       "       [178.74196407],\n",
       "       [178.73895948],\n",
       "       [178.7359551 ],\n",
       "       [178.73295094],\n",
       "       [178.729947  ],\n",
       "       [178.72694327],\n",
       "       [178.72393976],\n",
       "       [178.72093647],\n",
       "       [178.7179334 ],\n",
       "       [178.71493054],\n",
       "       [178.7119279 ],\n",
       "       [178.70892548],\n",
       "       [178.70592327],\n",
       "       [178.70292129],\n",
       "       [178.69991951],\n",
       "       [178.69691796],\n",
       "       [178.69391662],\n",
       "       [178.6909155 ],\n",
       "       [178.68791459]])"
      ]
     },
     "execution_count": 27,
     "metadata": {},
     "output_type": "execute_result"
    }
   ],
   "source": [
    "# predicted values -  y_pred\n",
    "# Convert minmax scaler into inverse_transform \n",
    "\n",
    "predicted=Ms.inverse_transform(y_pred_reshape)\n",
    "predicted"
   ]
  },
  {
   "cell_type": "code",
   "execution_count": 28,
   "id": "e2a9b7a6",
   "metadata": {},
   "outputs": [
    {
     "data": {
      "text/html": [
       "<div>\n",
       "<style scoped>\n",
       "    .dataframe tbody tr th:only-of-type {\n",
       "        vertical-align: middle;\n",
       "    }\n",
       "\n",
       "    .dataframe tbody tr th {\n",
       "        vertical-align: top;\n",
       "    }\n",
       "\n",
       "    .dataframe thead th {\n",
       "        text-align: right;\n",
       "    }\n",
       "</style>\n",
       "<table border=\"1\" class=\"dataframe\">\n",
       "  <thead>\n",
       "    <tr style=\"text-align: right;\">\n",
       "      <th></th>\n",
       "      <th>CSUSHPISA</th>\n",
       "    </tr>\n",
       "  </thead>\n",
       "  <tbody>\n",
       "    <tr>\n",
       "      <th>0</th>\n",
       "      <td>179.429</td>\n",
       "    </tr>\n",
       "    <tr>\n",
       "      <th>1</th>\n",
       "      <td>180.084</td>\n",
       "    </tr>\n",
       "    <tr>\n",
       "      <th>2</th>\n",
       "      <td>180.834</td>\n",
       "    </tr>\n",
       "    <tr>\n",
       "      <th>3</th>\n",
       "      <td>181.85</td>\n",
       "    </tr>\n",
       "    <tr>\n",
       "      <th>4</th>\n",
       "      <td>182.823</td>\n",
       "    </tr>\n",
       "    <tr>\n",
       "      <th>...</th>\n",
       "      <td>...</td>\n",
       "    </tr>\n",
       "    <tr>\n",
       "      <th>83</th>\n",
       "      <td>300.198</td>\n",
       "    </tr>\n",
       "    <tr>\n",
       "      <th>84</th>\n",
       "      <td>302.62</td>\n",
       "    </tr>\n",
       "    <tr>\n",
       "      <th>85</th>\n",
       "      <td>304.651</td>\n",
       "    </tr>\n",
       "    <tr>\n",
       "      <th>86</th>\n",
       "      <td>306.634</td>\n",
       "    </tr>\n",
       "    <tr>\n",
       "      <th>87</th>\n",
       "      <td>309.404</td>\n",
       "    </tr>\n",
       "  </tbody>\n",
       "</table>\n",
       "<p>88 rows × 1 columns</p>\n",
       "</div>"
      ],
      "text/plain": [
       "   CSUSHPISA\n",
       "0    179.429\n",
       "1    180.084\n",
       "2    180.834\n",
       "3     181.85\n",
       "4    182.823\n",
       "..       ...\n",
       "83   300.198\n",
       "84    302.62\n",
       "85   304.651\n",
       "86   306.634\n",
       "87   309.404\n",
       "\n",
       "[88 rows x 1 columns]"
      ]
     },
     "execution_count": 28,
     "metadata": {},
     "output_type": "execute_result"
    }
   ],
   "source": [
    "from UserDefinedFns import conversionSingle\n",
    "actual=Ms.inverse_transform(y_test)\n",
    "actual_price=conversionSingle(actual,[column])\n",
    "actual_price"
   ]
  },
  {
   "cell_type": "code",
   "execution_count": 29,
   "id": "0e847477",
   "metadata": {},
   "outputs": [
    {
     "data": {
      "text/html": [
       "<div>\n",
       "<style scoped>\n",
       "    .dataframe tbody tr th:only-of-type {\n",
       "        vertical-align: middle;\n",
       "    }\n",
       "\n",
       "    .dataframe tbody tr th {\n",
       "        vertical-align: top;\n",
       "    }\n",
       "\n",
       "    .dataframe thead th {\n",
       "        text-align: right;\n",
       "    }\n",
       "</style>\n",
       "<table border=\"1\" class=\"dataframe\">\n",
       "  <thead>\n",
       "    <tr style=\"text-align: right;\">\n",
       "      <th></th>\n",
       "      <th>CSUSHPISA</th>\n",
       "    </tr>\n",
       "  </thead>\n",
       "  <tbody>\n",
       "    <tr>\n",
       "      <th>0</th>\n",
       "      <td>178.949806</td>\n",
       "    </tr>\n",
       "    <tr>\n",
       "      <th>1</th>\n",
       "      <td>178.946787</td>\n",
       "    </tr>\n",
       "    <tr>\n",
       "      <th>2</th>\n",
       "      <td>178.943767</td>\n",
       "    </tr>\n",
       "    <tr>\n",
       "      <th>3</th>\n",
       "      <td>178.940748</td>\n",
       "    </tr>\n",
       "    <tr>\n",
       "      <th>4</th>\n",
       "      <td>178.937729</td>\n",
       "    </tr>\n",
       "    <tr>\n",
       "      <th>...</th>\n",
       "      <td>...</td>\n",
       "    </tr>\n",
       "    <tr>\n",
       "      <th>83</th>\n",
       "      <td>178.69992</td>\n",
       "    </tr>\n",
       "    <tr>\n",
       "      <th>84</th>\n",
       "      <td>178.696918</td>\n",
       "    </tr>\n",
       "    <tr>\n",
       "      <th>85</th>\n",
       "      <td>178.693917</td>\n",
       "    </tr>\n",
       "    <tr>\n",
       "      <th>86</th>\n",
       "      <td>178.690915</td>\n",
       "    </tr>\n",
       "    <tr>\n",
       "      <th>87</th>\n",
       "      <td>178.687915</td>\n",
       "    </tr>\n",
       "  </tbody>\n",
       "</table>\n",
       "<p>88 rows × 1 columns</p>\n",
       "</div>"
      ],
      "text/plain": [
       "     CSUSHPISA\n",
       "0   178.949806\n",
       "1   178.946787\n",
       "2   178.943767\n",
       "3   178.940748\n",
       "4   178.937729\n",
       "..         ...\n",
       "83   178.69992\n",
       "84  178.696918\n",
       "85  178.693917\n",
       "86  178.690915\n",
       "87  178.687915\n",
       "\n",
       "[88 rows x 1 columns]"
      ]
     },
     "execution_count": 29,
     "metadata": {},
     "output_type": "execute_result"
    }
   ],
   "source": [
    "from UserDefinedFns import conversionSingle\n",
    "predicted=Ms.inverse_transform(y_pred_reshape)\n",
    "predicted_price=conversionSingle(predicted,[column])\n",
    "predicted_price"
   ]
  },
  {
   "cell_type": "code",
   "execution_count": 30,
   "id": "630a3ae3",
   "metadata": {},
   "outputs": [
    {
     "data": {
      "image/png": "[encoded data removed]",
      "text/plain": [
       "<Figure size 640x480 with 1 Axes>"
      ]
     },
     "metadata": {},
     "output_type": "display_data"
    }
   ],
   "source": [
    "import matplotlib.pyplot as plt\n",
    "\n",
    "plt.title(\"CSUSHPISA\")\n",
    "plt.xlabel(\"Days\")\n",
    "plt.ylabel(\"Prices\")\n",
    "plt.plot(actual_price, label='Actual')\n",
    "plt.plot(predicted_price,color='red', label='Predicted')\n",
    "plt.legend()\n",
    "plt.show()"
   ]
  },
  {
   "cell_type": "markdown",
   "id": "2d8607b8",
   "metadata": {},
   "source": [
    "# Evaluation Metrics"
   ]
  },
  {
   "cell_type": "code",
   "execution_count": 31,
   "id": "2c2eede6",
   "metadata": {},
   "outputs": [
    {
     "name": "stdout",
     "output_type": "stream",
     "text": [
      "rmse : 4763.966023047761\n",
      "mape : 0.2070464106675195\n"
     ]
    }
   ],
   "source": [
    "# Evaluation metrics for actual price and predicted price\n",
    "\n",
    "# rmse - root mean squared error\n",
    "print(\"rmse :\", metrics.mean_squared_error(actual_price,predicted_price))\n",
    "# mape - mean absolute percentage error\n",
    "print(\"mape :\", metrics.mean_absolute_percentage_error(actual_price,predicted_price))"
   ]
  },
  {
   "cell_type": "markdown",
   "id": "42f48373",
   "metadata": {},
   "source": [
    "# CSUSHPISA Forcasted for 5 days"
   ]
  },
  {
   "cell_type": "code",
   "execution_count": 32,
   "id": "15ba7e2e",
   "metadata": {},
   "outputs": [
    {
     "data": {
      "text/plain": [
       "array([0.46740703, 0.4673948 , 0.46738258, 0.46737036, 0.46735814])"
      ]
     },
     "execution_count": 32,
     "metadata": {},
     "output_type": "execute_result"
    }
   ],
   "source": [
    "# Time Series Analysis - Forcasting\n",
    "# CSUSHPISA Forecast for 5 days \n",
    "\n",
    "forecast=model_fit.predict(len(data1), len(data1)+4)\n",
    "forecast"
   ]
  },
  {
   "cell_type": "code",
   "execution_count": 33,
   "id": "a2593a7b",
   "metadata": {},
   "outputs": [
    {
     "data": {
      "text/html": [
       "<div>\n",
       "<style scoped>\n",
       "    .dataframe tbody tr th:only-of-type {\n",
       "        vertical-align: middle;\n",
       "    }\n",
       "\n",
       "    .dataframe tbody tr th {\n",
       "        vertical-align: top;\n",
       "    }\n",
       "\n",
       "    .dataframe thead th {\n",
       "        text-align: right;\n",
       "    }\n",
       "</style>\n",
       "<table border=\"1\" class=\"dataframe\">\n",
       "  <thead>\n",
       "    <tr style=\"text-align: right;\">\n",
       "      <th></th>\n",
       "      <th>Predicted_CSUSHPISA</th>\n",
       "    </tr>\n",
       "  </thead>\n",
       "  <tbody>\n",
       "    <tr>\n",
       "      <th>0</th>\n",
       "      <td>178.684914</td>\n",
       "    </tr>\n",
       "    <tr>\n",
       "      <th>1</th>\n",
       "      <td>178.681913</td>\n",
       "    </tr>\n",
       "    <tr>\n",
       "      <th>2</th>\n",
       "      <td>178.678913</td>\n",
       "    </tr>\n",
       "    <tr>\n",
       "      <th>3</th>\n",
       "      <td>178.675913</td>\n",
       "    </tr>\n",
       "    <tr>\n",
       "      <th>4</th>\n",
       "      <td>178.672913</td>\n",
       "    </tr>\n",
       "  </tbody>\n",
       "</table>\n",
       "</div>"
      ],
      "text/plain": [
       "  Predicted_CSUSHPISA\n",
       "0          178.684914\n",
       "1          178.681913\n",
       "2          178.678913\n",
       "3          178.675913\n",
       "4          178.672913"
      ]
     },
     "execution_count": 33,
     "metadata": {},
     "output_type": "execute_result"
    }
   ],
   "source": [
    "from UserDefinedFns import conversionSingle\n",
    "\n",
    "forecastTable=conversionSingle(forecast,[\"Predicted_CSUSHPISA\"])\n",
    "forecast_price=Ms.inverse_transform(forecastTable)\n",
    "Predicted_forecast_price=conversionSingle(forecast_price,[\"Predicted_CSUSHPISA\"])\n",
    "Predicted_forecast_price"
   ]
  },
  {
   "cell_type": "code",
   "execution_count": 34,
   "id": "c3c09f4c",
   "metadata": {},
   "outputs": [],
   "source": [
    "Predicted_forecast_price.to_csv(\"Predicted_CSUSHPISA.csv\",index=False)"
   ]
  },
  {
   "cell_type": "code",
   "execution_count": null,
   "id": "3eb7a510",
   "metadata": {},
   "outputs": [],
   "source": []
  }
 ],
 "metadata": {
  "kernelspec": {
   "display_name": "Python 3 (ipykernel)",
   "language": "python",
   "name": "python3"
  },
  "language_info": {
   "codemirror_mode": {
    "name": "ipython",
    "version": 3
   },
   "file_extension": ".py",
   "mimetype": "text/x-python",
   "name": "python",
   "nbconvert_exporter": "python",
   "pygments_lexer": "ipython3",
   "version": "3.11.5"
  }
 },
 "nbformat": 4,
 "nbformat_minor": 5
}
